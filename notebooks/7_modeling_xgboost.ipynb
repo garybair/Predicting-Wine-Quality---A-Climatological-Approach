{
 "cells": [
  {
   "cell_type": "markdown",
   "id": "2c71c6b2",
   "metadata": {},
   "source": [
    "# Modeling - XGBoost\n",
    "\n",
    "### Summary:\n",
    "This notebook aims to establish the viability of the XGBoost algorithm for the purpose of modeling critical wine ratings using scraped weather data. Supporting these goals, performance metrics, residual plots, and feature importance’s are generated to support comparison across model families."
   ]
  },
  {
   "cell_type": "code",
   "execution_count": 1,
   "id": "c447861a",
   "metadata": {},
   "outputs": [],
   "source": [
    "# general imports\n",
    "import pandas as pd\n",
    "import numpy as np\n",
    "import matplotlib.pyplot as plt\n",
    "import seaborn as sns\n",
    "import os\n",
    "import dill\n",
    "from scipy.stats import uniform, randint\n",
    "\n",
    "# preprocessing packages\n",
    "from sklearn.preprocessing import StandardScaler, MinMaxScaler, RobustScaler, QuantileTransformer\n",
    "from sklearn.impute import SimpleImputer\n",
    "\n",
    "# pipeline tools\n",
    "from sklearn.base import TransformerMixin\n",
    "from sklearn.compose import ColumnTransformer, make_column_transformer\n",
    "from sklearn.pipeline import Pipeline, make_pipeline\n",
    "from sklearn.model_selection import train_test_split, GridSearchCV, StratifiedKFold, RandomizedSearchCV, RepeatedKFold\n",
    "\n",
    "# feature selection tools\n",
    "from sklearn.feature_selection import VarianceThreshold\n",
    "\n",
    "#models\n",
    "from xgboost import XGBRegressor\n",
    "\n",
    "#metrics\n",
    "from sklearn.metrics import mean_squared_error, mean_absolute_error, r2_score, explained_variance_score"
   ]
  },
  {
   "cell_type": "code",
   "execution_count": 2,
   "id": "a148c24f",
   "metadata": {},
   "outputs": [],
   "source": [
    "# establish directory locations\n",
    "current_directory = os.getcwd()\n",
    "parent_directory = os.path.dirname(current_directory)\n",
    "processed_data_folder = parent_directory + '/data/wunderground-com/processed/'\n",
    "models_folder = parent_directory + '/models/'\n",
    "images_folder = parent_directory + '/images/'"
   ]
  },
  {
   "cell_type": "markdown",
   "id": "7ea0d6c4",
   "metadata": {},
   "source": [
    "### Load Data"
   ]
  },
  {
   "cell_type": "code",
   "execution_count": 3,
   "id": "972eecbd",
   "metadata": {},
   "outputs": [],
   "source": [
    "df = pd.read_csv(processed_data_folder + '1678665697.3855994.txt', \n",
    "                 sep = '|')"
   ]
  },
  {
   "cell_type": "code",
   "execution_count": 4,
   "id": "ebc7b946",
   "metadata": {
    "scrolled": false
   },
   "outputs": [
    {
     "data": {
      "text/html": [
       "<div>\n",
       "<style scoped>\n",
       "    .dataframe tbody tr th:only-of-type {\n",
       "        vertical-align: middle;\n",
       "    }\n",
       "\n",
       "    .dataframe tbody tr th {\n",
       "        vertical-align: top;\n",
       "    }\n",
       "\n",
       "    .dataframe thead th {\n",
       "        text-align: right;\n",
       "    }\n",
       "</style>\n",
       "<table border=\"1\" class=\"dataframe\">\n",
       "  <thead>\n",
       "    <tr style=\"text-align: right;\">\n",
       "      <th></th>\n",
       "      <th>Product_Name</th>\n",
       "      <th>Product_Varietal</th>\n",
       "      <th>Product_Origin</th>\n",
       "      <th>Product_Price</th>\n",
       "      <th>Product_Attributes</th>\n",
       "      <th>User_Avg_Rating</th>\n",
       "      <th>User_Rating_Count</th>\n",
       "      <th>Product_Vintage</th>\n",
       "      <th>Critical_Avg_Rating</th>\n",
       "      <th>Critical_Rating_Count</th>\n",
       "      <th>...</th>\n",
       "      <th>Jan_Min_Low_Wind_Speed</th>\n",
       "      <th>Jan_Max_High_Pressure</th>\n",
       "      <th>Jan_Avg_High_Pressure</th>\n",
       "      <th>Jan_Min_High_Pressure</th>\n",
       "      <th>Jan_Avg_Pressure</th>\n",
       "      <th>Jan_Max_Low_Pressure</th>\n",
       "      <th>Jan_Avg_Low_Pressure</th>\n",
       "      <th>Jan_Min_Low_Pressure</th>\n",
       "      <th>Jan_Average_Precipitation</th>\n",
       "      <th>Jan_Total_Precipitation</th>\n",
       "    </tr>\n",
       "  </thead>\n",
       "  <tbody>\n",
       "    <tr>\n",
       "      <th>0</th>\n",
       "      <td>Domaine Taupenot-Merme Nuits-Saint-Georges Les...</td>\n",
       "      <td>Pinot Noir</td>\n",
       "      <td>Nuits-St-Georges, Cote de Nuits, Cote d'Or, Bu...</td>\n",
       "      <td>199.99</td>\n",
       "      <td>Red Wine</td>\n",
       "      <td>0.0</td>\n",
       "      <td>0</td>\n",
       "      <td>2017</td>\n",
       "      <td>93.000000</td>\n",
       "      <td>3</td>\n",
       "      <td>...</td>\n",
       "      <td>0.0</td>\n",
       "      <td>29.8</td>\n",
       "      <td>29.493548</td>\n",
       "      <td>29.1</td>\n",
       "      <td>29.416129</td>\n",
       "      <td>29.8</td>\n",
       "      <td>29.354839</td>\n",
       "      <td>28.7</td>\n",
       "      <td>0.000000</td>\n",
       "      <td>0.00</td>\n",
       "    </tr>\n",
       "    <tr>\n",
       "      <th>1</th>\n",
       "      <td>Domaine de la Romanee-Conti Echezeaux Grand Cru</td>\n",
       "      <td>Pinot Noir</td>\n",
       "      <td>Flagey-Echezeaux, Cote de Nuits, Cote d'Or, Bu...</td>\n",
       "      <td>3,299.99</td>\n",
       "      <td>Red Wine</td>\n",
       "      <td>0.0</td>\n",
       "      <td>0</td>\n",
       "      <td>2018</td>\n",
       "      <td>95.000000</td>\n",
       "      <td>4</td>\n",
       "      <td>...</td>\n",
       "      <td>0.0</td>\n",
       "      <td>29.9</td>\n",
       "      <td>29.384211</td>\n",
       "      <td>28.9</td>\n",
       "      <td>29.252632</td>\n",
       "      <td>29.8</td>\n",
       "      <td>29.157895</td>\n",
       "      <td>28.8</td>\n",
       "      <td>0.000000</td>\n",
       "      <td>0.00</td>\n",
       "    </tr>\n",
       "    <tr>\n",
       "      <th>2</th>\n",
       "      <td>Lincourt Rancho Santa Rosa Pinot Noir</td>\n",
       "      <td>Pinot Noir</td>\n",
       "      <td>Sta. Rita Hills, Santa Barbara, Central Coast,...</td>\n",
       "      <td>40.99</td>\n",
       "      <td>Red Wine</td>\n",
       "      <td>4.0</td>\n",
       "      <td>31</td>\n",
       "      <td>2018</td>\n",
       "      <td>90.666667</td>\n",
       "      <td>3</td>\n",
       "      <td>...</td>\n",
       "      <td>0.0</td>\n",
       "      <td>30.3</td>\n",
       "      <td>30.135484</td>\n",
       "      <td>29.9</td>\n",
       "      <td>30.064516</td>\n",
       "      <td>30.2</td>\n",
       "      <td>30.000000</td>\n",
       "      <td>29.5</td>\n",
       "      <td>0.087742</td>\n",
       "      <td>2.72</td>\n",
       "    </tr>\n",
       "    <tr>\n",
       "      <th>3</th>\n",
       "      <td>Domaine Claude Dugat Gevrey-Chambertin</td>\n",
       "      <td>Pinot Noir</td>\n",
       "      <td>Gevrey-Chambertin, Cote de Nuits, Cote d'Or, B...</td>\n",
       "      <td>179.99</td>\n",
       "      <td>Red Wine</td>\n",
       "      <td>0.0</td>\n",
       "      <td>0</td>\n",
       "      <td>2020</td>\n",
       "      <td>92.000000</td>\n",
       "      <td>3</td>\n",
       "      <td>...</td>\n",
       "      <td>0.0</td>\n",
       "      <td>29.9</td>\n",
       "      <td>29.558065</td>\n",
       "      <td>29.0</td>\n",
       "      <td>29.477419</td>\n",
       "      <td>29.9</td>\n",
       "      <td>29.400000</td>\n",
       "      <td>28.8</td>\n",
       "      <td>0.000000</td>\n",
       "      <td>0.00</td>\n",
       "    </tr>\n",
       "    <tr>\n",
       "      <th>4</th>\n",
       "      <td>Domaine Prieur-Brunet Santenay Maladiere Premi...</td>\n",
       "      <td>Pinot Noir</td>\n",
       "      <td>Santenay, Cote de Beaune, Cote d'Or, Burgundy,...</td>\n",
       "      <td>65.99</td>\n",
       "      <td>Red Wine</td>\n",
       "      <td>0.0</td>\n",
       "      <td>0</td>\n",
       "      <td>2020</td>\n",
       "      <td>92.333333</td>\n",
       "      <td>3</td>\n",
       "      <td>...</td>\n",
       "      <td>0.0</td>\n",
       "      <td>29.9</td>\n",
       "      <td>29.558065</td>\n",
       "      <td>29.0</td>\n",
       "      <td>29.477419</td>\n",
       "      <td>29.9</td>\n",
       "      <td>29.400000</td>\n",
       "      <td>28.8</td>\n",
       "      <td>0.000000</td>\n",
       "      <td>0.00</td>\n",
       "    </tr>\n",
       "  </tbody>\n",
       "</table>\n",
       "<p>5 rows × 456 columns</p>\n",
       "</div>"
      ],
      "text/plain": [
       "                                        Product_Name Product_Varietal  \\\n",
       "0  Domaine Taupenot-Merme Nuits-Saint-Georges Les...       Pinot Noir   \n",
       "1   Domaine de la Romanee-Conti Echezeaux Grand Cru        Pinot Noir   \n",
       "2             Lincourt Rancho Santa Rosa Pinot Noir        Pinot Noir   \n",
       "3            Domaine Claude Dugat Gevrey-Chambertin        Pinot Noir   \n",
       "4  Domaine Prieur-Brunet Santenay Maladiere Premi...       Pinot Noir   \n",
       "\n",
       "                                      Product_Origin Product_Price  \\\n",
       "0  Nuits-St-Georges, Cote de Nuits, Cote d'Or, Bu...        199.99   \n",
       "1  Flagey-Echezeaux, Cote de Nuits, Cote d'Or, Bu...      3,299.99   \n",
       "2  Sta. Rita Hills, Santa Barbara, Central Coast,...         40.99   \n",
       "3  Gevrey-Chambertin, Cote de Nuits, Cote d'Or, B...        179.99   \n",
       "4  Santenay, Cote de Beaune, Cote d'Or, Burgundy,...         65.99   \n",
       "\n",
       "  Product_Attributes  User_Avg_Rating  User_Rating_Count  Product_Vintage  \\\n",
       "0           Red Wine              0.0                  0             2017   \n",
       "1           Red Wine              0.0                  0             2018   \n",
       "2           Red Wine              4.0                 31             2018   \n",
       "3           Red Wine              0.0                  0             2020   \n",
       "4           Red Wine              0.0                  0             2020   \n",
       "\n",
       "   Critical_Avg_Rating  Critical_Rating_Count  ...  Jan_Min_Low_Wind_Speed   \\\n",
       "0            93.000000                      3  ...                      0.0   \n",
       "1            95.000000                      4  ...                      0.0   \n",
       "2            90.666667                      3  ...                      0.0   \n",
       "3            92.000000                      3  ...                      0.0   \n",
       "4            92.333333                      3  ...                      0.0   \n",
       "\n",
       "  Jan_Max_High_Pressure  Jan_Avg_High_Pressure  Jan_Min_High_Pressure  \\\n",
       "0                  29.8              29.493548                   29.1   \n",
       "1                  29.9              29.384211                   28.9   \n",
       "2                  30.3              30.135484                   29.9   \n",
       "3                  29.9              29.558065                   29.0   \n",
       "4                  29.9              29.558065                   29.0   \n",
       "\n",
       "   Jan_Avg_Pressure  Jan_Max_Low_Pressure  Jan_Avg_Low_Pressure  \\\n",
       "0         29.416129                  29.8             29.354839   \n",
       "1         29.252632                  29.8             29.157895   \n",
       "2         30.064516                  30.2             30.000000   \n",
       "3         29.477419                  29.9             29.400000   \n",
       "4         29.477419                  29.9             29.400000   \n",
       "\n",
       "   Jan_Min_Low_Pressure  Jan_Average_Precipitation  Jan_Total_Precipitation  \n",
       "0                  28.7                   0.000000                     0.00  \n",
       "1                  28.8                   0.000000                     0.00  \n",
       "2                  29.5                   0.087742                     2.72  \n",
       "3                  28.8                   0.000000                     0.00  \n",
       "4                  28.8                   0.000000                     0.00  \n",
       "\n",
       "[5 rows x 456 columns]"
      ]
     },
     "execution_count": 4,
     "metadata": {},
     "output_type": "execute_result"
    }
   ],
   "source": [
    "df.head()"
   ]
  },
  {
   "cell_type": "code",
   "execution_count": 5,
   "id": "ccbcc5af",
   "metadata": {},
   "outputs": [
    {
     "data": {
      "text/plain": [
       "Index(['Product_Name', 'Product_Varietal', 'Product_Origin', 'Product_Price',\n",
       "       'Product_Attributes', 'User_Avg_Rating', 'User_Rating_Count',\n",
       "       'Product_Vintage', 'Critical_Avg_Rating', 'Critical_Rating_Count',\n",
       "       ...\n",
       "       'Jan_Min_Low_Wind_Speed ', 'Jan_Max_High_Pressure',\n",
       "       'Jan_Avg_High_Pressure', 'Jan_Min_High_Pressure', 'Jan_Avg_Pressure',\n",
       "       'Jan_Max_Low_Pressure', 'Jan_Avg_Low_Pressure', 'Jan_Min_Low_Pressure',\n",
       "       'Jan_Average_Precipitation', 'Jan_Total_Precipitation'],\n",
       "      dtype='object', length=456)"
      ]
     },
     "execution_count": 5,
     "metadata": {},
     "output_type": "execute_result"
    }
   ],
   "source": [
    "df.columns"
   ]
  },
  {
   "cell_type": "code",
   "execution_count": 6,
   "id": "10ac16fa",
   "metadata": {},
   "outputs": [
    {
     "data": {
      "text/plain": [
       "(1115, 456)"
      ]
     },
     "execution_count": 6,
     "metadata": {},
     "output_type": "execute_result"
    }
   ],
   "source": [
    "df.shape"
   ]
  },
  {
   "cell_type": "markdown",
   "id": "6458ec79",
   "metadata": {},
   "source": [
    "### Missing Data & Data Type Correction"
   ]
  },
  {
   "cell_type": "code",
   "execution_count": 7,
   "id": "338f4fdf",
   "metadata": {},
   "outputs": [
    {
     "data": {
      "text/plain": [
       "0"
      ]
     },
     "execution_count": 7,
     "metadata": {},
     "output_type": "execute_result"
    }
   ],
   "source": [
    "df.isnull().sum().sum()"
   ]
  },
  {
   "cell_type": "markdown",
   "id": "87f45546",
   "metadata": {},
   "source": [
    "### Reduce to Input Data and Assign Predictive and Target Feature"
   ]
  },
  {
   "cell_type": "code",
   "execution_count": 8,
   "id": "adc4ccca",
   "metadata": {},
   "outputs": [],
   "source": [
    "# specifying predictive and target features\n",
    "X = df.drop(columns = ['Product_Name', 'Product_Varietal', 'Product_Origin', 'Product_Price',\n",
    "       'Product_Attributes', 'User_Avg_Rating', 'User_Rating_Count',\n",
    "       'Product_Vintage', 'Critical_Avg_Rating', 'Critical_Rating_Count', 'Appellation_Level', 'Weather_Origin'])\n",
    "y = df[['Critical_Avg_Rating']]"
   ]
  },
  {
   "cell_type": "code",
   "execution_count": 9,
   "id": "b5a8e970",
   "metadata": {},
   "outputs": [
    {
     "data": {
      "text/plain": [
       "Index(['Aug_Max_High_Temperature', 'Aug_Avg_High_Temperature',\n",
       "       'Aug_Min_High_Temperature', 'Aug_Avg_Temperature',\n",
       "       'Aug_Max_Low_Temperature', 'Aug_Avg_Low_Temperature',\n",
       "       'Aug_Min_Low_Temperature', 'Aug_Max_High_ Dew_Point',\n",
       "       'Aug_Avg_High_ Dew_Point', 'Aug_Min_High_ Dew_Point',\n",
       "       ...\n",
       "       'Jan_Min_Low_Wind_Speed ', 'Jan_Max_High_Pressure',\n",
       "       'Jan_Avg_High_Pressure', 'Jan_Min_High_Pressure', 'Jan_Avg_Pressure',\n",
       "       'Jan_Max_Low_Pressure', 'Jan_Avg_Low_Pressure', 'Jan_Min_Low_Pressure',\n",
       "       'Jan_Average_Precipitation', 'Jan_Total_Precipitation'],\n",
       "      dtype='object', length=444)"
      ]
     },
     "execution_count": 9,
     "metadata": {},
     "output_type": "execute_result"
    }
   ],
   "source": [
    "X.columns"
   ]
  },
  {
   "cell_type": "code",
   "execution_count": 10,
   "id": "8aabc3b6",
   "metadata": {},
   "outputs": [
    {
     "name": "stdout",
     "output_type": "stream",
     "text": [
      "<class 'pandas.core.frame.DataFrame'>\n",
      "RangeIndex: 1115 entries, 0 to 1114\n",
      "Data columns (total 1 columns):\n",
      " #   Column               Non-Null Count  Dtype  \n",
      "---  ------               --------------  -----  \n",
      " 0   Critical_Avg_Rating  1115 non-null   float64\n",
      "dtypes: float64(1)\n",
      "memory usage: 8.8 KB\n"
     ]
    }
   ],
   "source": [
    "y.info()"
   ]
  },
  {
   "cell_type": "code",
   "execution_count": 11,
   "id": "367405fb",
   "metadata": {},
   "outputs": [],
   "source": [
    "# create holdout set to approximate real-world performance\n",
    "X_train, X_test, y_train, y_test = train_test_split(X, \n",
    "                                                    y, \n",
    "                                                    test_size=0.2, \n",
    "                                                    random_state=123)"
   ]
  },
  {
   "cell_type": "markdown",
   "id": "9114c644",
   "metadata": {},
   "source": [
    "### XGBoost"
   ]
  },
  {
   "cell_type": "code",
   "execution_count": 12,
   "id": "98cdca34",
   "metadata": {},
   "outputs": [],
   "source": [
    "pipeline = Pipeline([('imputer', SimpleImputer(strategy='median')),\n",
    "                     ('scaler', MinMaxScaler()),\n",
    "                     ('near_zero_variance', VarianceThreshold()),\n",
    "                     ('xgBoost', XGBRegressor(objective = 'reg:squarederror',\n",
    "                                              tree_method = 'gpu_hist'))])"
   ]
  },
  {
   "cell_type": "code",
   "execution_count": 13,
   "id": "a3c86115",
   "metadata": {
    "scrolled": false
   },
   "outputs": [
    {
     "name": "stdout",
     "output_type": "stream",
     "text": [
      "Best parameter (CV score=-3.085):\n",
      "{'near_zero_variance__threshold': 0.0242093943964048, 'xgBoost__colsample_bytree': 0.7860667519543676, 'xgBoost__gamma': 4.994045705758535, 'xgBoost__learning_rate': 0.08286437332627442, 'xgBoost__max_depth': 9, 'xgBoost__n_estimators': 207, 'xgBoost__reg_alpha': 0.18324229598989344, 'xgBoost__reg_lambda': 0.21836717333362343}\n"
     ]
    }
   ],
   "source": [
    "search_space = [{'near_zero_variance__threshold' : uniform(0, 0.05),\n",
    "                 'xgBoost__n_estimators': randint(10, 1000),\n",
    "                 'xgBoost__learning_rate': uniform(0.01, 0.3),\n",
    "                 'xgBoost__max_depth': randint(3, 10),\n",
    "                 'xgBoost__colsample_bytree': uniform(0.3, 0.5),\n",
    "                 'xgBoost__gamma': uniform(2, 7),\n",
    "                 'xgBoost__reg_alpha' : uniform(0.00001, 0.3),\n",
    "                 'xgBoost__reg_lambda' : uniform(0.00001, 0.3)}]\n",
    "\n",
    "kfold = RepeatedKFold(n_splits=5,\n",
    "                      n_repeats=10,\n",
    "                      random_state=123)\n",
    "\n",
    "xgb = RandomizedSearchCV(pipeline,\n",
    "                         param_distributions = search_space,\n",
    "                         n_iter = 200,\n",
    "                         cv = kfold,\n",
    "                         n_jobs = 6,\n",
    "                         scoring = 'neg_mean_squared_error',\n",
    "                         random_state=123)\n",
    "xgb.fit(X_train, y_train)\n",
    "\n",
    "print(\"Best parameter (CV score=%0.3f):\" % xgb.best_score_)\n",
    "print(xgb.best_params_)"
   ]
  },
  {
   "cell_type": "markdown",
   "id": "86716459",
   "metadata": {},
   "source": [
    "### Holdout Performance"
   ]
  },
  {
   "cell_type": "code",
   "execution_count": 14,
   "id": "0f977f33",
   "metadata": {},
   "outputs": [
    {
     "name": "stdout",
     "output_type": "stream",
     "text": [
      "Mean Squared Error (MSE): 2.9016382407168315\n"
     ]
    }
   ],
   "source": [
    "# Calculate Mean Squared Error (MSE)\n",
    "mse = mean_squared_error(y_test, xgb.predict(X_test))\n",
    "print(\"Mean Squared Error (MSE):\", mse)"
   ]
  },
  {
   "cell_type": "code",
   "execution_count": 15,
   "id": "cdc518f1",
   "metadata": {},
   "outputs": [
    {
     "name": "stdout",
     "output_type": "stream",
     "text": [
      "Root Mean Squared Error (RMSE): 1.70341957271743\n"
     ]
    }
   ],
   "source": [
    "# Calculate Root Mean Squared Error (RMSE)\n",
    "rmse = mean_squared_error(y_test, xgb.predict(X_test), squared=False)\n",
    "print(\"Root Mean Squared Error (RMSE):\", rmse)"
   ]
  },
  {
   "cell_type": "code",
   "execution_count": 16,
   "id": "5c0b1de1",
   "metadata": {},
   "outputs": [
    {
     "name": "stdout",
     "output_type": "stream",
     "text": [
      "Mean Absolute Error (MAE): 1.358354898632376\n"
     ]
    }
   ],
   "source": [
    "# Calculate Mean Absolute Error (MAE)\n",
    "mae = mean_absolute_error(y_test, xgb.predict(X_test))\n",
    "print(\"Mean Absolute Error (MAE):\", mae)"
   ]
  },
  {
   "cell_type": "code",
   "execution_count": 17,
   "id": "fe43700c",
   "metadata": {},
   "outputs": [
    {
     "name": "stdout",
     "output_type": "stream",
     "text": [
      "R-squared (R2): 0.12333770893150242\n"
     ]
    }
   ],
   "source": [
    "# Calculate R-squared (R2)\n",
    "r2 = r2_score(y_test, xgb.predict(X_test))\n",
    "print(\"R-squared (R2):\", r2)"
   ]
  },
  {
   "cell_type": "code",
   "execution_count": 18,
   "id": "447b0080",
   "metadata": {},
   "outputs": [
    {
     "name": "stdout",
     "output_type": "stream",
     "text": [
      "Explained Variance Score (EVS): 0.12721976920834832\n"
     ]
    }
   ],
   "source": [
    "# Calculate Explained Variance Score (EVS)\n",
    "evs = explained_variance_score(y_test, xgb.predict(X_test))\n",
    "print(\"Explained Variance Score (EVS):\", evs)"
   ]
  },
  {
   "cell_type": "markdown",
   "id": "470999b8",
   "metadata": {},
   "source": [
    "### Error Distributions"
   ]
  },
  {
   "cell_type": "code",
   "execution_count": 19,
   "id": "fe6f73a6",
   "metadata": {},
   "outputs": [],
   "source": [
    "error_df = pd.DataFrame(y_test, columns = ['Critical_Avg_Rating'])\n",
    "error_df['y_pred'] = xgb.predict(X_test)\n",
    "error_df['residual'] = error_df['Critical_Avg_Rating'] - error_df['y_pred']"
   ]
  },
  {
   "cell_type": "code",
   "execution_count": 20,
   "id": "c13a46aa",
   "metadata": {},
   "outputs": [
    {
     "data": {
      "text/html": [
       "<div>\n",
       "<style scoped>\n",
       "    .dataframe tbody tr th:only-of-type {\n",
       "        vertical-align: middle;\n",
       "    }\n",
       "\n",
       "    .dataframe tbody tr th {\n",
       "        vertical-align: top;\n",
       "    }\n",
       "\n",
       "    .dataframe thead th {\n",
       "        text-align: right;\n",
       "    }\n",
       "</style>\n",
       "<table border=\"1\" class=\"dataframe\">\n",
       "  <thead>\n",
       "    <tr style=\"text-align: right;\">\n",
       "      <th></th>\n",
       "      <th>Critical_Avg_Rating</th>\n",
       "      <th>y_pred</th>\n",
       "      <th>residual</th>\n",
       "    </tr>\n",
       "  </thead>\n",
       "  <tbody>\n",
       "    <tr>\n",
       "      <th>1014</th>\n",
       "      <td>92.000000</td>\n",
       "      <td>92.147766</td>\n",
       "      <td>-0.147766</td>\n",
       "    </tr>\n",
       "    <tr>\n",
       "      <th>742</th>\n",
       "      <td>93.750000</td>\n",
       "      <td>93.065399</td>\n",
       "      <td>0.684601</td>\n",
       "    </tr>\n",
       "    <tr>\n",
       "      <th>85</th>\n",
       "      <td>91.666667</td>\n",
       "      <td>93.233154</td>\n",
       "      <td>-1.566488</td>\n",
       "    </tr>\n",
       "    <tr>\n",
       "      <th>857</th>\n",
       "      <td>92.000000</td>\n",
       "      <td>93.119728</td>\n",
       "      <td>-1.119728</td>\n",
       "    </tr>\n",
       "    <tr>\n",
       "      <th>888</th>\n",
       "      <td>91.666667</td>\n",
       "      <td>93.209534</td>\n",
       "      <td>-1.542867</td>\n",
       "    </tr>\n",
       "  </tbody>\n",
       "</table>\n",
       "</div>"
      ],
      "text/plain": [
       "      Critical_Avg_Rating     y_pred  residual\n",
       "1014            92.000000  92.147766 -0.147766\n",
       "742             93.750000  93.065399  0.684601\n",
       "85              91.666667  93.233154 -1.566488\n",
       "857             92.000000  93.119728 -1.119728\n",
       "888             91.666667  93.209534 -1.542867"
      ]
     },
     "execution_count": 20,
     "metadata": {},
     "output_type": "execute_result"
    }
   ],
   "source": [
    "error_df.head()"
   ]
  },
  {
   "cell_type": "code",
   "execution_count": 21,
   "id": "81afb949",
   "metadata": {},
   "outputs": [
    {
     "data": {
      "image/png": "[encoded data removed]",
      "text/plain": [
       "<Figure size 640x480 with 1 Axes>"
      ]
     },
     "metadata": {},
     "output_type": "display_data"
    }
   ],
   "source": [
    "sns.residplot(data = error_df, \n",
    "              x = 'y_pred', \n",
    "              y = 'residual')\n",
    "plt.title('XGBoost - Residual Plot')\n",
    "plt.xlabel('Predicted Values')\n",
    "plt.ylabel('Residuals')\n",
    "plt.show()"
   ]
  },
  {
   "cell_type": "markdown",
   "id": "d6c2cc45",
   "metadata": {},
   "source": [
    "### Feature Importance"
   ]
  },
  {
   "cell_type": "code",
   "execution_count": 22,
   "id": "cf7bd0cb",
   "metadata": {},
   "outputs": [],
   "source": [
    "xgb_best_pipeline = xgb.best_estimator_\n",
    "importances = np.abs(xgb_best_pipeline.named_steps['xgBoost'].feature_importances_)\n",
    "indices = np.argsort(importances)[::-1]"
   ]
  },
  {
   "cell_type": "code",
   "execution_count": 23,
   "id": "803e9406",
   "metadata": {
    "scrolled": false
   },
   "outputs": [
    {
     "name": "stdout",
     "output_type": "stream",
     "text": [
      "Apr_Total_Precipitation = 0.028329087\n",
      "Jun_Min_High_Wind_Speed  = 0.026587388\n",
      "Aug_Min_Low_Temperature = 0.023536831\n",
      "Aug_Avg_Pressure = 0.020574357\n",
      "Oct_Avg_High_Humidity = 0.020106379\n",
      "Oct_Min_High_Temperature = 0.017664114\n",
      "Feb_Max_Low_Humidity = 0.016557539\n",
      "Apr_Min_Low_Wind_Speed  = 0.016349664\n",
      "Aug_Min_High_Temperature = 0.016166145\n",
      "Oct_Avg_High_ Dew_Point = 0.01600692\n"
     ]
    }
   ],
   "source": [
    "n = 10\n",
    "top_n_indices = indices[:n]\n",
    "top_n_features = X.columns[top_n_indices]\n",
    "\n",
    "for feature, importance in zip(top_n_features, importances[top_n_indices]):\n",
    "    print(feature, \"=\", importance)"
   ]
  },
  {
   "cell_type": "markdown",
   "id": "002d870b",
   "metadata": {},
   "source": [
    "### Write Pipeline to File"
   ]
  },
  {
   "cell_type": "code",
   "execution_count": 24,
   "id": "95bcc9ee",
   "metadata": {},
   "outputs": [],
   "source": [
    "with open(models_folder + 'xgb_best_cv.pkl', 'wb') as f:\n",
    "    dill.dump(xgb_best_pipeline, f)"
   ]
  },
  {
   "cell_type": "code",
   "execution_count": null,
   "id": "4ba3807c",
   "metadata": {},
   "outputs": [],
   "source": []
  }
 ],
 "metadata": {
  "kernelspec": {
   "display_name": "Python 3 (ipykernel)",
   "language": "python",
   "name": "python3"
  },
  "language_info": {
   "codemirror_mode": {
    "name": "ipython",
    "version": 3
   },
   "file_extension": ".py",
   "mimetype": "text/x-python",
   "name": "python",
   "nbconvert_exporter": "python",
   "pygments_lexer": "ipython3",
   "version": "3.9.13"
  }
 },
 "nbformat": 4,
 "nbformat_minor": 5
}
