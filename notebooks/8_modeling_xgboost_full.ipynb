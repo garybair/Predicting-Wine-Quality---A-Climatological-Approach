{
 "cells": [
  {
   "cell_type": "code",
   "execution_count": 2,
   "metadata": {},
   "outputs": [],
   "source": [
    "#imports\n",
    "import numpy as np\n",
    "import pandas as pd\n",
    "import os\n",
    "import re\n",
    "import string\n",
    "import time\n",
    "from sklearn.model_selection import cross_val_score\n",
    "from sklearn.preprocessing import OneHotEncoder\n",
    "import xgboost as xgb\n",
    "import matplotlib.pyplot as plt\n",
    "import seaborn as sns\n",
    "import json\n",
    "from sklearn.model_selection import train_test_split\n",
    "from sklearn.metrics import mean_squared_error"
   ]
  },
  {
   "cell_type": "markdown",
   "metadata": {},
   "source": [
    "retiveing data from the folders "
   ]
  },
  {
   "cell_type": "code",
   "execution_count": 119,
   "metadata": {},
   "outputs": [],
   "source": [
    "#set directory locations\n",
    "current_directory = os.getcwd()\n",
    "parent_directory = os.path.dirname(current_directory)\n",
    "wine_processed_folder = parent_directory + '/data/wine-com/processed/'\n",
    "wunderground_raw_folder = parent_directory + '/data/wunderground-com/raw/'\n",
    "wunderground_processed_folder = parent_directory + '/data/wunderground-com/processed/'"
   ]
  },
  {
   "cell_type": "code",
   "execution_count": 120,
   "metadata": {},
   "outputs": [
    {
     "ename": "FileNotFoundError",
     "evalue": "[Errno 2] No such file or directory: '/Users/georgegarcia/Documents/GitHub/Wine-Rating-Projections-Using-Historic-Weather-Patterns/notebooks/data/wunderground-com/processed/1678665697.3855995.txt'",
     "output_type": "error",
     "traceback": [
      "\u001b[0;31m---------------------------------------------------------------------------\u001b[0m",
      "\u001b[0;31mFileNotFoundError\u001b[0m                         Traceback (most recent call last)",
      "\u001b[1;32m/Users/georgegarcia/Documents/GitHub/Wine-Rating-Projections-Using-Historic-Weather-Patterns/notebooks/.ipynb_checkpoints/5_XGBoost.ipynb Cell 4'\u001b[0m in \u001b[0;36m<cell line: 1>\u001b[0;34m()\u001b[0m\n\u001b[0;32m----> <a href='vscode-notebook-cell:/Users/georgegarcia/Documents/GitHub/Wine-Rating-Projections-Using-Historic-Weather-Patterns/notebooks/.ipynb_checkpoints/5_XGBoost.ipynb#ch0000006?line=0'>1</a>\u001b[0m df \u001b[39m=\u001b[39m pd\u001b[39m.\u001b[39;49mread_csv(wunderground_processed_folder \u001b[39m+\u001b[39;49m \u001b[39m'\u001b[39;49m\u001b[39m1678665697.3855995.txt\u001b[39;49m\u001b[39m'\u001b[39;49m,\n\u001b[1;32m      <a href='vscode-notebook-cell:/Users/georgegarcia/Documents/GitHub/Wine-Rating-Projections-Using-Historic-Weather-Patterns/notebooks/.ipynb_checkpoints/5_XGBoost.ipynb#ch0000006?line=1'>2</a>\u001b[0m           sep \u001b[39m=\u001b[39;49m \u001b[39m'\u001b[39;49m\u001b[39m|\u001b[39;49m\u001b[39m'\u001b[39;49m)\n",
      "File \u001b[0;32m~/Library/Python/3.9/lib/python/site-packages/pandas/util/_decorators.py:311\u001b[0m, in \u001b[0;36mdeprecate_nonkeyword_arguments.<locals>.decorate.<locals>.wrapper\u001b[0;34m(*args, **kwargs)\u001b[0m\n\u001b[1;32m    <a href='file:///~/Library/Python/3.9/lib/python/site-packages/pandas/util/_decorators.py?line=304'>305</a>\u001b[0m \u001b[39mif\u001b[39;00m \u001b[39mlen\u001b[39m(args) \u001b[39m>\u001b[39m num_allow_args:\n\u001b[1;32m    <a href='file:///~/Library/Python/3.9/lib/python/site-packages/pandas/util/_decorators.py?line=305'>306</a>\u001b[0m     warnings\u001b[39m.\u001b[39mwarn(\n\u001b[1;32m    <a href='file:///~/Library/Python/3.9/lib/python/site-packages/pandas/util/_decorators.py?line=306'>307</a>\u001b[0m         msg\u001b[39m.\u001b[39mformat(arguments\u001b[39m=\u001b[39marguments),\n\u001b[1;32m    <a href='file:///~/Library/Python/3.9/lib/python/site-packages/pandas/util/_decorators.py?line=307'>308</a>\u001b[0m         \u001b[39mFutureWarning\u001b[39;00m,\n\u001b[1;32m    <a href='file:///~/Library/Python/3.9/lib/python/site-packages/pandas/util/_decorators.py?line=308'>309</a>\u001b[0m         stacklevel\u001b[39m=\u001b[39mstacklevel,\n\u001b[1;32m    <a href='file:///~/Library/Python/3.9/lib/python/site-packages/pandas/util/_decorators.py?line=309'>310</a>\u001b[0m     )\n\u001b[0;32m--> <a href='file:///~/Library/Python/3.9/lib/python/site-packages/pandas/util/_decorators.py?line=310'>311</a>\u001b[0m \u001b[39mreturn\u001b[39;00m func(\u001b[39m*\u001b[39;49margs, \u001b[39m*\u001b[39;49m\u001b[39m*\u001b[39;49mkwargs)\n",
      "File \u001b[0;32m~/Library/Python/3.9/lib/python/site-packages/pandas/io/parsers/readers.py:586\u001b[0m, in \u001b[0;36mread_csv\u001b[0;34m(filepath_or_buffer, sep, delimiter, header, names, index_col, usecols, squeeze, prefix, mangle_dupe_cols, dtype, engine, converters, true_values, false_values, skipinitialspace, skiprows, skipfooter, nrows, na_values, keep_default_na, na_filter, verbose, skip_blank_lines, parse_dates, infer_datetime_format, keep_date_col, date_parser, dayfirst, cache_dates, iterator, chunksize, compression, thousands, decimal, lineterminator, quotechar, quoting, doublequote, escapechar, comment, encoding, encoding_errors, dialect, error_bad_lines, warn_bad_lines, on_bad_lines, delim_whitespace, low_memory, memory_map, float_precision, storage_options)\u001b[0m\n\u001b[1;32m    <a href='file:///~/Library/Python/3.9/lib/python/site-packages/pandas/io/parsers/readers.py?line=570'>571</a>\u001b[0m kwds_defaults \u001b[39m=\u001b[39m _refine_defaults_read(\n\u001b[1;32m    <a href='file:///~/Library/Python/3.9/lib/python/site-packages/pandas/io/parsers/readers.py?line=571'>572</a>\u001b[0m     dialect,\n\u001b[1;32m    <a href='file:///~/Library/Python/3.9/lib/python/site-packages/pandas/io/parsers/readers.py?line=572'>573</a>\u001b[0m     delimiter,\n\u001b[0;32m   (...)\u001b[0m\n\u001b[1;32m    <a href='file:///~/Library/Python/3.9/lib/python/site-packages/pandas/io/parsers/readers.py?line=581'>582</a>\u001b[0m     defaults\u001b[39m=\u001b[39m{\u001b[39m\"\u001b[39m\u001b[39mdelimiter\u001b[39m\u001b[39m\"\u001b[39m: \u001b[39m\"\u001b[39m\u001b[39m,\u001b[39m\u001b[39m\"\u001b[39m},\n\u001b[1;32m    <a href='file:///~/Library/Python/3.9/lib/python/site-packages/pandas/io/parsers/readers.py?line=582'>583</a>\u001b[0m )\n\u001b[1;32m    <a href='file:///~/Library/Python/3.9/lib/python/site-packages/pandas/io/parsers/readers.py?line=583'>584</a>\u001b[0m kwds\u001b[39m.\u001b[39mupdate(kwds_defaults)\n\u001b[0;32m--> <a href='file:///~/Library/Python/3.9/lib/python/site-packages/pandas/io/parsers/readers.py?line=585'>586</a>\u001b[0m \u001b[39mreturn\u001b[39;00m _read(filepath_or_buffer, kwds)\n",
      "File \u001b[0;32m~/Library/Python/3.9/lib/python/site-packages/pandas/io/parsers/readers.py:482\u001b[0m, in \u001b[0;36m_read\u001b[0;34m(filepath_or_buffer, kwds)\u001b[0m\n\u001b[1;32m    <a href='file:///~/Library/Python/3.9/lib/python/site-packages/pandas/io/parsers/readers.py?line=478'>479</a>\u001b[0m _validate_names(kwds\u001b[39m.\u001b[39mget(\u001b[39m\"\u001b[39m\u001b[39mnames\u001b[39m\u001b[39m\"\u001b[39m, \u001b[39mNone\u001b[39;00m))\n\u001b[1;32m    <a href='file:///~/Library/Python/3.9/lib/python/site-packages/pandas/io/parsers/readers.py?line=480'>481</a>\u001b[0m \u001b[39m# Create the parser.\u001b[39;00m\n\u001b[0;32m--> <a href='file:///~/Library/Python/3.9/lib/python/site-packages/pandas/io/parsers/readers.py?line=481'>482</a>\u001b[0m parser \u001b[39m=\u001b[39m TextFileReader(filepath_or_buffer, \u001b[39m*\u001b[39;49m\u001b[39m*\u001b[39;49mkwds)\n\u001b[1;32m    <a href='file:///~/Library/Python/3.9/lib/python/site-packages/pandas/io/parsers/readers.py?line=483'>484</a>\u001b[0m \u001b[39mif\u001b[39;00m chunksize \u001b[39mor\u001b[39;00m iterator:\n\u001b[1;32m    <a href='file:///~/Library/Python/3.9/lib/python/site-packages/pandas/io/parsers/readers.py?line=484'>485</a>\u001b[0m     \u001b[39mreturn\u001b[39;00m parser\n",
      "File \u001b[0;32m~/Library/Python/3.9/lib/python/site-packages/pandas/io/parsers/readers.py:811\u001b[0m, in \u001b[0;36mTextFileReader.__init__\u001b[0;34m(self, f, engine, **kwds)\u001b[0m\n\u001b[1;32m    <a href='file:///~/Library/Python/3.9/lib/python/site-packages/pandas/io/parsers/readers.py?line=807'>808</a>\u001b[0m \u001b[39mif\u001b[39;00m \u001b[39m\"\u001b[39m\u001b[39mhas_index_names\u001b[39m\u001b[39m\"\u001b[39m \u001b[39min\u001b[39;00m kwds:\n\u001b[1;32m    <a href='file:///~/Library/Python/3.9/lib/python/site-packages/pandas/io/parsers/readers.py?line=808'>809</a>\u001b[0m     \u001b[39mself\u001b[39m\u001b[39m.\u001b[39moptions[\u001b[39m\"\u001b[39m\u001b[39mhas_index_names\u001b[39m\u001b[39m\"\u001b[39m] \u001b[39m=\u001b[39m kwds[\u001b[39m\"\u001b[39m\u001b[39mhas_index_names\u001b[39m\u001b[39m\"\u001b[39m]\n\u001b[0;32m--> <a href='file:///~/Library/Python/3.9/lib/python/site-packages/pandas/io/parsers/readers.py?line=810'>811</a>\u001b[0m \u001b[39mself\u001b[39m\u001b[39m.\u001b[39m_engine \u001b[39m=\u001b[39m \u001b[39mself\u001b[39;49m\u001b[39m.\u001b[39;49m_make_engine(\u001b[39mself\u001b[39;49m\u001b[39m.\u001b[39;49mengine)\n",
      "File \u001b[0;32m~/Library/Python/3.9/lib/python/site-packages/pandas/io/parsers/readers.py:1040\u001b[0m, in \u001b[0;36mTextFileReader._make_engine\u001b[0;34m(self, engine)\u001b[0m\n\u001b[1;32m   <a href='file:///~/Library/Python/3.9/lib/python/site-packages/pandas/io/parsers/readers.py?line=1035'>1036</a>\u001b[0m     \u001b[39mraise\u001b[39;00m \u001b[39mValueError\u001b[39;00m(\n\u001b[1;32m   <a href='file:///~/Library/Python/3.9/lib/python/site-packages/pandas/io/parsers/readers.py?line=1036'>1037</a>\u001b[0m         \u001b[39mf\u001b[39m\u001b[39m\"\u001b[39m\u001b[39mUnknown engine: \u001b[39m\u001b[39m{\u001b[39;00mengine\u001b[39m}\u001b[39;00m\u001b[39m (valid options are \u001b[39m\u001b[39m{\u001b[39;00mmapping\u001b[39m.\u001b[39mkeys()\u001b[39m}\u001b[39;00m\u001b[39m)\u001b[39m\u001b[39m\"\u001b[39m\n\u001b[1;32m   <a href='file:///~/Library/Python/3.9/lib/python/site-packages/pandas/io/parsers/readers.py?line=1037'>1038</a>\u001b[0m     )\n\u001b[1;32m   <a href='file:///~/Library/Python/3.9/lib/python/site-packages/pandas/io/parsers/readers.py?line=1038'>1039</a>\u001b[0m \u001b[39m# error: Too many arguments for \"ParserBase\"\u001b[39;00m\n\u001b[0;32m-> <a href='file:///~/Library/Python/3.9/lib/python/site-packages/pandas/io/parsers/readers.py?line=1039'>1040</a>\u001b[0m \u001b[39mreturn\u001b[39;00m mapping[engine](\u001b[39mself\u001b[39;49m\u001b[39m.\u001b[39;49mf, \u001b[39m*\u001b[39;49m\u001b[39m*\u001b[39;49m\u001b[39mself\u001b[39;49m\u001b[39m.\u001b[39;49moptions)\n",
      "File \u001b[0;32m~/Library/Python/3.9/lib/python/site-packages/pandas/io/parsers/c_parser_wrapper.py:51\u001b[0m, in \u001b[0;36mCParserWrapper.__init__\u001b[0;34m(self, src, **kwds)\u001b[0m\n\u001b[1;32m     <a href='file:///~/Library/Python/3.9/lib/python/site-packages/pandas/io/parsers/c_parser_wrapper.py?line=47'>48</a>\u001b[0m kwds[\u001b[39m\"\u001b[39m\u001b[39musecols\u001b[39m\u001b[39m\"\u001b[39m] \u001b[39m=\u001b[39m \u001b[39mself\u001b[39m\u001b[39m.\u001b[39musecols\n\u001b[1;32m     <a href='file:///~/Library/Python/3.9/lib/python/site-packages/pandas/io/parsers/c_parser_wrapper.py?line=49'>50</a>\u001b[0m \u001b[39m# open handles\u001b[39;00m\n\u001b[0;32m---> <a href='file:///~/Library/Python/3.9/lib/python/site-packages/pandas/io/parsers/c_parser_wrapper.py?line=50'>51</a>\u001b[0m \u001b[39mself\u001b[39;49m\u001b[39m.\u001b[39;49m_open_handles(src, kwds)\n\u001b[1;32m     <a href='file:///~/Library/Python/3.9/lib/python/site-packages/pandas/io/parsers/c_parser_wrapper.py?line=51'>52</a>\u001b[0m \u001b[39massert\u001b[39;00m \u001b[39mself\u001b[39m\u001b[39m.\u001b[39mhandles \u001b[39mis\u001b[39;00m \u001b[39mnot\u001b[39;00m \u001b[39mNone\u001b[39;00m\n\u001b[1;32m     <a href='file:///~/Library/Python/3.9/lib/python/site-packages/pandas/io/parsers/c_parser_wrapper.py?line=53'>54</a>\u001b[0m \u001b[39m# Have to pass int, would break tests using TextReader directly otherwise :(\u001b[39;00m\n",
      "File \u001b[0;32m~/Library/Python/3.9/lib/python/site-packages/pandas/io/parsers/base_parser.py:222\u001b[0m, in \u001b[0;36mParserBase._open_handles\u001b[0;34m(self, src, kwds)\u001b[0m\n\u001b[1;32m    <a href='file:///~/Library/Python/3.9/lib/python/site-packages/pandas/io/parsers/base_parser.py?line=217'>218</a>\u001b[0m \u001b[39mdef\u001b[39;00m \u001b[39m_open_handles\u001b[39m(\u001b[39mself\u001b[39m, src: FilePathOrBuffer, kwds: \u001b[39mdict\u001b[39m[\u001b[39mstr\u001b[39m, Any]) \u001b[39m-\u001b[39m\u001b[39m>\u001b[39m \u001b[39mNone\u001b[39;00m:\n\u001b[1;32m    <a href='file:///~/Library/Python/3.9/lib/python/site-packages/pandas/io/parsers/base_parser.py?line=218'>219</a>\u001b[0m     \u001b[39m\"\"\"\u001b[39;00m\n\u001b[1;32m    <a href='file:///~/Library/Python/3.9/lib/python/site-packages/pandas/io/parsers/base_parser.py?line=219'>220</a>\u001b[0m \u001b[39m    Let the readers open IOHandles after they are done with their potential raises.\u001b[39;00m\n\u001b[1;32m    <a href='file:///~/Library/Python/3.9/lib/python/site-packages/pandas/io/parsers/base_parser.py?line=220'>221</a>\u001b[0m \u001b[39m    \"\"\"\u001b[39;00m\n\u001b[0;32m--> <a href='file:///~/Library/Python/3.9/lib/python/site-packages/pandas/io/parsers/base_parser.py?line=221'>222</a>\u001b[0m     \u001b[39mself\u001b[39m\u001b[39m.\u001b[39mhandles \u001b[39m=\u001b[39m get_handle(\n\u001b[1;32m    <a href='file:///~/Library/Python/3.9/lib/python/site-packages/pandas/io/parsers/base_parser.py?line=222'>223</a>\u001b[0m         src,\n\u001b[1;32m    <a href='file:///~/Library/Python/3.9/lib/python/site-packages/pandas/io/parsers/base_parser.py?line=223'>224</a>\u001b[0m         \u001b[39m\"\u001b[39;49m\u001b[39mr\u001b[39;49m\u001b[39m\"\u001b[39;49m,\n\u001b[1;32m    <a href='file:///~/Library/Python/3.9/lib/python/site-packages/pandas/io/parsers/base_parser.py?line=224'>225</a>\u001b[0m         encoding\u001b[39m=\u001b[39;49mkwds\u001b[39m.\u001b[39;49mget(\u001b[39m\"\u001b[39;49m\u001b[39mencoding\u001b[39;49m\u001b[39m\"\u001b[39;49m, \u001b[39mNone\u001b[39;49;00m),\n\u001b[1;32m    <a href='file:///~/Library/Python/3.9/lib/python/site-packages/pandas/io/parsers/base_parser.py?line=225'>226</a>\u001b[0m         compression\u001b[39m=\u001b[39;49mkwds\u001b[39m.\u001b[39;49mget(\u001b[39m\"\u001b[39;49m\u001b[39mcompression\u001b[39;49m\u001b[39m\"\u001b[39;49m, \u001b[39mNone\u001b[39;49;00m),\n\u001b[1;32m    <a href='file:///~/Library/Python/3.9/lib/python/site-packages/pandas/io/parsers/base_parser.py?line=226'>227</a>\u001b[0m         memory_map\u001b[39m=\u001b[39;49mkwds\u001b[39m.\u001b[39;49mget(\u001b[39m\"\u001b[39;49m\u001b[39mmemory_map\u001b[39;49m\u001b[39m\"\u001b[39;49m, \u001b[39mFalse\u001b[39;49;00m),\n\u001b[1;32m    <a href='file:///~/Library/Python/3.9/lib/python/site-packages/pandas/io/parsers/base_parser.py?line=227'>228</a>\u001b[0m         storage_options\u001b[39m=\u001b[39;49mkwds\u001b[39m.\u001b[39;49mget(\u001b[39m\"\u001b[39;49m\u001b[39mstorage_options\u001b[39;49m\u001b[39m\"\u001b[39;49m, \u001b[39mNone\u001b[39;49;00m),\n\u001b[1;32m    <a href='file:///~/Library/Python/3.9/lib/python/site-packages/pandas/io/parsers/base_parser.py?line=228'>229</a>\u001b[0m         errors\u001b[39m=\u001b[39;49mkwds\u001b[39m.\u001b[39;49mget(\u001b[39m\"\u001b[39;49m\u001b[39mencoding_errors\u001b[39;49m\u001b[39m\"\u001b[39;49m, \u001b[39m\"\u001b[39;49m\u001b[39mstrict\u001b[39;49m\u001b[39m\"\u001b[39;49m),\n\u001b[1;32m    <a href='file:///~/Library/Python/3.9/lib/python/site-packages/pandas/io/parsers/base_parser.py?line=229'>230</a>\u001b[0m     )\n",
      "File \u001b[0;32m~/Library/Python/3.9/lib/python/site-packages/pandas/io/common.py:701\u001b[0m, in \u001b[0;36mget_handle\u001b[0;34m(path_or_buf, mode, encoding, compression, memory_map, is_text, errors, storage_options)\u001b[0m\n\u001b[1;32m    <a href='file:///~/Library/Python/3.9/lib/python/site-packages/pandas/io/common.py?line=695'>696</a>\u001b[0m \u001b[39melif\u001b[39;00m \u001b[39misinstance\u001b[39m(handle, \u001b[39mstr\u001b[39m):\n\u001b[1;32m    <a href='file:///~/Library/Python/3.9/lib/python/site-packages/pandas/io/common.py?line=696'>697</a>\u001b[0m     \u001b[39m# Check whether the filename is to be opened in binary mode.\u001b[39;00m\n\u001b[1;32m    <a href='file:///~/Library/Python/3.9/lib/python/site-packages/pandas/io/common.py?line=697'>698</a>\u001b[0m     \u001b[39m# Binary mode does not support 'encoding' and 'newline'.\u001b[39;00m\n\u001b[1;32m    <a href='file:///~/Library/Python/3.9/lib/python/site-packages/pandas/io/common.py?line=698'>699</a>\u001b[0m     \u001b[39mif\u001b[39;00m ioargs\u001b[39m.\u001b[39mencoding \u001b[39mand\u001b[39;00m \u001b[39m\"\u001b[39m\u001b[39mb\u001b[39m\u001b[39m\"\u001b[39m \u001b[39mnot\u001b[39;00m \u001b[39min\u001b[39;00m ioargs\u001b[39m.\u001b[39mmode:\n\u001b[1;32m    <a href='file:///~/Library/Python/3.9/lib/python/site-packages/pandas/io/common.py?line=699'>700</a>\u001b[0m         \u001b[39m# Encoding\u001b[39;00m\n\u001b[0;32m--> <a href='file:///~/Library/Python/3.9/lib/python/site-packages/pandas/io/common.py?line=700'>701</a>\u001b[0m         handle \u001b[39m=\u001b[39m \u001b[39mopen\u001b[39;49m(\n\u001b[1;32m    <a href='file:///~/Library/Python/3.9/lib/python/site-packages/pandas/io/common.py?line=701'>702</a>\u001b[0m             handle,\n\u001b[1;32m    <a href='file:///~/Library/Python/3.9/lib/python/site-packages/pandas/io/common.py?line=702'>703</a>\u001b[0m             ioargs\u001b[39m.\u001b[39;49mmode,\n\u001b[1;32m    <a href='file:///~/Library/Python/3.9/lib/python/site-packages/pandas/io/common.py?line=703'>704</a>\u001b[0m             encoding\u001b[39m=\u001b[39;49mioargs\u001b[39m.\u001b[39;49mencoding,\n\u001b[1;32m    <a href='file:///~/Library/Python/3.9/lib/python/site-packages/pandas/io/common.py?line=704'>705</a>\u001b[0m             errors\u001b[39m=\u001b[39;49merrors,\n\u001b[1;32m    <a href='file:///~/Library/Python/3.9/lib/python/site-packages/pandas/io/common.py?line=705'>706</a>\u001b[0m             newline\u001b[39m=\u001b[39;49m\u001b[39m\"\u001b[39;49m\u001b[39m\"\u001b[39;49m,\n\u001b[1;32m    <a href='file:///~/Library/Python/3.9/lib/python/site-packages/pandas/io/common.py?line=706'>707</a>\u001b[0m         )\n\u001b[1;32m    <a href='file:///~/Library/Python/3.9/lib/python/site-packages/pandas/io/common.py?line=707'>708</a>\u001b[0m     \u001b[39melse\u001b[39;00m:\n\u001b[1;32m    <a href='file:///~/Library/Python/3.9/lib/python/site-packages/pandas/io/common.py?line=708'>709</a>\u001b[0m         \u001b[39m# Binary mode\u001b[39;00m\n\u001b[1;32m    <a href='file:///~/Library/Python/3.9/lib/python/site-packages/pandas/io/common.py?line=709'>710</a>\u001b[0m         handle \u001b[39m=\u001b[39m \u001b[39mopen\u001b[39m(handle, ioargs\u001b[39m.\u001b[39mmode)\n",
      "\u001b[0;31mFileNotFoundError\u001b[0m: [Errno 2] No such file or directory: '/Users/georgegarcia/Documents/GitHub/Wine-Rating-Projections-Using-Historic-Weather-Patterns/notebooks/data/wunderground-com/processed/1678665697.3855995.txt'"
     ]
    }
   ],
   "source": [
    "df = pd.read_csv(wunderground_processed_folder + '1678665697.3855995.txt',\n",
    "          sep = '|')"
   ]
  },
  {
   "cell_type": "code",
   "execution_count": 3,
   "metadata": {},
   "outputs": [],
   "source": [
    "df = pd.read_csv('/Users/georgegarcia/Documents/GitHub/Wine-Rating-Projections-Using-Historic-Weather-Patterns/data/wunderground-com/processed/1678665697.3855994.txt',\n",
    "                        sep = '|')"
   ]
  },
  {
   "cell_type": "code",
   "execution_count": 4,
   "metadata": {},
   "outputs": [
    {
     "data": {
      "text/plain": [
       "(1115, 456)"
      ]
     },
     "execution_count": 4,
     "metadata": {},
     "output_type": "execute_result"
    }
   ],
   "source": [
    "df.shape"
   ]
  },
  {
   "cell_type": "code",
   "execution_count": 5,
   "metadata": {},
   "outputs": [
    {
     "name": "stdout",
     "output_type": "stream",
     "text": [
      "                                           Product_Name Product_Varietal  \\\n",
      "0     Domaine Taupenot-Merme Nuits-Saint-Georges Les...       Pinot Noir   \n",
      "1      Domaine de la Romanee-Conti Echezeaux Grand Cru        Pinot Noir   \n",
      "2                Lincourt Rancho Santa Rosa Pinot Noir        Pinot Noir   \n",
      "3               Domaine Claude Dugat Gevrey-Chambertin        Pinot Noir   \n",
      "4     Domaine Prieur-Brunet Santenay Maladiere Premi...       Pinot Noir   \n",
      "...                                                 ...              ...   \n",
      "1110   R. Lopez de Heredia Rioja Vina Tondonia Reserva       Tempranillo   \n",
      "1111           Villota Vina Gena Vinedo Singular Rioja       Tempranillo   \n",
      "1112                                 Cune Gran Reserva       Tempranillo   \n",
      "1113                             Bosco Barolo La Serra          Nebbiolo   \n",
      "1114                          Masseto (. Liter Magnum)            Merlot   \n",
      "\n",
      "                                         Product_Origin Product_Price  \\\n",
      "0     Nuits-St-Georges, Cote de Nuits, Cote d'Or, Bu...        199.99   \n",
      "1     Flagey-Echezeaux, Cote de Nuits, Cote d'Or, Bu...      3,299.99   \n",
      "2     Sta. Rita Hills, Santa Barbara, Central Coast,...         40.99   \n",
      "3     Gevrey-Chambertin, Cote de Nuits, Cote d'Or, B...        179.99   \n",
      "4     Santenay, Cote de Beaune, Cote d'Or, Burgundy,...         65.99   \n",
      "...                                                 ...           ...   \n",
      "1110                                       Rioja, Spain         60.99   \n",
      "1111                                       Rioja, Spain         99.99   \n",
      "1112                                       Rioja, Spain         42.99   \n",
      "1113                                    Piedmont, Italy         63.99   \n",
      "1114                                     Tuscany, Italy      1,899.99   \n",
      "\n",
      "     Product_Attributes  User_Avg_Rating  User_Rating_Count  Product_Vintage  \\\n",
      "0              Red Wine              0.0                  0             2017   \n",
      "1              Red Wine              0.0                  0             2018   \n",
      "2              Red Wine              4.0                 31             2018   \n",
      "3              Red Wine              0.0                  0             2020   \n",
      "4              Red Wine              0.0                  0             2020   \n",
      "...                 ...              ...                ...              ...   \n",
      "1110           Red Wine              4.2                 34             2010   \n",
      "1111           Red Wine              0.0                  0             2018   \n",
      "1112           Red Wine              4.8                  9             2016   \n",
      "1113           Red Wine              0.0                  0             2016   \n",
      "1114           Red Wine              0.0                  0             2017   \n",
      "\n",
      "      Critical_Avg_Rating  Critical_Rating_Count  ...  \\\n",
      "0               93.000000                      3  ...   \n",
      "1               95.000000                      4  ...   \n",
      "2               90.666667                      3  ...   \n",
      "3               92.000000                      3  ...   \n",
      "4               92.333333                      3  ...   \n",
      "...                   ...                    ...  ...   \n",
      "1110            95.333333                      3  ...   \n",
      "1111            92.000000                      3  ...   \n",
      "1112            92.666667                      3  ...   \n",
      "1113            93.333333                      3  ...   \n",
      "1114            96.666667                      6  ...   \n",
      "\n",
      "      Jan_Min_Low_Wind_Speed  Jan_Max_High_Pressure  Jan_Avg_High_Pressure  \\\n",
      "0                         0.0                  29.8              29.493548   \n",
      "1                         0.0                  29.9              29.384211   \n",
      "2                         0.0                  30.3              30.135484   \n",
      "3                         0.0                  29.9              29.558065   \n",
      "4                         0.0                  29.9              29.558065   \n",
      "...                       ...                   ...                    ...   \n",
      "1110                      0.0                  30.2              29.954839   \n",
      "1111                      0.0                  30.5              30.206452   \n",
      "1112                      0.0                  30.5              30.206452   \n",
      "1113                      0.0                  30.4              30.041935   \n",
      "1114                      0.0                  30.3              30.003226   \n",
      "\n",
      "      Jan_Min_High_Pressure  Jan_Avg_Pressure  Jan_Max_Low_Pressure  \\\n",
      "0                      29.1         29.416129                  29.8   \n",
      "1                      28.9         29.252632                  29.8   \n",
      "2                      29.9         30.064516                  30.2   \n",
      "3                      29.0         29.477419                  29.9   \n",
      "4                      29.0         29.477419                  29.9   \n",
      "...                     ...               ...                   ...   \n",
      "1110                   29.6         29.900000                  30.1   \n",
      "1111                   29.6         30.116129                  30.3   \n",
      "1112                   29.9         30.009677                  30.4   \n",
      "1113                   29.6         30.003226                  30.4   \n",
      "1114                   29.6         29.932258                  30.2   \n",
      "\n",
      "      Jan_Avg_Low_Pressure  Jan_Min_Low_Pressure  Jan_Average_Precipitation  \\\n",
      "0                29.354839                  28.7                   0.000000   \n",
      "1                29.157895                  28.8                   0.000000   \n",
      "2                30.000000                  29.5                   0.087742   \n",
      "3                29.400000                  28.8                   0.000000   \n",
      "4                29.400000                  28.8                   0.000000   \n",
      "...                    ...                   ...                        ...   \n",
      "1110             29.822581                  29.2                   0.000000   \n",
      "1111             30.032258                  29.3                   0.008710   \n",
      "1112             29.087097                   0.0                   0.001613   \n",
      "1113             29.938710                  29.5                   0.000000   \n",
      "1114             29.861290                  29.5                   0.000000   \n",
      "\n",
      "      Jan_Total_Precipitation  \n",
      "0                        0.00  \n",
      "1                        0.00  \n",
      "2                        2.72  \n",
      "3                        0.00  \n",
      "4                        0.00  \n",
      "...                       ...  \n",
      "1110                     0.00  \n",
      "1111                     0.27  \n",
      "1112                     0.05  \n",
      "1113                     0.00  \n",
      "1114                     0.00  \n",
      "\n",
      "[1115 rows x 456 columns]\n"
     ]
    }
   ],
   "source": [
    "print(df)"
   ]
  },
  {
   "cell_type": "code",
   "execution_count": 6,
   "metadata": {},
   "outputs": [
    {
     "name": "stdout",
     "output_type": "stream",
     "text": [
      "                                           Product_Name Product_Varietal  \\\n",
      "0     Domaine Taupenot-Merme Nuits-Saint-Georges Les...       Pinot Noir   \n",
      "1      Domaine de la Romanee-Conti Echezeaux Grand Cru        Pinot Noir   \n",
      "2                Lincourt Rancho Santa Rosa Pinot Noir        Pinot Noir   \n",
      "3               Domaine Claude Dugat Gevrey-Chambertin        Pinot Noir   \n",
      "4     Domaine Prieur-Brunet Santenay Maladiere Premi...       Pinot Noir   \n",
      "...                                                 ...              ...   \n",
      "1110   R. Lopez de Heredia Rioja Vina Tondonia Reserva       Tempranillo   \n",
      "1111           Villota Vina Gena Vinedo Singular Rioja       Tempranillo   \n",
      "1112                                 Cune Gran Reserva       Tempranillo   \n",
      "1113                             Bosco Barolo La Serra          Nebbiolo   \n",
      "1114                          Masseto (. Liter Magnum)            Merlot   \n",
      "\n",
      "                                         Product_Origin Product_Price  \\\n",
      "0     Nuits-St-Georges, Cote de Nuits, Cote d'Or, Bu...        199.99   \n",
      "1     Flagey-Echezeaux, Cote de Nuits, Cote d'Or, Bu...      3,299.99   \n",
      "2     Sta. Rita Hills, Santa Barbara, Central Coast,...         40.99   \n",
      "3     Gevrey-Chambertin, Cote de Nuits, Cote d'Or, B...        179.99   \n",
      "4     Santenay, Cote de Beaune, Cote d'Or, Burgundy,...         65.99   \n",
      "...                                                 ...           ...   \n",
      "1110                                       Rioja, Spain         60.99   \n",
      "1111                                       Rioja, Spain         99.99   \n",
      "1112                                       Rioja, Spain         42.99   \n",
      "1113                                    Piedmont, Italy         63.99   \n",
      "1114                                     Tuscany, Italy      1,899.99   \n",
      "\n",
      "     Product_Attributes  User_Avg_Rating  User_Rating_Count  Product_Vintage  \\\n",
      "0              Red Wine              0.0                  0             2017   \n",
      "1              Red Wine              0.0                  0             2018   \n",
      "2              Red Wine              4.0                 31             2018   \n",
      "3              Red Wine              0.0                  0             2020   \n",
      "4              Red Wine              0.0                  0             2020   \n",
      "...                 ...              ...                ...              ...   \n",
      "1110           Red Wine              4.2                 34             2010   \n",
      "1111           Red Wine              0.0                  0             2018   \n",
      "1112           Red Wine              4.8                  9             2016   \n",
      "1113           Red Wine              0.0                  0             2016   \n",
      "1114           Red Wine              0.0                  0             2017   \n",
      "\n",
      "      Critical_Avg_Rating  Critical_Rating_Count  ...  Jan_Avg_Humidity  \\\n",
      "0               93.000000                      3  ...         82.225806   \n",
      "1               95.000000                      4  ...         87.636842   \n",
      "2               90.666667                      3  ...         71.983871   \n",
      "3               92.000000                      3  ...         89.251613   \n",
      "4               92.333333                      3  ...         89.251613   \n",
      "...                   ...                    ...  ...               ...   \n",
      "1110            95.333333                      3  ...         66.396774   \n",
      "1111            92.000000                      3  ...         66.893548   \n",
      "1112            92.666667                      3  ...         70.800000   \n",
      "1113            93.333333                      3  ...         65.535484   \n",
      "1114            96.666667                      6  ...         63.174194   \n",
      "\n",
      "     Jan_Avg_Low_Humidity  Jan_Avg_High_Wind_Speed   Jan_Avg_Wind_Speed   \\\n",
      "0               68.354839                 12.032258             6.900000   \n",
      "1               76.421053                 16.157895             8.657895   \n",
      "2               45.580645                 11.064516             3.848387   \n",
      "3               75.032258                 12.387097             6.506452   \n",
      "4               75.032258                 12.387097             6.506452   \n",
      "...                   ...                       ...                  ...   \n",
      "1110            55.225806                 13.774194             8.622581   \n",
      "1111            47.580645                 16.709677             8.148387   \n",
      "1112            49.354839                 17.838710             8.493548   \n",
      "1113            51.741935                 15.774194             9.032258   \n",
      "1114            47.322581                 16.193548             8.532258   \n",
      "\n",
      "      Jan_Avg_Low_Wind_Speed   Jan_Avg_High_Pressure  Jan_Avg_Pressure  \\\n",
      "0                    1.774194              29.493548         29.416129   \n",
      "1                    2.736842              29.384211         29.252632   \n",
      "2                    0.000000              30.135484         30.064516   \n",
      "3                    1.516129              29.558065         29.477419   \n",
      "4                    1.516129              29.558065         29.477419   \n",
      "...                       ...                    ...               ...   \n",
      "1110                 4.064516              29.954839         29.900000   \n",
      "1111                 0.870968              30.206452         30.116129   \n",
      "1112                 1.193548              30.206452         30.009677   \n",
      "1113                 2.870968              30.041935         30.003226   \n",
      "1114                 1.451613              30.003226         29.932258   \n",
      "\n",
      "      Jan_Avg_Low_Pressure  Jan_Average_Precipitation  Jan_Total_Precipitation  \n",
      "0                29.354839                   0.000000                     0.00  \n",
      "1                29.157895                   0.000000                     0.00  \n",
      "2                30.000000                   0.087742                     2.72  \n",
      "3                29.400000                   0.000000                     0.00  \n",
      "4                29.400000                   0.000000                     0.00  \n",
      "...                    ...                        ...                      ...  \n",
      "1110             29.822581                   0.000000                     0.00  \n",
      "1111             30.032258                   0.008710                     0.27  \n",
      "1112             29.087097                   0.001613                     0.05  \n",
      "1113             29.938710                   0.000000                     0.00  \n",
      "1114             29.861290                   0.000000                     0.00  \n",
      "\n",
      "[1115 rows x 216 columns]\n"
     ]
    }
   ],
   "source": [
    "# drop columns with \"min\" or \"max\" in the name\n",
    "cols_to_drop = [col for col in df.columns if 'min' in col.lower() or 'max' in col.lower()]\n",
    "df_filitered = df.drop(cols_to_drop, axis=1)\n",
    "\n",
    "print(df_filitered)"
   ]
  },
  {
   "cell_type": "code",
   "execution_count": 7,
   "metadata": {},
   "outputs": [
    {
     "data": {
      "text/plain": [
       "(1115, 216)"
      ]
     },
     "execution_count": 7,
     "metadata": {},
     "output_type": "execute_result"
    }
   ],
   "source": [
    "df_filitered.shape"
   ]
  },
  {
   "cell_type": "code",
   "execution_count": 8,
   "metadata": {},
   "outputs": [],
   "source": [
    "# Select only the numerical columns for outlier analysis\n",
    "num_df = df_filitered.select_dtypes(include=np.number)\n",
    "\n",
    "# Detect and remove outliers\n",
    "Q1 = num_df.quantile(0.25)\n",
    "Q3 = num_df.quantile(0.75)\n",
    "IQR = Q3 - Q1\n",
    "num_df_out = num_df[~((num_df < (Q1 - 1.5 * IQR)) | (num_df > (Q3 + 1.5 * IQR))).any(axis=1)]\n",
    "\n",
    "# Merge the numerical dataframe with the original dataframe to include the text columns\n",
    "df_out = pd.merge(num_df_out, df_filitered, left_index=True, right_index=True)"
   ]
  },
  {
   "cell_type": "code",
   "execution_count": 9,
   "metadata": {},
   "outputs": [
    {
     "name": "stdout",
     "output_type": "stream",
     "text": [
      "      User_Avg_Rating_x  User_Rating_Count_x  Product_Vintage_x  \\\n",
      "0                   0.0                    0               2017   \n",
      "3                   0.0                    0               2020   \n",
      "4                   0.0                    0               2020   \n",
      "6                   0.0                    0               2020   \n",
      "7                   0.0                    0               2016   \n",
      "...                 ...                  ...                ...   \n",
      "950                 0.0                    0               2018   \n",
      "970                 3.1                    7               2018   \n",
      "994                 4.0                   11               2018   \n",
      "1010                0.0                    0               2020   \n",
      "1013                0.0                    0               2018   \n",
      "\n",
      "      Critical_Avg_Rating_x  Critical_Rating_Count_x  Appellation_Level_x  \\\n",
      "0                 93.000000                        3                    5   \n",
      "3                 92.000000                        3                    5   \n",
      "4                 92.333333                        3                    5   \n",
      "6                 97.000000                        3                    5   \n",
      "7                 96.000000                        3                    5   \n",
      "...                     ...                      ...                  ...   \n",
      "950               92.500000                        4                    2   \n",
      "970               92.333333                        3                    2   \n",
      "994               92.333333                        3                    2   \n",
      "1010              96.250000                        4                    2   \n",
      "1013              95.250000                        4                    2   \n",
      "\n",
      "      Aug_Avg_High_Temperature_x  Aug_Avg_Temperature_x  \\\n",
      "0                      80.806452              70.122581   \n",
      "3                      84.193548              72.941935   \n",
      "4                      84.193548              72.941935   \n",
      "6                      84.193548              72.941935   \n",
      "7                      80.935484              69.754839   \n",
      "...                          ...                    ...   \n",
      "950                    86.741935              78.425806   \n",
      "970                    86.741935              78.425806   \n",
      "994                    86.741935              78.425806   \n",
      "1010                   82.967742              71.487097   \n",
      "1013                   98.161290              85.716129   \n",
      "\n",
      "      Aug_Avg_Low_Temperature_x  Aug_Avg_High_ Dew_Point_x  ...  \\\n",
      "0                     59.903226                  60.580645  ...   \n",
      "3                     61.064516                  60.193548  ...   \n",
      "4                     61.064516                  60.193548  ...   \n",
      "6                     61.064516                  60.193548  ...   \n",
      "7                     57.741935                  60.096774  ...   \n",
      "...                         ...                        ...  ...   \n",
      "950                   69.129032                  72.032258  ...   \n",
      "970                   69.129032                  72.032258  ...   \n",
      "994                   69.129032                  72.032258  ...   \n",
      "1010                  59.967742                  62.193548  ...   \n",
      "1013                  66.935484                  59.838710  ...   \n",
      "\n",
      "      Jan_Avg_Humidity_y  Jan_Avg_Low_Humidity_y  Jan_Avg_High_Wind_Speed _y  \\\n",
      "0              82.225806               68.354839                   12.032258   \n",
      "3              89.251613               75.032258                   12.387097   \n",
      "4              89.251613               75.032258                   12.387097   \n",
      "6              89.251613               75.032258                   12.387097   \n",
      "7              88.206452               75.548387                   13.903226   \n",
      "...                  ...                     ...                         ...   \n",
      "950            75.577419               50.709677                   17.129032   \n",
      "970            75.577419               50.709677                   17.129032   \n",
      "994            75.577419               50.709677                   17.129032   \n",
      "1010           86.183871               72.193548                   13.580645   \n",
      "1013           79.454839               60.064516                   12.161290   \n",
      "\n",
      "      Jan_Avg_Wind_Speed _y  Jan_Avg_Low_Wind_Speed _y  \\\n",
      "0                  6.900000                   1.774194   \n",
      "3                  6.506452                   1.516129   \n",
      "4                  6.506452                   1.516129   \n",
      "6                  6.506452                   1.516129   \n",
      "7                  6.861290                   1.225806   \n",
      "...                     ...                        ...   \n",
      "950                9.370968                   2.677419   \n",
      "970                9.370968                   2.677419   \n",
      "994                9.370968                   2.677419   \n",
      "1010               7.419355                   2.225806   \n",
      "1013               6.141935                   1.032258   \n",
      "\n",
      "      Jan_Avg_High_Pressure_y  Jan_Avg_Pressure_y  Jan_Avg_Low_Pressure_y  \\\n",
      "0                   29.493548           29.416129               29.354839   \n",
      "3                   29.558065           29.477419               29.400000   \n",
      "4                   29.558065           29.477419               29.400000   \n",
      "6                   29.558065           29.477419               29.400000   \n",
      "7                   29.283871           29.200000               29.100000   \n",
      "...                       ...                 ...                     ...   \n",
      "950                 30.125806           30.038710               29.951613   \n",
      "970                 30.125806           30.038710               29.951613   \n",
      "994                 30.125806           30.038710               29.951613   \n",
      "1010                29.925806           29.832258               29.745161   \n",
      "1013                29.648387           29.587097               29.535484   \n",
      "\n",
      "      Jan_Average_Precipitation_y  Jan_Total_Precipitation_y  \n",
      "0                             0.0                        0.0  \n",
      "3                             0.0                        0.0  \n",
      "4                             0.0                        0.0  \n",
      "6                             0.0                        0.0  \n",
      "7                             0.0                        0.0  \n",
      "...                           ...                        ...  \n",
      "950                           0.0                        0.0  \n",
      "970                           0.0                        0.0  \n",
      "994                           0.0                        0.0  \n",
      "1010                          0.0                        0.0  \n",
      "1013                          0.0                        0.0  \n",
      "\n",
      "[228 rows x 426 columns]\n"
     ]
    }
   ],
   "source": [
    "print(df_out)"
   ]
  },
  {
   "cell_type": "code",
   "execution_count": 10,
   "metadata": {},
   "outputs": [
    {
     "name": "stdout",
     "output_type": "stream",
     "text": [
      "['Product_Name', 'Product_Varietal', 'Product_Origin', 'Product_Price', 'Product_Attributes', 'User_Avg_Rating', 'User_Rating_Count', 'Product_Vintage', 'Critical_Avg_Rating', 'Critical_Rating_Count', 'Appellation_Level', 'Weather_Origin', 'Aug_Avg_High_Temperature', 'Aug_Avg_Temperature', 'Aug_Avg_Low_Temperature', 'Aug_Avg_High_ Dew_Point', 'Aug_Avg_ Dew_Point', 'Aug_Avg_Low_ Dew_Point', 'Aug_Avg_High_Humidity', 'Aug_Avg_Humidity', 'Aug_Avg_Low_Humidity', 'Aug_Avg_High_Wind_Speed ', 'Aug_Avg_Wind_Speed ', 'Aug_Avg_Low_Wind_Speed ', 'Aug_Avg_High_Pressure', 'Aug_Avg_Pressure', 'Aug_Avg_Low_Pressure', 'Aug_Average_Precipitation', 'Aug_Total_Precipitation', 'Nov_Avg_High_Temperature', 'Nov_Avg_Temperature', 'Nov_Avg_Low_Temperature', 'Nov_Avg_High_ Dew_Point', 'Nov_Avg_ Dew_Point', 'Nov_Avg_Low_ Dew_Point', 'Nov_Avg_High_Humidity', 'Nov_Avg_Humidity', 'Nov_Avg_Low_Humidity', 'Nov_Avg_High_Wind_Speed ', 'Nov_Avg_Wind_Speed ', 'Nov_Avg_Low_Wind_Speed ', 'Nov_Avg_High_Pressure', 'Nov_Avg_Pressure', 'Nov_Avg_Low_Pressure', 'Nov_Average_Precipitation', 'Nov_Total_Precipitation', 'Jun_Avg_High_Temperature', 'Jun_Avg_Temperature', 'Jun_Avg_Low_Temperature', 'Jun_Avg_High_ Dew_Point', 'Jun_Avg_ Dew_Point', 'Jun_Avg_Low_ Dew_Point', 'Jun_Avg_High_Humidity', 'Jun_Avg_Humidity', 'Jun_Avg_Low_Humidity', 'Jun_Avg_High_Wind_Speed ', 'Jun_Avg_Wind_Speed ', 'Jun_Avg_Low_Wind_Speed ', 'Jun_Avg_High_Pressure', 'Jun_Avg_Pressure', 'Jun_Avg_Low_Pressure', 'Jun_Average_Precipitation', 'Jun_Total_Precipitation', 'Apr_Avg_High_Temperature', 'Apr_Avg_Temperature', 'Apr_Avg_Low_Temperature', 'Apr_Avg_High_ Dew_Point', 'Apr_Avg_ Dew_Point', 'Apr_Avg_Low_ Dew_Point', 'Apr_Avg_High_Humidity', 'Apr_Avg_Humidity', 'Apr_Avg_Low_Humidity', 'Apr_Avg_High_Wind_Speed ', 'Apr_Avg_Wind_Speed ', 'Apr_Avg_Low_Wind_Speed ', 'Apr_Avg_High_Pressure', 'Apr_Avg_Pressure', 'Apr_Avg_Low_Pressure', 'Apr_Average_Precipitation', 'Apr_Total_Precipitation', 'Feb_Avg_High_Temperature', 'Feb_Avg_Temperature', 'Feb_Avg_Low_Temperature', 'Feb_Avg_High_ Dew_Point', 'Feb_Avg_ Dew_Point', 'Feb_Avg_Low_ Dew_Point', 'Feb_Avg_High_Humidity', 'Feb_Avg_Humidity', 'Feb_Avg_Low_Humidity', 'Feb_Avg_High_Wind_Speed ', 'Feb_Avg_Wind_Speed ', 'Feb_Avg_Low_Wind_Speed ', 'Feb_Avg_High_Pressure', 'Feb_Avg_Pressure', 'Feb_Avg_Low_Pressure', 'Feb_Average_Precipitation', 'Feb_Total_Precipitation', 'Oct_Avg_High_Temperature', 'Oct_Avg_Temperature', 'Oct_Avg_Low_Temperature', 'Oct_Avg_High_ Dew_Point', 'Oct_Avg_ Dew_Point', 'Oct_Avg_Low_ Dew_Point', 'Oct_Avg_High_Humidity', 'Oct_Avg_Humidity', 'Oct_Avg_Low_Humidity', 'Oct_Avg_High_Wind_Speed ', 'Oct_Avg_Wind_Speed ', 'Oct_Avg_Low_Wind_Speed ', 'Oct_Avg_High_Pressure', 'Oct_Avg_Pressure', 'Oct_Avg_Low_Pressure', 'Oct_Average_Precipitation', 'Oct_Total_Precipitation', 'Jul_Avg_High_Temperature', 'Jul_Avg_Temperature', 'Jul_Avg_Low_Temperature', 'Jul_Avg_High_ Dew_Point', 'Jul_Avg_ Dew_Point', 'Jul_Avg_Low_ Dew_Point', 'Jul_Avg_High_Humidity', 'Jul_Avg_Humidity', 'Jul_Avg_Low_Humidity', 'Jul_Avg_High_Wind_Speed ', 'Jul_Avg_Wind_Speed ', 'Jul_Avg_Low_Wind_Speed ', 'Jul_Avg_High_Pressure', 'Jul_Avg_Pressure', 'Jul_Avg_Low_Pressure', 'Jul_Average_Precipitation', 'Jul_Total_Precipitation', 'May_Avg_High_Temperature', 'May_Avg_Temperature', 'May_Avg_Low_Temperature', 'May_Avg_High_ Dew_Point', 'May_Avg_ Dew_Point', 'May_Avg_Low_ Dew_Point', 'May_Avg_High_Humidity', 'May_Avg_Humidity', 'May_Avg_Low_Humidity', 'May_Avg_High_Wind_Speed ', 'May_Avg_Wind_Speed ', 'May_Avg_Low_Wind_Speed ', 'May_Avg_High_Pressure', 'May_Avg_Pressure', 'May_Avg_Low_Pressure', 'May_Average_Precipitation', 'May_Total_Precipitation', 'Dec_Avg_High_Temperature', 'Dec_Avg_Temperature', 'Dec_Avg_Low_Temperature', 'Dec_Avg_High_ Dew_Point', 'Dec_Avg_ Dew_Point', 'Dec_Avg_Low_ Dew_Point', 'Dec_Avg_High_Humidity', 'Dec_Avg_Humidity', 'Dec_Avg_Low_Humidity', 'Dec_Avg_High_Wind_Speed ', 'Dec_Avg_Wind_Speed ', 'Dec_Avg_Low_Wind_Speed ', 'Dec_Avg_High_Pressure', 'Dec_Avg_Pressure', 'Dec_Avg_Low_Pressure', 'Dec_Average_Precipitation', 'Dec_Total_Precipitation', 'Mar_Avg_High_Temperature', 'Mar_Avg_Temperature', 'Mar_Avg_Low_Temperature', 'Mar_Avg_High_ Dew_Point', 'Mar_Avg_ Dew_Point', 'Mar_Avg_Low_ Dew_Point', 'Mar_Avg_High_Humidity', 'Mar_Avg_Humidity', 'Mar_Avg_Low_Humidity', 'Mar_Avg_High_Wind_Speed ', 'Mar_Avg_Wind_Speed ', 'Mar_Avg_Low_Wind_Speed ', 'Mar_Avg_High_Pressure', 'Mar_Avg_Pressure', 'Mar_Avg_Low_Pressure', 'Mar_Average_Precipitation', 'Mar_Total_Precipitation', 'Sep_Avg_High_Temperature', 'Sep_Avg_Temperature', 'Sep_Avg_Low_Temperature', 'Sep_Avg_High_ Dew_Point', 'Sep_Avg_ Dew_Point', 'Sep_Avg_Low_ Dew_Point', 'Sep_Avg_High_Humidity', 'Sep_Avg_Humidity', 'Sep_Avg_Low_Humidity', 'Sep_Avg_High_Wind_Speed ', 'Sep_Avg_Wind_Speed ', 'Sep_Avg_Low_Wind_Speed ', 'Sep_Avg_High_Pressure', 'Sep_Avg_Pressure', 'Sep_Avg_Low_Pressure', 'Sep_Average_Precipitation', 'Sep_Total_Precipitation', 'Jan_Avg_High_Temperature', 'Jan_Avg_Temperature', 'Jan_Avg_Low_Temperature', 'Jan_Avg_High_ Dew_Point', 'Jan_Avg_ Dew_Point', 'Jan_Avg_Low_ Dew_Point', 'Jan_Avg_High_Humidity', 'Jan_Avg_Humidity', 'Jan_Avg_Low_Humidity', 'Jan_Avg_High_Wind_Speed ', 'Jan_Avg_Wind_Speed ', 'Jan_Avg_Low_Wind_Speed ', 'Jan_Avg_High_Pressure', 'Jan_Avg_Pressure', 'Jan_Avg_Low_Pressure', 'Jan_Average_Precipitation', 'Jan_Total_Precipitation']\n"
     ]
    }
   ],
   "source": [
    "# Get the column names\n",
    "column_names = df_filitered.columns.tolist()\n",
    "\n",
    "# Print the column names\n",
    "print(column_names)"
   ]
  },
  {
   "cell_type": "code",
   "execution_count": 11,
   "metadata": {},
   "outputs": [],
   "source": [
    "text_columns = ['Product_Name', 'Product_Varietal', 'Product_Origin', 'Product_Price', 'Product_Attributes'] \n",
    "numeric_columns = ['User_Avg_Rating', 'User_Rating_Count', 'Product_Vintage', 'Critical_Avg_Rating', 'Critical_Rating_Count',\n",
    "             'Appellation_Level', 'Weather_Origin', 'Aug_Avg_High_Temperature', 'Aug_Avg_Temperature', 'Aug_Avg_Low_Temperature', \n",
    "             'Aug_Avg_High_ Dew_Point', 'Aug_Avg_ Dew_Point', 'Aug_Avg_Low_ Dew_Point', 'Aug_Avg_High_Humidity', 'Aug_Avg_Humidity', \n",
    "             'Aug_Avg_Low_Humidity', 'Aug_Avg_High_Wind_Speed ', 'Aug_Avg_Wind_Speed ', 'Aug_Avg_Low_Wind_Speed ', 'Aug_Avg_High_Pressure', \n",
    "             'Aug_Avg_Pressure', 'Aug_Avg_Low_Pressure', 'Aug_Average_Precipitation', 'Aug_Total_Precipitation', 'Nov_Avg_High_Temperature', \n",
    "             'Nov_Avg_Temperature', 'Nov_Avg_Low_Temperature', 'Nov_Avg_High_ Dew_Point', 'Nov_Avg_ Dew_Point', 'Nov_Avg_Low_ Dew_Point', \n",
    "             'Nov_Avg_High_Humidity', 'Nov_Avg_Humidity', 'Nov_Avg_Low_Humidity', 'Nov_Avg_High_Wind_Speed ', 'Nov_Avg_Wind_Speed ',\n",
    "            'Nov_Avg_Low_Wind_Speed ', 'Nov_Avg_High_Pressure', 'Nov_Avg_Pressure', 'Nov_Avg_Low_Pressure', 'Nov_Average_Precipitation', \n",
    "            'Nov_Total_Precipitation', 'Jun_Avg_High_Temperature', 'Jun_Avg_Temperature', 'Jun_Avg_Low_Temperature', 'Jun_Avg_High_ Dew_Point', \n",
    "            'Jun_Avg_ Dew_Point', 'Jun_Avg_Low_ Dew_Point', 'Jun_Avg_High_Humidity', 'Jun_Avg_Humidity', 'Jun_Avg_Low_Humidity', 'Jun_Avg_High_Wind_Speed ', \n",
    "            'Jun_Avg_Wind_Speed ', 'Jun_Avg_Low_Wind_Speed ', 'Jun_Avg_High_Pressure', 'Jun_Avg_Pressure', 'Jun_Avg_Low_Pressure', 'Jun_Average_Precipitation', \n",
    "            'Jun_Total_Precipitation', 'Apr_Avg_High_Temperature', 'Apr_Avg_Temperature', 'Apr_Avg_Low_Temperature', 'Apr_Avg_High_ Dew_Point', 'Apr_Avg_ Dew_Point', \n",
    "            'Apr_Avg_Low_ Dew_Point', 'Apr_Avg_High_Humidity', 'Apr_Avg_Humidity', 'Apr_Avg_Low_Humidity', 'Apr_Avg_High_Wind_Speed ', 'Apr_Avg_Wind_Speed ', \n",
    "            'Apr_Avg_Low_Wind_Speed ', 'Apr_Avg_High_Pressure', 'Apr_Avg_Pressure', 'Apr_Avg_Low_Pressure', 'Apr_Average_Precipitation', \n",
    "            'Apr_Total_Precipitation', 'Feb_Avg_High_Temperature', 'Feb_Avg_Temperature', 'Feb_Avg_Low_Temperature', 'Feb_Avg_High_ Dew_Point', \n",
    "            'Feb_Avg_ Dew_Point', 'Feb_Avg_Low_ Dew_Point', 'Feb_Avg_High_Humidity', 'Feb_Avg_Humidity', 'Feb_Avg_Low_Humidity', 'Feb_Avg_High_Wind_Speed ', \n",
    "            'Feb_Avg_Wind_Speed ', 'Feb_Avg_Low_Wind_Speed ', 'Feb_Avg_High_Pressure', 'Feb_Avg_Pressure', 'Feb_Avg_Low_Pressure', 'Feb_Average_Precipitation', \n",
    "            'Feb_Total_Precipitation', 'Oct_Avg_High_Temperature', 'Oct_Avg_Temperature', 'Oct_Avg_Low_Temperature', 'Oct_Avg_High_ Dew_Point', 'Oct_Avg_ Dew_Point', \n",
    "            'Oct_Avg_Low_ Dew_Point', 'Oct_Avg_High_Humidity', 'Oct_Avg_Humidity', 'Oct_Avg_Low_Humidity', 'Oct_Avg_High_Wind_Speed ', 'Oct_Avg_Wind_Speed ', \n",
    "            'Oct_Avg_Low_Wind_Speed ', 'Oct_Avg_High_Pressure', 'Oct_Avg_Pressure', 'Oct_Avg_Low_Pressure', 'Oct_Average_Precipitation', 'Oct_Total_Precipitation', \n",
    "            'Jul_Avg_High_Temperature', 'Jul_Avg_Temperature', 'Jul_Avg_Low_Temperature', 'Jul_Avg_High_ Dew_Point', 'Jul_Avg_ Dew_Point', 'Jul_Avg_Low_ Dew_Point', \n",
    "            'Jul_Avg_High_Humidity', 'Jul_Avg_Humidity', 'Jul_Avg_Low_Humidity', 'Jul_Avg_High_Wind_Speed ', 'Jul_Avg_Wind_Speed ', 'Jul_Avg_Low_Wind_Speed ', \n",
    "            'Jul_Avg_High_Pressure', 'Jul_Avg_Pressure', 'Jul_Avg_Low_Pressure', 'Jul_Average_Precipitation', 'Jul_Total_Precipitation', 'May_Avg_High_Temperature', \n",
    "            'May_Avg_Temperature', 'May_Avg_Low_Temperature', 'May_Avg_High_ Dew_Point', 'May_Avg_ Dew_Point', 'May_Avg_Low_ Dew_Point', 'May_Avg_High_Humidity', \n",
    "            'May_Avg_Humidity', 'May_Avg_Low_Humidity', 'May_Avg_High_Wind_Speed ', 'May_Avg_Wind_Speed ', 'May_Avg_Low_Wind_Speed ', 'May_Avg_High_Pressure', \n",
    "            'May_Avg_Pressure', 'May_Avg_Low_Pressure', 'May_Average_Precipitation', 'May_Total_Precipitation', 'Dec_Avg_High_Temperature', 'Dec_Avg_Temperature', \n",
    "            'Dec_Avg_Low_Temperature', 'Dec_Avg_High_ Dew_Point', 'Dec_Avg_ Dew_Point', 'Dec_Avg_Low_ Dew_Point', 'Dec_Avg_High_Humidity', 'Dec_Avg_Humidity', \n",
    "            'Dec_Avg_Low_Humidity', 'Dec_Avg_High_Wind_Speed ', 'Dec_Avg_Wind_Speed ', 'Dec_Avg_Low_Wind_Speed ', 'Dec_Avg_High_Pressure', 'Dec_Avg_Pressure', \n",
    "            'Dec_Avg_Low_Pressure', 'Dec_Average_Precipitation', 'Dec_Total_Precipitation', 'Mar_Avg_High_Temperature', 'Mar_Avg_Temperature', 'Mar_Avg_Low_Temperature', \n",
    "            'Mar_Avg_High_ Dew_Point', 'Mar_Avg_ Dew_Point', 'Mar_Avg_Low_ Dew_Point', 'Mar_Avg_High_Humidity', 'Mar_Avg_Humidity', 'Mar_Avg_Low_Humidity', 'Mar_Avg_High_Wind_Speed ', \n",
    "            'Mar_Avg_Wind_Speed ', 'Mar_Avg_Low_Wind_Speed ', 'Mar_Avg_High_Pressure', 'Mar_Avg_Pressure', 'Mar_Avg_Low_Pressure', 'Mar_Average_Precipitation', 'Mar_Total_Precipitation', \n",
    "            'Sep_Avg_High_Temperature', 'Sep_Avg_Temperature', 'Sep_Avg_Low_Temperature', 'Sep_Avg_High_ Dew_Point', 'Sep_Avg_ Dew_Point', 'Sep_Avg_Low_ Dew_Point', 'Sep_Avg_High_Humidity', \n",
    "            'Sep_Avg_Humidity', 'Sep_Avg_Low_Humidity', 'Sep_Avg_High_Wind_Speed ', 'Sep_Avg_Wind_Speed ', 'Sep_Avg_Low_Wind_Speed ', 'Sep_Avg_High_Pressure', 'Sep_Avg_Pressure', \n",
    "            'Sep_Avg_Low_Pressure', 'Sep_Average_Precipitation', 'Sep_Total_Precipitation', 'Jan_Avg_High_Temperature', 'Jan_Avg_Temperature', 'Jan_Avg_Low_Temperature', \n",
    "            'Jan_Avg_High_ Dew_Point', 'Jan_Avg_ Dew_Point', 'Jan_Avg_Low_ Dew_Point', 'Jan_Avg_High_Humidity', 'Jan_Avg_Humidity', 'Jan_Avg_Low_Humidity', \n",
    "            'Jan_Avg_High_Wind_Speed ', 'Jan_Avg_Wind_Speed ', 'Jan_Avg_Low_Wind_Speed ', 'Jan_Avg_High_Pressure', 'Jan_Avg_Pressure', 'Jan_Avg_Low_Pressure', \n",
    "            'Jan_Average_Precipitation', 'Jan_Total_Precipitation']"
   ]
  },
  {
   "cell_type": "code",
   "execution_count": 12,
   "metadata": {},
   "outputs": [],
   "source": [
    "text_data = df_filitered[text_columns]\n",
    "numeric_data = df_filitered[numeric_columns]"
   ]
  },
  {
   "cell_type": "code",
   "execution_count": 13,
   "metadata": {},
   "outputs": [],
   "source": [
    "encoder = OneHotEncoder()\n",
    "encoder.fit(text_data)\n",
    "text_data_encoded = encoder.transform(text_data).toarray()"
   ]
  },
  {
   "cell_type": "code",
   "execution_count": 14,
   "metadata": {},
   "outputs": [],
   "source": [
    "# Check the number of columns in the encoded text data and numeric data\n",
    "num_text_columns = text_data_encoded.shape[1]\n",
    "num_numeric_columns = len(numeric_columns)\n",
    "\n",
    "# Pad the text data with zeros if necessary\n",
    "if num_text_columns < num_numeric_columns:\n",
    "    num_missing_columns = num_numeric_columns - num_text_columns\n",
    "    text_data_encoded = np.pad(text_data_encoded, ((0,0),(0,num_missing_columns)), 'constant')"
   ]
  },
  {
   "cell_type": "code",
   "execution_count": 15,
   "metadata": {},
   "outputs": [],
   "source": [
    "data_encoded = np.concatenate((text_data_encoded, numeric_data), axis=1)"
   ]
  },
  {
   "cell_type": "code",
   "execution_count": 16,
   "metadata": {},
   "outputs": [],
   "source": [
    "# Convert the result of get_feature_names_out to a list\n",
    "text_column_names = encoder.get_feature_names_out(text_columns)\n",
    "text_column_names_list = text_column_names.tolist()"
   ]
  },
  {
   "cell_type": "code",
   "execution_count": 17,
   "metadata": {},
   "outputs": [],
   "source": [
    "# Create a new dataframe with the column names\n",
    "column_names = text_column_names_list + numeric_columns\n",
    "data_encoded_df = pd.DataFrame(data_encoded, columns=column_names)"
   ]
  },
  {
   "cell_type": "code",
   "execution_count": 18,
   "metadata": {},
   "outputs": [],
   "source": [
    "# Save the encoded data to a CSV file\n",
    "data_encoded_df.to_csv('data_encoded.csv', index=False)"
   ]
  },
  {
   "cell_type": "code",
   "execution_count": 19,
   "metadata": {},
   "outputs": [
    {
     "name": "stdout",
     "output_type": "stream",
     "text": [
      "     Product_Name_ Wines EGW Chardonnay  Product_Name_ Wines VGR Pinot Noir   \\\n",
      "0                                    0.0                                 0.0   \n",
      "1                                    0.0                                 0.0   \n",
      "2                                    0.0                                 0.0   \n",
      "3                                    0.0                                 0.0   \n",
      "4                                    0.0                                 0.0   \n",
      "...                                  ...                                 ...   \n",
      "1110                                 0.0                                 0.0   \n",
      "1111                                 0.0                                 0.0   \n",
      "1112                                 0.0                                 0.0   \n",
      "1113                                 0.0                                 0.0   \n",
      "1114                                 0.0                                 0.0   \n",
      "\n",
      "     Product_Name_Accendo Cellars Laurea Cabernet Sauvignon   \\\n",
      "0                                                   0.0        \n",
      "1                                                   0.0        \n",
      "2                                                   0.0        \n",
      "3                                                   0.0        \n",
      "4                                                   0.0        \n",
      "...                                                 ...        \n",
      "1110                                                0.0        \n",
      "1111                                                0.0        \n",
      "1112                                                0.0        \n",
      "1113                                                0.0        \n",
      "1114                                                0.0        \n",
      "\n",
      "     Product_Name_Achaval-Ferrer Finca Bella Vista Malbec   \\\n",
      "0                                                   0.0      \n",
      "1                                                   0.0      \n",
      "2                                                   0.0      \n",
      "3                                                   0.0      \n",
      "4                                                   0.0      \n",
      "...                                                 ...      \n",
      "1110                                                0.0      \n",
      "1111                                                0.0      \n",
      "1112                                                0.0      \n",
      "1113                                                0.0      \n",
      "1114                                                0.0      \n",
      "\n",
      "     Product_Name_Achaval-Ferrer Finca Mirador Malbec   \\\n",
      "0                                                  0.0   \n",
      "1                                                  0.0   \n",
      "2                                                  0.0   \n",
      "3                                                  0.0   \n",
      "4                                                  0.0   \n",
      "...                                                ...   \n",
      "1110                                               0.0   \n",
      "1111                                               0.0   \n",
      "1112                                               0.0   \n",
      "1113                                               0.0   \n",
      "1114                                               0.0   \n",
      "\n",
      "     Product_Name_Adaptation by Odette Cabernet Sauvignon   \\\n",
      "0                                                   0.0      \n",
      "1                                                   0.0      \n",
      "2                                                   0.0      \n",
      "3                                                   0.0      \n",
      "4                                                   0.0      \n",
      "...                                                 ...      \n",
      "1110                                                0.0      \n",
      "1111                                                0.0      \n",
      "1112                                                0.0      \n",
      "1113                                                0.0      \n",
      "1114                                                0.0      \n",
      "\n",
      "     Product_Name_Addendum Napa Valley Cabernet Sauvignon   \\\n",
      "0                                                   0.0      \n",
      "1                                                   0.0      \n",
      "2                                                   0.0      \n",
      "3                                                   0.0      \n",
      "4                                                   0.0      \n",
      "...                                                 ...      \n",
      "1110                                                0.0      \n",
      "1111                                                0.0      \n",
      "1112                                                0.0      \n",
      "1113                                                0.0      \n",
      "1114                                                0.0      \n",
      "\n",
      "     Product_Name_Alban Central Coast Viognier   \\\n",
      "0                                           0.0   \n",
      "1                                           0.0   \n",
      "2                                           0.0   \n",
      "3                                           0.0   \n",
      "4                                           0.0   \n",
      "...                                         ...   \n",
      "1110                                        0.0   \n",
      "1111                                        0.0   \n",
      "1112                                        0.0   \n",
      "1113                                        0.0   \n",
      "1114                                        0.0   \n",
      "\n",
      "     Product_Name_Albert Bichot Beaune Clos des Mouches Premier Cru Blanc Domaine du Pavillon   \\\n",
      "0                                                   0.0                                          \n",
      "1                                                   0.0                                          \n",
      "2                                                   0.0                                          \n",
      "3                                                   0.0                                          \n",
      "4                                                   0.0                                          \n",
      "...                                                 ...                                          \n",
      "1110                                                0.0                                          \n",
      "1111                                                0.0                                          \n",
      "1112                                                0.0                                          \n",
      "1113                                                0.0                                          \n",
      "1114                                                0.0                                          \n",
      "\n",
      "     Product_Name_Albert Bichot Clos de la Roche Grand Cru   ...  \\\n",
      "0                                                   0.0      ...   \n",
      "1                                                   0.0      ...   \n",
      "2                                                   0.0      ...   \n",
      "3                                                   0.0      ...   \n",
      "4                                                   0.0      ...   \n",
      "...                                                 ...      ...   \n",
      "1110                                                0.0      ...   \n",
      "1111                                                0.0      ...   \n",
      "1112                                                0.0      ...   \n",
      "1113                                                0.0      ...   \n",
      "1114                                                0.0      ...   \n",
      "\n",
      "     Jan_Avg_Humidity Jan_Avg_Low_Humidity Jan_Avg_High_Wind_Speed   \\\n",
      "0           82.225806            68.354839                12.032258   \n",
      "1           87.636842            76.421053                16.157895   \n",
      "2           71.983871            45.580645                11.064516   \n",
      "3           89.251613            75.032258                12.387097   \n",
      "4           89.251613            75.032258                12.387097   \n",
      "...               ...                  ...                      ...   \n",
      "1110        66.396774            55.225806                13.774194   \n",
      "1111        66.893548            47.580645                16.709677   \n",
      "1112             70.8            49.354839                 17.83871   \n",
      "1113        65.535484            51.741935                15.774194   \n",
      "1114        63.174194            47.322581                16.193548   \n",
      "\n",
      "     Jan_Avg_Wind_Speed  Jan_Avg_Low_Wind_Speed  Jan_Avg_High_Pressure  \\\n",
      "0                    6.9                1.774194             29.493548   \n",
      "1               8.657895                2.736842             29.384211   \n",
      "2               3.848387                     0.0             30.135484   \n",
      "3               6.506452                1.516129             29.558065   \n",
      "4               6.506452                1.516129             29.558065   \n",
      "...                  ...                     ...                   ...   \n",
      "1110            8.622581                4.064516             29.954839   \n",
      "1111            8.148387                0.870968             30.206452   \n",
      "1112            8.493548                1.193548             30.206452   \n",
      "1113            9.032258                2.870968             30.041935   \n",
      "1114            8.532258                1.451613             30.003226   \n",
      "\n",
      "     Jan_Avg_Pressure Jan_Avg_Low_Pressure Jan_Average_Precipitation  \\\n",
      "0           29.416129            29.354839                       0.0   \n",
      "1           29.252632            29.157895                       0.0   \n",
      "2           30.064516                 30.0                  0.087742   \n",
      "3           29.477419                 29.4                       0.0   \n",
      "4           29.477419                 29.4                       0.0   \n",
      "...               ...                  ...                       ...   \n",
      "1110             29.9            29.822581                       0.0   \n",
      "1111        30.116129            30.032258                   0.00871   \n",
      "1112        30.009677            29.087097                  0.001613   \n",
      "1113        30.003226             29.93871                       0.0   \n",
      "1114        29.932258             29.86129                       0.0   \n",
      "\n",
      "     Jan_Total_Precipitation  \n",
      "0                        0.0  \n",
      "1                        0.0  \n",
      "2                       2.72  \n",
      "3                        0.0  \n",
      "4                        0.0  \n",
      "...                      ...  \n",
      "1110                     0.0  \n",
      "1111                    0.27  \n",
      "1112                    0.05  \n",
      "1113                     0.0  \n",
      "1114                     0.0  \n",
      "\n",
      "[1115 rows x 1660 columns]\n"
     ]
    }
   ],
   "source": [
    "print(data_encoded_df)"
   ]
  },
  {
   "cell_type": "code",
   "execution_count": 20,
   "metadata": {},
   "outputs": [
    {
     "name": "stdout",
     "output_type": "stream",
     "text": [
      "['Product_Name_ Wines EGW Chardonnay ', 'Product_Name_ Wines VGR Pinot Noir ', 'Product_Name_Accendo Cellars Laurea Cabernet Sauvignon ', 'Product_Name_Achaval-Ferrer Finca Bella Vista Malbec ', 'Product_Name_Achaval-Ferrer Finca Mirador Malbec ', 'Product_Name_Adaptation by Odette Cabernet Sauvignon ', 'Product_Name_Addendum Napa Valley Cabernet Sauvignon ', 'Product_Name_Alban Central Coast Viognier ', 'Product_Name_Albert Bichot Beaune Clos des Mouches Premier Cru Blanc Domaine du Pavillon ', 'Product_Name_Albert Bichot Clos de la Roche Grand Cru ', 'Product_Name_Albert Bichot Corton Clos Des Marechaudes Domaine du Pavillon Grand Cru ', 'Product_Name_Albert Bichot Meursault Domaine du Pavillon ', 'Product_Name_Albert Bichot Meursault Les Charmes Premier Cru Domaine du Pavillon ', 'Product_Name_Albert Bichot Morey-St-Denis Les Sorbets Premier Cru ', 'Product_Name_Albert Bichot Pommard Clos des Ursulines Domaine du Pavillon Monopole ', 'Product_Name_Allegrini Amarone ', 'Product_Name_Allegrini La Poja ', 'Product_Name_Alpha Omega Cabernet Sauvignon ', 'Product_Name_Alpha Omega Proprietary Red ', 'Product_Name_Alta Vista Atemporal ', 'Product_Name_Altesino Brunello di Montalcino ', 'Product_Name_Altesino Brunello di Montalcino Riserva ', 'Product_Name_Altesino Montosoli Brunello di Montalcino ', 'Product_Name_Altesino Montosoli Brunello di Montalcino (. Liter Magnum) ', 'Product_Name_Amici Napa Valley Cabernet Sauvignon ', 'Product_Name_Amici Sonoma Coast Chardonnay ', 'Product_Name_Anakota Helena Montana Vineyard Cabernet Sauvignon ', 'Product_Name_Andre Brunel Chateauneuf-du-Pape Les Cailloux Centenaire ', 'Product_Name_Andrew Will Winery Ciel du Cheval ', 'Product_Name_Anthony Road Dry Riesling ', 'Product_Name_Antigal Uno Malbec ', 'Product_Name_Antinori Badia a Passignano Chianti Classico Gran Selezione ', 'Product_Name_Antinori Tignanello (ML half-bottle) ', 'Product_Name_Antinori Villa Antinori Chianti Classico Riserva ', 'Product_Name_Ar. Pe. Pe. Grumello Rocca de Piro Valtellina Superiore ', 'Product_Name_Archery Summit Eola Amity Chardonnay ', 'Product_Name_Argento Single Vineyard Altamira Malbec ', 'Product_Name_Argiano Brunello di Montalcino ', 'Product_Name_Argyle Extended Tirage Brut ', 'Product_Name_Arietta Quartet ', 'Product_Name_Arista Winery Russian River Chardonnay ', 'Product_Name_Arnaud Mortet Charmes-Chambertin Grand Cru ', 'Product_Name_Arnaud Mortet Gevrey-Chambertin Lavaux St-Jacques Premier Cru ', 'Product_Name_Arnaud Mortet Mazoyeres-Chambertin Grand Cru ', 'Product_Name_Astrolabe Marlborough Pinot Noir ', 'Product_Name_Au Bon Climat Sanford and Benedict Chardonnay ', 'Product_Name_Banfi Brunello di Montalcino ', 'Product_Name_Banfi Brunello di Montalcino (ML half-bottle) ', 'Product_Name_Banfi Brunello di Montalcino Poggio Alle Mura ', 'Product_Name_Banfi Brunello di Montalcino Riserva Poggio Alle Mura ', 'Product_Name_Banfi Chianti Classico Riserva ', 'Product_Name_Banfi Magna Cum Laude ', \"Product_Name_Banfi Poggio all'Oro Brunello di Montalcino Riserva \", 'Product_Name_Baricci Colombaio Montosoli Brunello di Montalcino ', 'Product_Name_Baricci Colombaio Montosoli Brunello di Montalcino Nello Riserva ', 'Product_Name_Barone Ricasoli Brolio Chianti Classico ', 'Product_Name_Barone Ricasoli Casalferro ', 'Product_Name_Barton & Guestier Chateau Magnol Cru Bourgeois ', 'Product_Name_Beaulieu Vineyard Georges de Latour Private Reserve ', 'Product_Name_Beaulieu Vineyard Napa Valley Cabernet Sauvignon ', 'Product_Name_Beaulieu Vineyard Reserve Tapestry ', 'Product_Name_Beaulieu Vineyard Rutherford Reserve Cabernet Sauvignon ', 'Product_Name_Beeslaar Pinotage ', 'Product_Name_Bela Arano Crianza ', 'Product_Name_Belguardo Maremma Toscana ', 'Product_Name_Bella Union by Far Niente Cabernet Sauvignon ', 'Product_Name_Belle Glos Las Alturas Vineyard Pinot Noir ', 'Product_Name_Bergstrom Sigrid Chardonnay ', 'Product_Name_Bergstrom Silice Pinot Noir ', 'Product_Name_Beringer Knights Valley Cabernet Sauvignon ', 'Product_Name_Beringer Private Reserve Cabernet Sauvignon ', 'Product_Name_Beringer Private Reserve Cabernet Sauvignon (. Liter Magnum) ', 'Product_Name_Beringer Q Red Blend ', 'Product_Name_Bibbiano Chianti Classico Riserva ', 'Product_Name_Bibbiano Montornello Chianti Classico Gran Selezione ', 'Product_Name_Bibbiano Vigna del Capannino Chianti Classico Gran Selezione ', 'Product_Name_Bibi Graetz Colore th Anniversary Label ', 'Product_Name_Bibi Graetz Testamatta th Anniversary Label ', 'Product_Name_Bien Nacido Estate Chardonnay ', 'Product_Name_Bien Nacido Estate Pinot Noir ', 'Product_Name_Blackbird Vineyards Paramour Napa Valley Proprietary Red ', 'Product_Name_Blanquito Albarino ', 'Product_Name_Bodega Norton Lote Negro ', 'Product_Name_Bodegas Avancia Cuvee de O Mencia ', 'Product_Name_Bodegas Avancia Nobleza Old Vines Godello ', 'Product_Name_Bodegas Avancia Old Vines Mencia ', 'Product_Name_Bodegas Benjamin Rothschild and Vega Sicilia Macan Clasico ', 'Product_Name_Bodegas Fillaboa Albarino Seleccion Finca Monte Alto ', 'Product_Name_Bodegas Izadi Rioja Reserva ', 'Product_Name_Bodegas Lan Rioja Reserva ', 'Product_Name_Bodegas Muga Aro ', 'Product_Name_Bodegas Muga Flor de Muga Blanco ', 'Product_Name_Bodegas Muga Prado Enea Gran Reserva ', 'Product_Name_Bodegas Muga Seleccion Especial ', 'Product_Name_Bodegas Muga Torre Muga ', 'Product_Name_Bodegas Sierra Salinas Mira Salinas ', 'Product_Name_Bodegas Sierra Salinas Mo Monastrell ', 'Product_Name_Bodegas Vatan Nisia Old Vines Verdejo ', 'Product_Name_Bodegas Vega Sicilia Valbuena  ', 'Product_Name_Bodegas y Vinedos Alion ', 'Product_Name_Boekenhoutskloof The Chocolate Block Red Blend ', 'Product_Name_Borreo by Silverado Vineyards Sangiovese ', 'Product_Name_Boscarelli Il Nocio Vino Nobile di Montepulciano ', 'Product_Name_Bosco Barolo La Serra ', 'Product_Name_Bouchaine Pommard Clone Estate Pinot Noir ', 'Product_Name_Bouchard Pere & Fils Beaune Clos St Landry Premier Cru Monopole Blanc ', \"Product_Name_Bouchard Pere & Fils Beaune Greves Premier Cru Vigne de l'Enfant Jesus \", 'Product_Name_Bouchard Pere & Fils Beaune Les Teurons Premier Cru ', 'Product_Name_Bouchard Pere & Fils Chevalier-Montrachet Grand Cru ', 'Product_Name_Bouchard Pere & Fils Clos Vougeot Grand Cru ', 'Product_Name_Bouchard Pere & Fils Corton-Charlemagne Grand Cru ', 'Product_Name_Bouchard Pere & Fils Gevrey-Chambertin Les Cazetiers Premier Cru ', 'Product_Name_Bouchard Pere & Fils Le Corton Grand Cru ', 'Product_Name_Bouchard Pere & Fils Meursault Genevrieres Premier Cru ', 'Product_Name_Bouchard Pere & Fils Meursault Les Clous ', 'Product_Name_Bouchard Pere & Fils Nuits-Saint-Georges Les Cailles Premier Cru ', 'Product_Name_Bouchard Pere & Fils Savigny-les-Beaune Les Lavieres Premier Cru ', 'Product_Name_Bouchard Pere & Fils Volnay Caillerets Ancienne Cuvee Carnot Premier Cru ', 'Product_Name_Boundary Breaks Riesling Ice Wine (ML half-bottle) ', 'Product_Name_Brancaia Chianti Classico Riserva ', 'Product_Name_Brancaia Ilatraia ', 'Product_Name_Brandlin Estate Cabernet Sauvignon ', 'Product_Name_Bravium Anderson Valley Chardonnay ', 'Product_Name_Brittan Basalt Block Pinot Noir ', 'Product_Name_Bruno Clair Bonnes-Mares Grand Cru ', 'Product_Name_Bruno Clair Chambertin Clos de Beze Grand Cru ', 'Product_Name_Bruno Clair Gevrey-Chambertin Clos Saint-Jacques ', 'Product_Name_Bruno Clair Gevrey-Chambertin Les Cazetiers Premier Cru ', 'Product_Name_Bruno Clair Gevrey-Chambertin Rouge ', 'Product_Name_Bruno Clair Morey-Saint-Denis En la rue de Vergy Rouge ', 'Product_Name_Bryant Family Bettina Proprietary Red ', 'Product_Name_Buehler Cabernet Sauvignon ', 'Product_Name_CADE Howell Mountain Estate Cabernet Sauvignon ', 'Product_Name_CARO ', 'Product_Name_Cabreo Il Borgo ', 'Product_Name_Caiarossa ', 'Product_Name_Caiarossa Pergolaia ', \"Product_Name_Cambria Katherine's Vineyard Chardonnay \", 'Product_Name_Camigliano Gualto Brunello di Montalcino Riserva ', 'Product_Name_Cannonball Cabernet Sauvignon ', 'Product_Name_Cannonball Sauvignon Blanc ', 'Product_Name_Canvasback Red Mountain Cabernet Sauvignon ', 'Product_Name_Caparzo Brunello di Montalcino ', 'Product_Name_Caparzo Brunello di Montalcino La Casa ', 'Product_Name_Caparzo Brunello di Montalcino Riserva ', 'Product_Name_Capezzana Trefiano Carmignano ', 'Product_Name_Capture Pine Mountain Sauvignon Blanc ', 'Product_Name_Cardinale Cabernet Sauvignon ', 'Product_Name_Carpe Diem Chardonnay ', 'Product_Name_Carpineta Fontalpino Do ut des Toscana ', 'Product_Name_Carpineta Fontalpino Dofana Chianti Classico ', 'Product_Name_Carpineto Brunello di Montalcino ', 'Product_Name_Carpineto Chianti Classico Gran Selezione ', 'Product_Name_Carpineto Farnito Cabernet Sauvignon ', 'Product_Name_Casa Emma Chianti Classico ', 'Product_Name_Casa Emma Chianti Classico Gran Selezione ', 'Product_Name_Casa Emma Vignalparco Chianti Classico Riserva ', 'Product_Name_Casanova di Neri Brunello di Montalcino Cerretalto ', 'Product_Name_Casanova di Neri Brunello di Montalcino Tenuta Nuova ', 'Product_Name_Casanova di Neri Brunello di Montalcino White Label ', 'Product_Name_Casanuova delle Cerbaie Brunello di Montalcino Riserva ', \"Product_Name_Casarena Owen's Vineyard Cabernet Sauvignon \", 'Product_Name_Castellare Chianti Classico Riserva Il Poggiale ', 'Product_Name_Castello Romitorio Brunello di Montalcino ', 'Product_Name_Castello Romitorio Brunello di Montalcino Riserva ', 'Product_Name_Castello dei Rampolla Sammarco ', 'Product_Name_Castello di Ama Chianti Classico ', 'Product_Name_Castello di Ama Chianti Classico San Lorenzo Gran Selezione ', 'Product_Name_Castello di Ama Chianti Classico Vigneto Bellavista Gran Selezione ', 'Product_Name_Castello di Ama Chianti Classico Vigneto La Casuccia Gran Selezione ', 'Product_Name_Castello di Ama Haiku ', \"Product_Name_Castello di Ama L'Apparita \", 'Product_Name_Castello di Ama Montebuoni Chianti Classico Riserva ', 'Product_Name_Castello di Bossi Chianti Classico ', 'Product_Name_Castello di Bossi Chianti Classico Gran Selezione ', 'Product_Name_Castello di Bossi Chianti Classico Riserva Berardo ', 'Product_Name_Castello di Monsanto Chianti Classico Riserva ', 'Product_Name_Castello di Monsanto Il Poggio Chianti Classico Gran Selezione ', 'Product_Name_Castello di Querceto La Corte ', 'Product_Name_Castello di Volpaia Balifico ', 'Product_Name_Castello di Volpaia Chianti Classico ', 'Product_Name_Castello di Volpaia Chianti Classico Riserva ', 'Product_Name_Castello di Volpaia Coltassala Chianti Classico Gran Selezione ', 'Product_Name_Castiglion del Bosco Brunello di Montalcino ', 'Product_Name_Castiglion del Bosco Brunello di Montalcino Campo del Drago ', 'Product_Name_Catena Alta Malbec ', 'Product_Name_Catena Appellation Lunlunta Malbec ', 'Product_Name_Catena Zapata Adrianna Vineyard Fortuna Terrae Malbec ', 'Product_Name_Catena Zapata Adrianna Vineyard White Stones Chardonnay ', 'Product_Name_Catena Zapata Nicasia Vineyard Malbec ', 'Product_Name_Cayuse Camaspelo ', 'Product_Name_Cayuse The Lovers ', 'Product_Name_Cecchi Chianti Classico Riserva di Famiglia ', 'Product_Name_Celestino Pecci Poggio al Carro Brunello di Montalcino ', 'Product_Name_Cervantes Cabernet Sauvignon ', 'Product_Name_Chandon de Briailles Corton Bressandes Grand Cru ', 'Product_Name_Chandon de Briailles Corton Marechaudes Grand Cru ', 'Product_Name_Chanin Los Alamos Vineyard Chardonnay ', 'Product_Name_Chanin Sanford and Benedict Vineyard Pinot Noir ', 'Product_Name_Chanson Pere & Fils Beaune Clos des Feves Premier Cru Monopole ', 'Product_Name_Chanson Pere & Fils Beaune Clos des Marconnets Premier Cru ', 'Product_Name_Chanson Pere & Fils Beaune Clos des Mouches Blanc Premier Cru ', 'Product_Name_Chanson Pere & Fils Chassagne-Montrachet Les Chenevottes Premier Cru ', 'Product_Name_Chanson Pere & Fils Corton Vergennes Grand Cru Blanc ', 'Product_Name_Chanson Pere & Fils Pernand-Vergelesses Les Caradeux Premier Cru ', 'Product_Name_Chanson Pere & Fils Pernand-Vergelesses Les Vergelesses Premier Cru ', 'Product_Name_Chanson Pere & Fils Savigny-les-Beaune Dominode Premier Cru ', 'Product_Name_Chanson Pere & Fils Savigny-les-Beaune Hauts Marconnets Premier Cru Blanc ', 'Product_Name_Chappellet Cabernet Franc ', 'Product_Name_Chappellet Pritchard Hill Estate Vineyard Cabernet Sauvignon ', 'Product_Name_Chappellet Signature Cabernet Sauvignon ', 'Product_Name_Chapter  The Flood Pinot Noir ', 'Product_Name_Charles Krug Family Reserve Generations ', 'Product_Name_Chateau Arnauld ', 'Product_Name_Chateau Belgrave (Futures Pre-Sale) ', 'Product_Name_Chateau Beychevelle (Futures Pre-Sale) ', 'Product_Name_Chateau Blaignan ', 'Product_Name_Chateau Branaire-Ducru ', 'Product_Name_Chateau Branaire-Ducru (Futures Pre-Sale) ', 'Product_Name_Chateau Cambon La Pelouse ', 'Product_Name_Chateau Cap de Faugeres ', 'Product_Name_Chateau Chasse Spleen ', 'Product_Name_Chateau Ducru-Beaucaillou ', 'Product_Name_Chateau Ducru-Beaucaillou (. Liter Futures Pre-Sale) ', 'Product_Name_Chateau Ducru-Beaucaillou (Futures Pre-Sale) ', 'Product_Name_Chateau Ducru-Beaucaillou Croix de Beaucaillou (Futures Pre-Sale) ', 'Product_Name_Chateau Ducru-Beaucaillou Le Petit Ducru (Futures Pre-Sale) ', 'Product_Name_Chateau Ducru-Beaucaillou Madame de Beaucaillou ', 'Product_Name_Chateau Fleur La Mothe ', 'Product_Name_Chateau Gloria (Futures Pre-Sale) ', 'Product_Name_Chateau Gruaud Larose (Futures Pre-Sale) ', 'Product_Name_Chateau La Cardonne ', 'Product_Name_Chateau La Lagune ', 'Product_Name_Chateau La Nerthe Chateauneuf-du-Pape Blanc ', 'Product_Name_Chateau La Tour Carnet ', 'Product_Name_Chateau Lagrange (Futures Pre-Sale) ', 'Product_Name_Chateau Lalande ', 'Product_Name_Chateau Langoa Barton (Futures Pre-Sale) ', 'Product_Name_Chateau Larose-Trintaudon ', 'Product_Name_Chateau Leoville Barton ', 'Product_Name_Chateau Leoville Barton (. Liter Magnum) ', 'Product_Name_Chateau Leoville Barton (Futures Pre-Sale) ', 'Product_Name_Chateau Leoville Las Cases ', 'Product_Name_Chateau Leoville Las Cases ( Liter Bottle) ', 'Product_Name_Chateau Leoville Las Cases (. Liter Futures Pre-Sale) ', 'Product_Name_Chateau Leoville Las Cases (. Liter Magnum) ', 'Product_Name_Chateau Leoville Las Cases (Futures Pre-Sale) ', 'Product_Name_Chateau Leoville Poyferre ', 'Product_Name_Chateau Leoville Poyferre (Futures Pre-Sale) ', 'Product_Name_Chateau Les Grands Chenes ', 'Product_Name_Chateau Minuty M Rose ', 'Product_Name_Chateau Minuty Prestige Rose ', 'Product_Name_Chateau Montlandrie ', 'Product_Name_Chateau Montlandrie (Futures Pre-Sale) ', 'Product_Name_Chateau Paloumey ', 'Product_Name_Chateau Potensac ', 'Product_Name_Chateau Poujeaux ', 'Product_Name_Chateau Rahoul Blanc ', 'Product_Name_Chateau Rahoul Rouge ', \"Product_Name_Chateau d'Aiguilhe \", \"Product_Name_Chateau d'Aiguilhe (Futures Pre-Sale) \", \"Product_Name_Chateau d'Esclans Garrus Rose \", \"Product_Name_Chateau d'Esclans Les Clans Rose \", 'Product_Name_Chateau de Beaucastel Hommage Jacques Perrin Chateauneuf-du-Pape ', 'Product_Name_Chateau de Chantegrive Blanc ', 'Product_Name_Chateau de Nalys Chateauneuf-du-Pape Blanc Grand Vin ', 'Product_Name_Chateau de Nalys Chateauneuf-du-Pape Grand Vin ', 'Product_Name_Chateau de Nalys Chateauneuf-du-Pape Grand Vin (. Liter Magnum) ', 'Product_Name_Chateau de Nalys Saintes Pierres de Nalys Chateauneuf-du-Pape ', 'Product_Name_Chateau de Nalys Saintes Pierres de Nalys Chateauneuf-du-Pape Blanc ', 'Product_Name_Chateau de Saint Cosme Gigondas le Claux ', 'Product_Name_Chateau de Vaudieu Chateauneuf-du-Pape Amiral G ', 'Product_Name_Chateau de Vaudieu Chateauneuf-du-Pape Val de Dieu ', \"Product_Name_Chateau de Vaudieu L'Avenue Chateauneuf-du-Pape \", 'Product_Name_Chateau de la Tour Clos Vougeot Grand Cru ', 'Product_Name_Chateau des Jacques Morgon Cote du Py (. Liter Magnum) ', 'Product_Name_Chateau des Jacques Moulin-a-Vent ', 'Product_Name_Chateau du Moulin a Vent Champ de Cour ', 'Product_Name_Chateau du Moulin a Vent Les Verillats ', 'Product_Name_Chateau du Moulin a Vent Moulin-a-Vent ', 'Product_Name_Chehalem INOX Unoaked Chardonnay ', 'Product_Name_Chimney Rock Stags Leap District Cabernet Sauvignon ', 'Product_Name_Chimney Rock Tomahawk Vineyard Cabernet Sauvignon ', \"Product_Name_Ciacci Piccolomini d'Aragona Brunello di Montalcino Pianrosso \", 'Product_Name_Cliff Lede Magic Nights Cabernet Sauvignon ', 'Product_Name_Clonakilla Shiraz Viognier ', 'Product_Name_Clos Du Val Hirondelle Vineyard Estate Cabernet Sauvignon ', 'Product_Name_Clos Du Val Napa Valley Cabernet Sauvignon ', 'Product_Name_Clos Du Val Napa Valley Cabernet Sauvignon (. Liter Magnum) ', 'Product_Name_Clos Du Val Yettalil ', 'Product_Name_Clos Lunelles ', 'Product_Name_Clos Lunelles (Futures Pre-Sale) ', 'Product_Name_Clos Saint-Jean Chateauneuf Du Pape Vieilles Vignes ', 'Product_Name_Clos Saint-Jean Chateauneuf Du Pape Vieilles Vignes (. Liter Magnum) ', \"Product_Name_Clos de l'Oratoire des Papes Chateauneuf-du-Pape Les Choregies \", 'Product_Name_Clos de los Siete Red Blend ', 'Product_Name_Clos des Papes Chateauneuf-du-Pape (. Liter Magnum) ', 'Product_Name_Clos du Caillou Chateauneuf-du-Pape Les Quartz ', 'Product_Name_Clos du Caillou Cotes du Rhone Les Quartz ', 'Product_Name_Clos du Caillou Cotes du Rhone Les Quartz (. Liter Magnum) ', 'Product_Name_Clos du Marquis (Futures Pre-Sale) ', 'Product_Name_Cobb Wines Emmaline Ann Vineyard Pinot Noir ', 'Product_Name_Cobb Wines Rice-Spivak Vineyard Pinot Noir ', \"Product_Name_Cockburn's Vintage Port \", 'Product_Name_Col Solare Cabernet Sauvignon ', \"Product_Name_Col d'Orcia Brunello di Montalcino \", \"Product_Name_Col d'Orcia Olmaia Cabernet Sauvignon \", \"Product_Name_Col d'Orcia Rosso di Montalcino \", 'Product_Name_Col di Lamo Brunello di Montalcino ', 'Product_Name_Colgin Cariad ', 'Product_Name_Colgin Tychson Hill Cabernet Sauvignon ', 'Product_Name_Collosorbo Brunello di Montalcino ', 'Product_Name_Comte Armand Volnay Fremiets Premier Cru ', 'Product_Name_Cono Sur  Barrel Pinot Noir ', 'Product_Name_Conti Costanti Brunello di Montalcino ', 'Product_Name_Contino Rioja Reserva ', 'Product_Name_Continuum ', 'Product_Name_Continuum (ML half-bottle) ', 'Product_Name_Coppo Pomorosso ', 'Product_Name_Corison Cabernet Sauvignon ', 'Product_Name_Cortonesi La Mannella Brunello di Montalcino ', 'Product_Name_Cortonesi Poggiarelli Brunello di Montalcino ', 'Product_Name_Coup de Foudre . Cuvee Red ', 'Product_Name_Coup de Foudre Cabernet Sauvignon ', 'Product_Name_Courbis Cornas Champelrose ', 'Product_Name_Courbis Cornas Les Eygats ', 'Product_Name_Crocker & Starr AVA Cabernet Franc Red Blend ', 'Product_Name_Croft Vintage Port ', 'Product_Name_Crossbarn Napa Valley Cabernet Sauvignon ', 'Product_Name_Crossbarn Napa Valley Cabernet Sauvignon (ML half-bottle) ', 'Product_Name_Crossbarn Sonoma Coast Pinot Noir ', 'Product_Name_Cuentavinas Alomado Rioja ', 'Product_Name_Cune Crianza ', 'Product_Name_Cune Gran Reserva ', 'Product_Name_Cune Imperial Gran Reserva Rioja ', 'Product_Name_Cune Imperial Reserva Rioja ', 'Product_Name_DAOU Vineyards Cabernet Sauvignon ', 'Product_Name_DAOU Vineyards Soul of a Lion ', 'Product_Name_Dakota Shy Napa Valley Cabernet Sauvignon ', 'Product_Name_Dalla Valle Maya Proprietary Red Blend ', 'Product_Name_Dana Estates Helms Vineyard Cabernet Sauvignon ', 'Product_Name_Dana Estates Hershey Vineyard Cabernet Sauvignon ', 'Product_Name_Dandelion Vineyards Enchanted Garden of the Eden Valley Riesling ', 'Product_Name_Darioush Signature Cabernet Franc ', 'Product_Name_David Arthur Proprietary Red ', 'Product_Name_Davies Nobles Vineyard Pinot Noir ', 'Product_Name_Davis Bynum Pinot Noir ', 'Product_Name_Davis Bynum River West Vineyard Chardonnay ', 'Product_Name_DeLille Grand Ciel Cabernet Sauvignon ', 'Product_Name_Delas Cornas Chante-Perdrix ', 'Product_Name_Delas Crozes-Hermitage Le Clos ', 'Product_Name_Delas Domaine des Tourettes Hermitage Blanc ', 'Product_Name_Delas Hermitage Domaine des Tourettes ', 'Product_Name_Delas Hermitage Les Grandes Vignes Ligne de Crete ', 'Product_Name_Denis Mortet Clos de Vougeot Grand Cru ', 'Product_Name_Denis Mortet Mazis-Chambertin Grand Cru ', 'Product_Name_Diamond Creek Red Rock Terrace Cabernet Sauvignon ', 'Product_Name_Diamond Creek Volcanic Hill Cabernet Sauvignon (. Liter Magnum) ', 'Product_Name_Dierberg Drum Canyon Vineyard Pinot Noir ', 'Product_Name_Domaine Antonin Guyon Corton Bressandes Grand Cru ', 'Product_Name_Domaine Armand Rousseau Chambertin Clos de Beze Grand Cru ', 'Product_Name_Domaine Bousquet Reserve Organic Malbec ', 'Product_Name_Domaine Brusset Gigondas Les Hauts de Montmirail ', 'Product_Name_Domaine Chante Cigale Chateauneuf-du-Pape Pi ', 'Product_Name_Domaine Claude Dugat Gevrey-Chambertin ', 'Product_Name_Domaine Confuron-Cotetidot Vosne-Romanee Les Suchots Premier Cru ', 'Product_Name_Domaine Drouhin Oregon Laurene Pinot Noir ', 'Product_Name_Domaine Dumien-Serrette Cornas Patou ', 'Product_Name_Domaine Eden Cabernet Sauvignon ', 'Product_Name_Domaine Fernand & Laurent Pillot Pommard Les Rugiens Premier Cru ', 'Product_Name_Domaine Ferret Pouilly-Fuisse ', 'Product_Name_Domaine Ferret Pouilly-Fuisse Le Clos de Jeanne Premier Cru ', 'Product_Name_Domaine Ferret Pouilly-Fuisse Les Menetrieres Cuvee Hors Classe ', 'Product_Name_Domaine Ferret Pouilly-Fuisse Les Perrieres Premier Cru ', 'Product_Name_Domaine Giraud Chateauneuf-du-Pape Les Galimardes ', 'Product_Name_Domaine Giraud Chateauneuf-du-Pape Les Grenaches de Pierre ', 'Product_Name_Domaine Huet Le Haut Lieu Sec ', 'Product_Name_Domaine Jean Grivot Clos de Vougeot Grand Cru ', 'Product_Name_Domaine Jean Grivot Nuits-Saint-Georges Les Charmois ', 'Product_Name_Domaine Jean Grivot Nuits-St-Georges Ronciere Premier Cru ', 'Product_Name_Domaine Jean Grivot Vosne-Romanee ', 'Product_Name_Domaine Julien Nuits-Saint-Georges Les Bousselots Premier Cru ', 'Product_Name_Domaine La Barroche Chateauneuf-du-Pape Julien Barrot ', 'Product_Name_Domaine Louis Boillot Volnay Les Grands Poisots ', 'Product_Name_Domaine Paul Autard Chateauneuf-du-Pape ', 'Product_Name_Domaine Ponsot Clos de la Roche Grand Cru Vieilles Vignes ', 'Product_Name_Domaine Ponsot Morey-Saint-Denis Clos des Monts Luisants Premier Cru Blanc ', 'Product_Name_Domaine Prieur-Brunet Santenay Maladiere Premier Cru ', 'Product_Name_Domaine Raymond Usseglio Chateauneuf-du-Pape Cuvee Imperiale ', 'Product_Name_Domaine Raymond Usseglio Chateauneuf-du-Pape Girard ', 'Product_Name_Domaine Raymond Usseglio Chateauneuf-du-Pape La Part des Anges ', 'Product_Name_Domaine Robert Chevillon Nuits-Saint-Georges Vieilles Vignes ', 'Product_Name_Domaine Saint Prefert Chateauneuf-du-Pape Blanc ', 'Product_Name_Domaine Saint Prefert Isabel Ferrando Chateauneuf-du-Pape Colombis ', 'Product_Name_Domaine Saint Prefert Isabel Ferrando Chateauneuf-du-Pape Colombis (. Liter Magnum) ', 'Product_Name_Domaine Santa Duc Aux Lieux Dits Gigondas ', 'Product_Name_Domaine Santa Duc Clos Derriere Vieille Gigondas ', 'Product_Name_Domaine Serene Evenstad Reserve Chardonnay ', 'Product_Name_Domaine Serene Evenstad Reserve Pinot Noir (. Liter Magnum) ', 'Product_Name_Domaine Taupenot-Merme Morey Saint Denis La Riotte Premier Cru ', 'Product_Name_Domaine Taupenot-Merme Nuits-Saint-Georges Les Pruliers Premier Cru ', 'Product_Name_Domaine de Beaurenard Chateauneuf-du-Pape Blanc ', 'Product_Name_Domaine de Beaurenard Chateauneuf-du-Pape Boisrenard Rouge (. Liter Magnum) ', 'Product_Name_Domaine de Cristia Chateauneuf-du-Pape ', 'Product_Name_Domaine de Cristia Chateauneuf-du-Pape Vieilles Vignes ', 'Product_Name_Domaine de Cristia Cuvee Renaissance Chateauneuf-du-Pape ', 'Product_Name_Domaine de Ferrand Chateauneuf-du-Pape ', 'Product_Name_Domaine de Marcoux Chateauneuf-du-Pape ', 'Product_Name_Domaine de Marcoux Chateauneuf-du-Pape Blanc ', 'Product_Name_Domaine de Montille Beaune Les Greves Premier Cru ', 'Product_Name_Domaine de Montille Corton Clos du Roi Grand Cru ', 'Product_Name_Domaine de Montille Volnay En Champans Premier Cru ', 'Product_Name_Domaine de Pallus Chinon Les Pensees de Pallus ', \"Product_Name_Domaine de l'Arlot Nuits-St-Georges Clos de l'Arlot Premier Cru Monopole Blanc \", 'Product_Name_Domaine de la Charbonniere Chateauneuf-du-Pape ', 'Product_Name_Domaine de la Charbonniere Chateauneuf-du-Pape Les Hautes Brusquieres ', 'Product_Name_Domaine de la Janasse Chateauneuf-du-Pape ', 'Product_Name_Domaine de la Janasse Chateauneuf-du-Pape Cuvee Chaupin ', 'Product_Name_Domaine de la Janasse Chateauneuf-du-Pape Vieilles Vignes ', 'Product_Name_Domaine de la Janasse Cotes du Rhone Cuvee Les Garrigues ', 'Product_Name_Domaine de la Janasse Cotes du Rhone Village Les Garrigues ', \"Product_Name_Domaine de la Janasse Cotes du Rhone Villages Terre d'Argile \", 'Product_Name_Domaine de la Romanee-Conti Echezeaux Grand Cru ', 'Product_Name_Domaine de la Romanee-Conti Grands Echezeaux Grand Cru ', 'Product_Name_Domaine de la Romanee-Conti Romanee St. Vivant Grand Cru ', 'Product_Name_Domaine de la Solitude Chateauneuf-du-Pape Cornelia Constanza ', 'Product_Name_Domaine des Bosquets Gigondas Le Plateau ', 'Product_Name_Domaine des Bosquets Gigondas Lieu Dit ', 'Product_Name_Domaine des Bosquets Gigondas Reserve ', \"Product_Name_Domaine des Peres de l'Eglise Chateauneuf-du-Pape Heritage de Pollus \", 'Product_Name_Domaine des Senechaux Chateauneuf-du-Pape ', 'Product_Name_Domaine des Senechaux Chateauneuf-du-Pape Blanc ', 'Product_Name_Domaine du Cellier aux Moines Clos du Cellier aux Moines Givry Premier Cru ', 'Product_Name_Domaine du Pegau Chateauneuf-du-Pape Cuvee Reservee ', 'Product_Name_Domaine du Vieux Telegraphe Chateauneuf-du-Pape La Crau (. Liter Magnum) ', 'Product_Name_Domaine du Vieux Telegraphe Chateauneuf-du-Pape La Crau Blanc ', 'Product_Name_Domaine du Vieux Telegraphe Chateauneuf-du-Pape Telegramme ', 'Product_Name_Domaine les Pallieres Gigondas Les Racines ', 'Product_Name_Domaine les Pallieres Gigondas Terrasse du Diable ', 'Product_Name_Domaines Ott Etoile Provence Rose (. Liter Magnum) ', 'Product_Name_Dominio de Pingus ', 'Product_Name_Dominio de Pingus Flor de Pingus ', 'Product_Name_Dominus Estate ', 'Product_Name_Dominus Estate ( Liter Bottle) ', 'Product_Name_Dominus Estate (ML half-bottle) ', 'Product_Name_Dominus Napanook Vineyard ', 'Product_Name_Donatella Cinelli Colombini Brunello di Montalcino ', 'Product_Name_Donatella Cinelli Colombini Brunello di Montalcino Prime Donne ', 'Product_Name_Donatella Cinelli Colombini Brunello di Montalcino Riserva ', 'Product_Name_Double Eagle Red ', \"Product_Name_Dow's Vintage Port \", \"Product_Name_Dow's Vintage Port (ML half-bottle) \", 'Product_Name_DuMOL Estate Pinot Noir ', 'Product_Name_DuMOL Wester Reach Chardonnay ', 'Product_Name_DuMOL Wester Reach Pinot Noir ', 'Product_Name_Duboeuf Domaine Beranger Pouilly-Fuisse ', 'Product_Name_Duboeuf Julienas Chateau des Capitans ', 'Product_Name_Duboeuf Moulin-a-Vent Domaine des Rosiers ', 'Product_Name_Duboeuf Pouilly-Fuisse Emile Beranger ', 'Product_Name_Duckhorn Napa Valley Cabernet Sauvignon ', 'Product_Name_Duckhorn Napa Valley Cabernet Sauvignon (. Liter Magnum) ', 'Product_Name_Duckhorn Napa Valley Chardonnay ', 'Product_Name_Duckhorn Three Palms Merlot ', 'Product_Name_Duemani CiFRA Cabernet Franc ', 'Product_Name_Dunn Howell Mountain Cabernet Sauvignon ', 'Product_Name_Duorum Old Vines Reserva ', 'Product_Name_Dutton-Goldfield Cherry Ridge Vineyard Syrah ', 'Product_Name_Dutton-Goldfield Rued Vineyard Chardonnay ', 'Product_Name_Eden Rift Estate Chardonnay ', 'Product_Name_Eden Rift Estate Pinot Noir ', 'Product_Name_Eden Rift Terraces Chardonnay ', 'Product_Name_Eden Rift Terraces Pinot Noir ', 'Product_Name_Eguren Ugarte Cincuenta ', 'Product_Name_El Coto Coto de Imaz Gran Reserva ', 'Product_Name_El Enemigo Bonarda ', 'Product_Name_El Enemigo Cabernet Franc ', 'Product_Name_El Enemigo Gran Enemigo Agrelo Single Vineyard ', 'Product_Name_El Enemigo Gran Enemigo Gualtallary Single Vineyard ', 'Product_Name_El Enemigo Mendoza Gran Enemigo ', 'Product_Name_Elderton Command Shiraz ', 'Product_Name_Elk Cove Five Mountain Pinot Noir ', 'Product_Name_Elvio Cogno Anas-Cetta Nascetta di Novello ', 'Product_Name_Elvio Cogno Bricco Pernice Barolo ', 'Product_Name_Emilio Moro El Zarzal ', 'Product_Name_Emilio Moro La Revelia ', 'Product_Name_Emilio Moro Malleolus ', 'Product_Name_Emilio Moro Malleolus de Sanchomartin ', 'Product_Name_Emilio Moro Malleolus de Valderramiro ', 'Product_Name_Emmerich Knoll Pfaffenberg Selection Riesling ', 'Product_Name_Escarpment Martinborough Pinot Noir ', 'Product_Name_Faiveley Chambertin Clos de Beze Grand Cru ', 'Product_Name_Faiveley Clos de Vougeot Grand Cru ', 'Product_Name_Faiveley Corton Clos des Cortons Faiveley Grand Cru ', 'Product_Name_Faiveley Gevrey-Chambertin Les Cazetiers Premier Cru ', 'Product_Name_Faiveley Latricieres-Chambertin Grand Cru ', 'Product_Name_Famille Isabel Ferrando Chateauneuf-du-Pape ', 'Product_Name_Famille Isabel Ferrando Chateauneuf-du-Pape Blanc ', 'Product_Name_Fanti Vallocchio Brunello di Montalcino ', 'Product_Name_Far Mountain Fission Cabernet Sauvignon ', 'Product_Name_Far Mountain Myrna Chardonnay ', 'Product_Name_Far Niente Napa Valley Cabernet Sauvignon ', 'Product_Name_Fattoria La Fiorita Brunello di Montalcino ', 'Product_Name_Fattoria La Fiorita Brunello di Montalcino Riserva ', 'Product_Name_Fattoria Le Pupille Poggio Valente ', 'Product_Name_Fattoria dei Barbi Brunello di Montalcino ', 'Product_Name_Fattoria dei Barbi Brunello di Montalcino Riserva ', 'Product_Name_Faust The Pact ', 'Product_Name_Faustino V Reserva ', 'Product_Name_Favia Carbone Chardonnay ', 'Product_Name_Felsina Berardenga Chianti Classico ', 'Product_Name_Felsina Berardenga Chianti Classico (ML Half-bottle) ', 'Product_Name_Felsina Chianti Classico Riserva Rancia ', 'Product_Name_Felsina Chianti Classico Riserva Rancia (. Liter Magnum) ', 'Product_Name_Felsina Fontalloro ', 'Product_Name_Felsina Fontalloro ( Liter Bottle) ', 'Product_Name_Felsina Fontalloro (. Liter Magnum) ', 'Product_Name_Felsina Fontalloro (ML half-bottle) ', \"Product_Name_Fess Parker Ashley's Vineyard Pinot Noir \", 'Product_Name_Fess Parker Pommard Clone Pinot Noir ', 'Product_Name_Fess Parker Sanford and Benedict Pinot Noir ', 'Product_Name_Feudo Maccari Saia ', 'Product_Name_Figgins Estate Red Wine ', 'Product_Name_Figgins Figlia ', 'Product_Name_Finca Decero Remolinos Vineyard Malbec ', 'Product_Name_Flechas De Los Andes Gran Malbec ', 'Product_Name_Flora Springs Soliloquy White ', 'Product_Name_Flora Springs Trilogy ', 'Product_Name_Flowers Sonoma Coast Pinot Noir (. Liter Magnum) ', 'Product_Name_Foley Johnson Estate Cabernet Sauvignon ', 'Product_Name_Fonseca Vintage Port ', 'Product_Name_Fonseca Vintage Port (ML half-bottle) ', 'Product_Name_Force Majeure Epinette ', 'Product_Name_Fossacolle Brunello di Montalcino Riserva ', 'Product_Name_Foxen Block UU Bien Nacido Chardonnay ', 'Product_Name_Francois Lamarche Clos de Vougeot Grand Cru (. Liter Magnum) ', 'Product_Name_Frank Family Vineyards Cabernet Sauvignon ', 'Product_Name_Frank Family Vineyards Cabernet Sauvignon (ML half-bottle) ', 'Product_Name_Freemark Abbey Bosche Cabernet Sauvignon ', 'Product_Name_Freemark Abbey Napa Valley Cabernet Sauvignon ', 'Product_Name_Freemark Abbey Rutherford Cabernet Sauvignon ', 'Product_Name_Freemark Abbey Sycamore Cabernet Sauvignon ', 'Product_Name_Frescobaldi CastelGiocondo Brunello di Montalcino ', 'Product_Name_Frias Family Vineyard Spring Mountain District Cabernet Sauvignon ', \"Product_Name_Frog's Leap Estate Grown Cabernet Sauvignon \", 'Product_Name_Fuligni Brunello di Montalcino ', 'Product_Name_Fuligni Brunello di Montalcino Riserva ', 'Product_Name_Gagliole Chianti Classico Riserva ', 'Product_Name_Galerie Pleinair Cabernet Sauvignon ', 'Product_Name_Geyser Peak Walking Tree Vineyard Cabernet Sauvignon ', 'Product_Name_Glaetzer Bishop Shiraz ', 'Product_Name_Grace Family Blank Cabernet Sauvignon ', 'Product_Name_Graffito Malbec ', \"Product_Name_Graham's Vintage Port \", \"Product_Name_Graham's Vintage Port (ML half-bottle) \", 'Product_Name_Gramercy Cellars Walla Walla Syrah ', 'Product_Name_Gran Moraine Yamhill-Carlton Chardonnay ', 'Product_Name_Gran Moraine Yamhill-Carlton Pinot Noir ', 'Product_Name_Greywacke Chardonnay ', 'Product_Name_Grgich Hills Estate Chardonnay ', 'Product_Name_Grgich Hills Estate Yountville Old Vine Cabernet Sauvignon ', 'Product_Name_Grgich Hills Estate Zinfandel ', 'Product_Name_Groth Cabernet Sauvignon ', 'Product_Name_Groth Cabernet Sauvignon (. Liter Magnum) ', 'Product_Name_Groth Reserve Cabernet Sauvignon ', 'Product_Name_Grounded Wine Co. Public Radio Paso Robles Red ', 'Product_Name_Guigal Chateauneuf-du-Pape ', 'Product_Name_Hall Kathryn Hall Cabernet Sauvignon ', 'Product_Name_Hanzell Pinot Noir ', 'Product_Name_Harlan Estate (. Liter Magnum in OWC) ', 'Product_Name_Hartford Court Four Hearts Chardonnay ', 'Product_Name_Hartford Court Three Jacks Chardonnay ', \"Product_Name_Heitz Cellar Martha's Vineyard Cabernet Sauvignon (. Liter Magnum) \", 'Product_Name_Heitz Cellar Napa Valley Cabernet Sauvignon (. Liter Magnum) ', \"Product_Name_Henry's Drive Magnus Shiraz \", 'Product_Name_Henschke Hill of Grace Shiraz ', \"Product_Name_Henschke Johann's Garden GSM \", 'Product_Name_Henschke Keyneton Estate Euphonium ', 'Product_Name_Henschke Mount Edelstone Shiraz ', 'Product_Name_Henschke Tappa Pass Shiraz ', 'Product_Name_Herdade do Mouchao Tinto ', 'Product_Name_Hermann J. Wiemer Dry Riesling Reserve ', 'Product_Name_Hess Collection Iron Corral Cabernet Sauvignon ', 'Product_Name_Hess Lion Tamer Cabernet Sauvignon ', 'Product_Name_Hess Panthera Pinot Noir ', 'Product_Name_Hickinbotham Brooks Road Shiraz ', 'Product_Name_Hickinbotham The Peake Cabernet-Shiraz ', 'Product_Name_Hickinbotham The Revivalist Merlot ', 'Product_Name_Hickinbotham Trueman Cabernet Sauvignon ', 'Product_Name_High Dive Napa Valley Red Blend ', 'Product_Name_Hillick and Hobbs Estate Vineyard Riesling ', 'Product_Name_Honig Bartolucci Vineyard Cabernet Sauvignon ', 'Product_Name_Honig Cabernet Sauvignon ', \"Product_Name_Hundred Acre Ancient Way Vineyard Summer's Block Shiraz \", 'Product_Name_Il Borro ', 'Product_Name_Il Marroneto Brunello Madonna delle Grazie ', 'Product_Name_Il Molino di Grace Chianti Classico Riserva ', 'Product_Name_Il Molino di Grace Gratius ', 'Product_Name_Il Poggione Brunello di Montalcino ', 'Product_Name_Il Poggione Brunello di Montalcino Riserva Vigna Paganelli ', 'Product_Name_Inglenook Blancaneaux ', 'Product_Name_Inglenook Cabernet Sauvignon ', 'Product_Name_Inglenook Cabernet Sauvignon (. Liter Magnum) ', 'Product_Name_Inglenook Rubicon ', 'Product_Name_Iron Horse Classic Vintage Brut ', 'Product_Name_J. Christopher Basalte Pinot Noir ', 'Product_Name_J. Christopher Dundee Hills Volcanique Pinot Noir ', 'Product_Name_J. Lohr Hilltop Cabernet Sauvignon ', 'Product_Name_J. Lohr Hilltop Cabernet Sauvignon (ML half-bottle) ', 'Product_Name_J. Lohr Pure Paso Proprietary Red ', 'Product_Name_Jaboulet Hermitage Blanc Le Chevalier de Sterimberg ', 'Product_Name_Jaboulet Hermitage La Chapelle ', 'Product_Name_Jaboulet Hermitage La Maison Bleue ', 'Product_Name_Jean-Luc Colombo Cornas Les Terres Brulees ', 'Product_Name_Jeff Cohn Cellars Smoke and Mirrors Red Blend ', 'Product_Name_Jim Barry The Armagh Shiraz ', 'Product_Name_Jim Barry The McRae Wood Shiraz ', 'Product_Name_John Duval Plexus Red ', 'Product_Name_Jordan Chardonnay ', 'Product_Name_Joseph Drouhin Beaune Clos des Mouches Premier Cru Blanc ', 'Product_Name_Joseph Drouhin Beaune Clos des Mouches Premier Cru Rouge ', 'Product_Name_Joseph Drouhin Corton Grand Cru ', 'Product_Name_Joseph Drouhin Cote de Beaune Blanc ', 'Product_Name_Joseph Drouhin Vosne-Romanee Les Petits Monts Premier Cru ', 'Product_Name_Joseph Phelps Cabernet Sauvignon ', 'Product_Name_Joseph Phelps Insignia (. Liter Magnum) ', 'Product_Name_K Vintners Cattle King Syrah ', 'Product_Name_K Vintners Rockgarden Syrah ', 'Product_Name_K Vintners The Deal Syrah ', 'Product_Name_K Vintners The Hidden Syrah ', 'Product_Name_Kanonkop Pinotage ', \"Product_Name_Kapcsandy Family Winery State Lane Vineyard Roberta's Reserve \", 'Product_Name_Keenan Chardonnay ', 'Product_Name_Keenan Mailbox Vineyard Spring Mountain Reserve Merlot ', 'Product_Name_Keenan Napa Valley Cabernet Sauvignon ', 'Product_Name_Keenan Napa Valley Cabernet Sauvignon (ML half-bottle) ', 'Product_Name_Keplinger Lithic ', \"Product_Name_Kilikanoon Killerman's Run Cabernet Sauvignon \", 'Product_Name_King Estate Willamette Valley Chardonnay ', 'Product_Name_King Palm Chardonnay ', 'Product_Name_Kintera Cabernet Sauvignon ', 'Product_Name_Klipsun Cabernet Sauvignon ', \"Product_Name_L'Aventure Cote A Cote \", \"Product_Name_L'Aventure Estate Cuvee \", \"Product_Name_L'Aventure Optimus \", \"Product_Name_L'Ecole  Estate Merlot \", \"Product_Name_L'Ecole  Ferguson Estate Red \", \"Product_Name_L'Ecole  Pepper Bridge Vineyard Apogee \", \"Product_Name_L'Ecole  Seven Hills Vineyard Perigee \", \"Product_Name_L'Ecole  Walla Walla Valley Cabernet Sauvignon \", \"Product_Name_L'Usine Annapolis Vineyard Pinot Noir \", 'Product_Name_La Colombina Brunello di Montalcino ', 'Product_Name_La Gerla Brunello di Montalcino ', 'Product_Name_La Gerla Vigna Gli Angeli Brunello di Montalcino Riserva ', 'Product_Name_La Jota Howell Mountain Cabernet Sauvignon ', 'Product_Name_La Lecciaia Brunello di Montalcino Riserva ', 'Product_Name_La Rioja Alta Vina Ardanza Reserva (ML half-bottle) ', 'Product_Name_Lange Winery Three Hills Cuvee Chardonnay ', 'Product_Name_Larkmead Cabernet Sauvignon ', 'Product_Name_Laurel Glen Counterpoint Cabernet Sauvignon ', 'Product_Name_Laurent Fayolle Clos des Cornirets Crozes-Hermitage Rouge ', 'Product_Name_Laurent Fayolle Les Diognieres Hermitage Blanc ', 'Product_Name_Lavau Chateauneuf-du-Pape ', 'Product_Name_Lavau Gigondas ', 'Product_Name_Lavinea Elton Chardonnay ', 'Product_Name_Lavinea Elton Pinot Noir ', 'Product_Name_Lavinea Lazy River Chardonnay ', 'Product_Name_Lavinea Temperance Hill Pinot Noir ', 'Product_Name_Lavinea Tualatin Pinot Noir ', 'Product_Name_Le Macchiole Scrio ', 'Product_Name_Le Potazzine Brunello di Montalcino ', 'Product_Name_Le Ragnaie Brunello di Montalcino ', 'Product_Name_Le Ragnaie Brunello di Montalcino (. Liter Magnum) ', 'Product_Name_Le Ragnaie Casanovina Montosoli Brunello di Montalcino ', 'Product_Name_Le Ragnaie Casanovina Montosoli Brunello di Montalcino (. Liter Magnum) ', 'Product_Name_Le Ragnaie Passo del Lume Spento Brunello di Montalcino ', 'Product_Name_Le Ragnaie Ragnaie Vigna Vecchia Brunello di Montalcino ', 'Product_Name_Le Ragnaie Ragnaie Vigna Vecchia Brunello di Montalcino ( Liter Bottle) ', 'Product_Name_Le Ragnaie Ragnaie Vigna Vecchia Brunello di Montalcino (. Liter Magnum) ', 'Product_Name_Lemelson Stermer Vineyard Pinot Noir ', \"Product_Name_Lemelson Thea's Selection Pinot Noir \", 'Product_Name_Leonetti Cabernet Sauvignon ', 'Product_Name_Les Lauzeraies Tavel Rose ', 'Product_Name_Lewis Cellars Cabernet Sauvignon ', 'Product_Name_Limerick Lane Russian River Zinfandel ', 'Product_Name_Lincourt Rancho Santa Rosa Pinot Noir ', 'Product_Name_Lisini Brunello di Montalcino ', 'Product_Name_Lobo Wines Atlas Peak Cabernet Sauvignon ', 'Product_Name_Long Meadow Ranch Anderson Valley Chardonnay ', 'Product_Name_Louis Jadot Beaune Clos des Ursules Premier Cru ', 'Product_Name_Louis Jadot Chambolle-Musigny Les Fuees Premier Cru ', 'Product_Name_Louis Jadot Chassagne-Montrachet Abbaye de Morgeot Premier Cru ', 'Product_Name_Louis Jadot Chassagne-Montrachet Morgeot Clos de la Chapelle Premier Cru ', 'Product_Name_Louis Jadot Clos de la Roche Grand Cru ', 'Product_Name_Louis Jadot Corton Pougets Grand Cru Domaines des Heritiers ', 'Product_Name_Louis Jadot Corton Pougets Grand Cru Domaines des Heritiers (. Liter Magnum) ', 'Product_Name_Louis Jadot Corton-Charlemagne Grand Cru Domaine des Heritiers ', 'Product_Name_Louis Jadot Gevrey-Chambertin Clos St. Jacques Premier Cru ', 'Product_Name_Louis Jadot Nuits-Saint-Georges Les Boudots Premier Cru Domaine Gagey ', 'Product_Name_Louis Jadot Savigny-les-Beaune La Dominode Premier Cru ', 'Product_Name_Louis Jadot Volnay Clos de la Barre Premier Cru ', 'Product_Name_Louis Latour Aloxe-Corton Les Chaillots Premier Cru ', 'Product_Name_Louis Latour Chambertin Cuvee Heritiers Grand Cru ', 'Product_Name_Louis Latour Chateau Corton Grancey Grand Cru ', 'Product_Name_Louis Latour Chevalier-Montrachet Les Demoiselles Grand Cru ', 'Product_Name_Louis Latour Corton Clos de la Vigne au Saint Grand Cru ', 'Product_Name_Louis Latour Corton-Charlemagne Grand Cru ', 'Product_Name_Louis Latour Corton-Charlemagne Grand Cru (ML half-bottle) ', 'Product_Name_Louis Latour Meursault Blagny Chateau de Blagny Premier Cru ', 'Product_Name_Louis Latour Montrachet Grand Cru ', 'Product_Name_Louis Latour Volnay En Chevret Premier Cru ', 'Product_Name_Louis Martini Monte Rosso Cabernet Sauvignon ', 'Product_Name_Louis Martini Monte Rosso Gnarly Vine Zinfandel ', 'Product_Name_Louis Martini Napa Valley Cabernet Sauvignon ', 'Product_Name_Luca Beso de Dante ', 'Product_Name_Luca G Lot Chardonnay ', 'Product_Name_Luca Old Vine Malbec ', 'Product_Name_Luke Cabernet Sauvignon ', 'Product_Name_M by Michael Mondavi Red Blend ', 'Product_Name_M. Chapoutier Ermitage Le Pavillon ', \"Product_Name_M. Chapoutier Ermitage de l'Oree Blanc \", \"Product_Name_M. Chapoutier Ermitage l'Ermite \", \"Product_Name_M. Chapoutier Ermitage l'Ermite Blanc \", 'Product_Name_M. Chapoutier Hermitage Chante Alouette Blanc ', 'Product_Name_MacRostie Sonoma Coast Chardonnay (ML half-bottle) ', 'Product_Name_MacRostie Wildcat Mountain Vineyard Chardonnay ', \"Product_Name_Maggy Hawk Stormin' Pinot Noir \", 'Product_Name_Maison Brotte Chateauneuf-du-Pape Les Hauts de Barville Blanc ', 'Product_Name_Maison Brotte Creation Grosset Cairanne ', 'Product_Name_Maison Brotte Les Hauts de Barville Chateauneuf-du-Pape ', 'Product_Name_Marietta Cellars Angeli Estate Zinfandel ', 'Product_Name_Marimar Estate Don Miguel Vineyard La Masia Pinot Noir ', 'Product_Name_Mark Ryan Dead Horse Cabernet Sauvignon ', 'Product_Name_Marques de Caceres Rioja Reserva ', 'Product_Name_Marques de Riscal Rioja Gran Reserva ', 'Product_Name_Marques de Vargas Rioja Reserva ', 'Product_Name_Masi Campolongo di Torbe Amarone ', 'Product_Name_Masseto ( Liter Bottle) ', 'Product_Name_Masseto (. Liter Magnum) ', 'Product_Name_Matsu El Picaro ', 'Product_Name_Mazzei Chianti Classico Riserva Ser Lapo ', 'Product_Name_Melville Estate Sta. Rita Hills Syrah ', \"Product_Name_Melville Sandy's Pinot Noir \", 'Product_Name_Mendel Unus ', 'Product_Name_Merry Edwards Russian River Pinot Noir ', 'Product_Name_Merry Edwards Sonoma Coast Pinot Noir ', 'Product_Name_Merryvale Carneros Chardonnay ', 'Product_Name_Merryvale Merlot ', 'Product_Name_Merryvale Napa Cabernet Sauvignon ', 'Product_Name_Michele Satta Piastraia ', 'Product_Name_Miner Family Stagecoach Cabernet Sauvignon ', 'Product_Name_Miner Family The Oracle ', 'Product_Name_Miraval Rose ', 'Product_Name_Miraval Rose (. Liter Magnum) ', 'Product_Name_Miraval Rose (ML half-bottle) ', 'Product_Name_Mocali Brunello di Montalcino ', 'Product_Name_Montinore Estate Pinot Gris ', 'Product_Name_Montirius Le Clos ', 'Product_Name_Morgan Twelve Clones Pinot Noir ', \"Product_Name_Morgante Don Antonio Nero d'Avola Riserva \", 'Product_Name_Morlet Passionnement Cabernet Sauvignon ', 'Product_Name_Mount Eden Vineyards Estate Cabernet Sauvignon ', 'Product_Name_Mount Eden Vineyards Estate Chardonnay ', 'Product_Name_Mount Eden Vineyards Reserve Chardonnay ', 'Product_Name_Mount Eden Vineyards Wolff Vineyard Chardonnay ', 'Product_Name_Mount Veeder Winery Cabernet Sauvignon ', 'Product_Name_Mount Veeder Winery Reserve Red ', 'Product_Name_Mt. Brave Cabernet Sauvignon ', 'Product_Name_Mt. Brave Malbec ', 'Product_Name_Mullineux Family Wines Schist Syrah ', 'Product_Name_Newton Single Vineyard Yountville Cabernet Sauvignon ', 'Product_Name_Newton The Puzzle ', 'Product_Name_Newton Unfiltered Cabernet Sauvignon ', 'Product_Name_Newton Unfiltered Chardonnay ', 'Product_Name_Neyers Ame Cabernet Sauvignon ', 'Product_Name_Neyers Neyers Ranch-Conn Valley Cabernet Sauvignon ', 'Product_Name_Nickel & Nickel Branding Iron Cabernet Sauvignon ', 'Product_Name_Nickel & Nickel State Ranch Cabernet Sauvignon ', 'Product_Name_Nicolas-Jay Affinites Chardonnay ', \"Product_Name_Nicolas-Jay L'Ensemble Willamette Valley Pinot Noir \", 'Product_Name_Nicolas-Jay Own-Rooted Pinot Noir ', 'Product_Name_OVID ', 'Product_Name_Obsidian Half Mile ', 'Product_Name_Obsidian Ridge Cabernet Sauvignon ', 'Product_Name_Olga Raffault Les Picasses ', 'Product_Name_Orin Swift Cellars  Years in the Desert (. Liter Magnum) ', 'Product_Name_Orma Toscana ', 'Product_Name_Ornellaia ( Liter Bottle) ', 'Product_Name_Ornellaia (. Liter Magnum) ', \"Product_Name_Ornellaia Le Volte dell'Ornellaia \", \"Product_Name_Ornellaia Poggio alle Gazze dell'Ornellaia \", 'Product_Name_Owen Roe The Kilmore Pinot Noir ', 'Product_Name_Pahlmeyer Jayson Cabernet Sauvignon ', 'Product_Name_Pahlmeyer Jayson Red ', 'Product_Name_Palazzo Brunello di Montalcino ', 'Product_Name_Palazzo Brunello di Montalcino Cosimo ', 'Product_Name_Palazzo Brunello di Montalcino Riserva ', 'Product_Name_Paraduxx Proprietary Red ', 'Product_Name_Patrimony Cabernet Franc ', 'Product_Name_Patrimony Cabernet Sauvignon ', 'Product_Name_Patrimony Cabernet Sauvignon (. Liter Magnum) ', 'Product_Name_Patz & Hall Dutton Ranch Chardonnay ', 'Product_Name_Patz & Hall Hyde Vineyard Chardonnay ', 'Product_Name_Patz & Hall Sonoma Coast Pinot Noir (ML half-bottle) ', 'Product_Name_Paul Hobbs Beckstoffer Dr. Crane Vineyard Cabernet Sauvignon ', 'Product_Name_Paul Hobbs Beckstoffer Las Piedras Cabernet Sauvignon ', 'Product_Name_Paul Hobbs Beckstoffer To Kalon Vineyard Cabernet Sauvignon ', 'Product_Name_Paul Hobbs Coombsville Cabernet Sauvignon ', 'Product_Name_Paul Hobbs Nathan Coombs Estate Cabernet Sauvignon ', 'Product_Name_Paul Hobbs Russian River Chardonnay ', 'Product_Name_Paul Hobbs Russian River Pinot Noir ', 'Product_Name_Pazo Cilleiro Albarino ', 'Product_Name_Pazo de Barrantes Albarino ', 'Product_Name_Peju Winery Legacy Collection Cabernet Sauvignon ', \"Product_Name_Pellet Estate Henry's Reserve \", 'Product_Name_Penfolds Bin  Cabernet Sauvignon ', 'Product_Name_Penfolds Bin  Napa Valley Cabernet Sauvignon ', 'Product_Name_Penfolds Bin  Shiraz ', 'Product_Name_Penfolds Grange ', 'Product_Name_Penfolds RWT Shiraz ', 'Product_Name_Penley Estate Phoenix Cabernet Sauvignon ', 'Product_Name_Peter Michael Au Paradis ', 'Product_Name_Petrolo Galatrona ', 'Product_Name_Petrolo Torrione ', 'Product_Name_Pewsey Vale Eden Valley Dry Riesling ', 'Product_Name_Philip Togni Cabernet Sauvignon ', 'Product_Name_Pierre Gelin Fixin Premier Cru Clos Napoleon ', 'Product_Name_Planeta Eruzione  Carricante ', 'Product_Name_Podere Scopetone Brunello di Montalcino ', 'Product_Name_Poggio Antico Brunello di Montalcino ', 'Product_Name_Poggio Antico Brunello di Montalcino Altero ', 'Product_Name_Poggio Antico Brunello di Montalcino Riserva ', 'Product_Name_Poggio Scalette Il Carbonaione ', 'Product_Name_Poggio al Tesoro Mediterra ', 'Product_Name_Poggio di Sotto Brunello di Montalcino ', 'Product_Name_Poggio di Sotto Rosso di Montalcino ', 'Product_Name_Ponzi Reserve Pinot Noir ', 'Product_Name_Prager Smaragd Klaus Riesling ', 'Product_Name_Prats & Symington Chryseia Douro ', 'Product_Name_Priest Ranch Coach Gun ', 'Product_Name_Protos Reserva ', 'Product_Name_Purple Hands Freedom Hill Vineyard Pinot Noir ', 'Product_Name_Purple Hands Latchkey Vineyard Pinot Noir ', 'Product_Name_Pym-Rae Tesseron Estate ', 'Product_Name_Querciabella Camartina ', 'Product_Name_Querciabella Chianti Classico ', 'Product_Name_Quinta do Portal Grande Reserva Tinto ', 'Product_Name_Quinta do Vesuvio Vintage Port ', 'Product_Name_Qupe Bien Nacido Y Block Chardonnay ', 'Product_Name_Qupe Central Coast Syrah ', 'Product_Name_R. Lopez de Heredia Rioja Vina Tondonia Reserva ', 'Product_Name_R. Lopez de Heredia Rioja Vina Tondonia Reserva (. Liter Magnum) ', 'Product_Name_R. Lopez de Heredia Rioja Vina Tondonia Reserva (ML half-bottle) ', 'Product_Name_ROCO RMS Brut ', 'Product_Name_Ramey Annum Cabernet Sauvignon ( Liter Bottle) ', 'Product_Name_Ramey Fort Ross-Seaview Chardonnay ', 'Product_Name_Ramey Pedregal Vineyard Cabernet Sauvignon ', 'Product_Name_Ramey Russian River Pinot Noir ', 'Product_Name_Rapaura Springs Reserve Sauvignon Blanc ', 'Product_Name_Ravines Argetsinger Vineyard Dry Riesling ', 'Product_Name_Ravines Dry Riesling ', 'Product_Name_Raymond Generations Cabernet Sauvignon ', 'Product_Name_Raymond Reserve Selection Cabernet Sauvignon ', 'Product_Name_Realm Cellars The Falstaff ', 'Product_Name_Recoltant Napa Valley Cabernet Sauvignon ', 'Product_Name_Red Car Sonoma Coast Chardonnay ', 'Product_Name_Red Newt Cellars Dry Riesling ', 'Product_Name_Relic Wine Cellars Ritual ', 'Product_Name_Renieri Brunello di Montalcino ', 'Product_Name_Renieri Brunello di Montalcino Riserva ', 'Product_Name_Resonance Decouverte Vineyard Pinot Noir ', 'Product_Name_Ridge Geyserville ', 'Product_Name_Ridge Grenache Blanc ', 'Product_Name_Ridge Monte Bello ', 'Product_Name_Robert Mondavi Napa Valley Cabernet Sauvignon ', 'Product_Name_Robert Mondavi Napa Valley Cabernet Sauvignon (. Liter Magnum) ', 'Product_Name_Robert Weil Kiedrich Grafenberg Riesling Auslese (ML half-bottle) ', 'Product_Name_Roc des Boutires Pouilly-Fuisse ', 'Product_Name_Rocca delle Macie Sergio Zingarelli Chianti Classico Gran Selezione ', 'Product_Name_Rodney Strong Brothers Vineyard Cabernet Sauvignon ', \"Product_Name_Roederer Estate L'Ermitage \", 'Product_Name_Roger Sabon Chateauneuf-du-Pape Le Secret des Sabon ', 'Product_Name_Roger Sabon Chateauneuf-du-Pape Les Olivets ', 'Product_Name_Roger Sabon Chateauneuf-du-Pape Prestige ', 'Product_Name_Roger Sabon Chateauneuf-du-Pape Reserve ', 'Product_Name_Roots Run Deep Hypothesis Oakville Cabernet Sauvignon ', 'Product_Name_Rotem & Mounir Saouma Chateauneuf-du-Pape Arioso ', 'Product_Name_Round Pond Estate Napa Valley Cabernet Sauvignon ', 'Product_Name_Salvestrin Dr. Crane Vineyard Estate Cabernet Sauvignon ', 'Product_Name_San Felice Chianti Classico ', 'Product_Name_San Felice Il Grigio Chianti Classico Gran Selezione ', 'Product_Name_San Felice Il Grigio Chianti Classico Riserva ', 'Product_Name_San Filippo Brunello di Montalcino Le Lucere ', 'Product_Name_San Giorgio Ugolforte Brunello di Montalcino ', 'Product_Name_San Polino Brunello di Montalcino ', 'Product_Name_Sanford Sta. Rita Hills Chardonnay ', 'Product_Name_Sanford Sta. Rita Hills Pinot Noir ', 'Product_Name_Schrader RBS To Kalon Vineyard Cabernet Sauvignon ', 'Product_Name_Schug Carneros Chardonnay ', 'Product_Name_Schug Carneros Chardonnay (ML half-bottle) ', 'Product_Name_Schug Carneros Pinot Noir ', 'Product_Name_Schug Carneros Pinot Noir (ML half-bottle) ', 'Product_Name_Schug Sauvignon Blanc ', 'Product_Name_Schug Sonoma Coast Chardonnay ', 'Product_Name_Schug Sonoma Coast Pinot Noir ', 'Product_Name_Schug Sonoma Valley Cabernet Sauvignon ', 'Product_Name_Secret Door Hirondelle Vineyard Cabernet Sauvignon ', 'Product_Name_Sesti Brunello di Montalcino ', 'Product_Name_Shafer Hillside Select Cabernet Sauvignon ', 'Product_Name_Shafer Hillside Select Cabernet Sauvignon (. Liter Magnum) ', 'Product_Name_Shafer One Point Five Cabernet Sauvignon ', 'Product_Name_Shafer Relentless ', 'Product_Name_Shafer TD- ', 'Product_Name_Shaw + Smith Sauvignon Blanc ', 'Product_Name_Shaw + Smith Shiraz ', 'Product_Name_Sierra Cantabria Crianza ', 'Product_Name_Sierra Cantabria Rioja Reserva ', 'Product_Name_Silverado Cabernet Sauvignon ', 'Product_Name_Silverado Miller Ranch Sauvignon Blanc ', 'Product_Name_Sine Qua Non The Line Grenache ', 'Product_Name_Siro Pacenti Brunello di Montalcino Pelagrilli ', 'Product_Name_Siro Pacenti Brunello di Montalcino Vecchie Vigne ', 'Product_Name_Small Vines Sonoma Coast Pinot Noir ', 'Product_Name_Smith Madrone Riesling ', 'Product_Name_Snowden Brothers Vineyard Cabernet Sauvignon ', 'Product_Name_Somerston Stornoway Red Blend ', 'Product_Name_Spottswoode Cabernet Sauvignon ', 'Product_Name_Spottswoode Cabernet Sauvignon (. Liter Magnum) ', 'Product_Name_Spottswoode Lyndenhurst Cabernet Sauvignon ', 'Product_Name_Spring Valley Uriah ', 'Product_Name_St. Innocent Temperance Hill Vineyard Pinot Noir ', 'Product_Name_St. Supery Dollarhide Sauvignon Blanc ', 'Product_Name_St. Supery Rutherford Merlot ', \"Product_Name_Stag's Leap Wine Cellars Artemis Cabernet Sauvignon \", \"Product_Name_Stag's Leap Wine Cellars Artemis Cabernet Sauvignon (. Liter Magnum) \", \"Product_Name_Stag's Leap Wine Cellars Fay Vineyard Cabernet Sauvignon \", 'Product_Name_Staglin Cabernet Sauvignon ', 'Product_Name_Staglin Cabernet Sauvignon (ML half-bottle) ', \"Product_Name_Stags' Leap Winery Petite Sirah \", \"Product_Name_Stags' Leap Winery The Leap Estate Grown Cabernet Sauvignon \", 'Product_Name_Stonestreet Estate Chardonnay ', \"Product_Name_Substance Vineyard Collection Jack's Cabernet Sauvignon \", 'Product_Name_Substance Vineyard Collection Klein Bx Blend ', 'Product_Name_Susana Balbo Signature Malbec ', 'Product_Name_Tablas Creek Esprit de Tablas Rouge ', 'Product_Name_Tablas Creek Patelin de Tablas Blanc ', 'Product_Name_Tablas Creek Patelin de Tablas Rose ', 'Product_Name_Talbott Sleepy Hollow Chardonnay ', \"Product_Name_Talley Rosemary's Vineyard Chardonnay \", 'Product_Name_Te Pa Wines OKE Sauvignon ', 'Product_Name_Te Pa Wines Reserve Pinot Noir ', 'Product_Name_Tensley Colson Canyon Vineyard Syrah ', 'Product_Name_Tenuta Luce Brunello di Montalcino ', 'Product_Name_Tenuta Ormanni Chianti Classico ', 'Product_Name_Tenuta San Guido Guidalberto ', 'Product_Name_Tenuta Scersce Infinito Sforzato di Valtellina ', 'Product_Name_Tenuta Sette Cieli Indaco ', 'Product_Name_Tenuta Sette Cieli Scipio ', 'Product_Name_Tenuta Sette Ponti Crognolo ', 'Product_Name_Tenuta Sette Ponti Oreno ', 'Product_Name_Tenuta Sette Ponti Vigna dell Impero ', 'Product_Name_Tenuta di Arceno Chianti Classico ', 'Product_Name_Tenuta di Biserno Biserno ', 'Product_Name_Tenuta di Capraia Chianti Classico Effe  Gran Selezione ', 'Product_Name_Tenuta di Capraia Chianti Classico Riserva ', 'Product_Name_Tenuta di Nozzole La Forra Chianti Classico Riserva ', 'Product_Name_Tenuta di Trinoro Toscana Rosso ', 'Product_Name_Tenute Silvio Nardi Brunello di Montalcino ', 'Product_Name_Terrabianca Campaccio ', 'Product_Name_Terrazas de los Andes Grand Cabernet Sauvignon ', 'Product_Name_Terre Nere Etna Rosso Moganazzi ', 'Product_Name_Tikal Patriota ', 'Product_Name_Titus Cabernet Sauvignon ', 'Product_Name_To Kalon Vineyard Co H.W.C Cabernet Sauvignon ', 'Product_Name_Tolaini Picconero Tenuta Montebello ', 'Product_Name_Tolaini Valdisanti Toscana ', 'Product_Name_Torbreck Hillside Grenache ', 'Product_Name_Torbreck RunRig ', 'Product_Name_Torbreck The Steading Red ', 'Product_Name_Tormaresca Bocca di Lupo ', 'Product_Name_Trapiche Oak Cask Cabernet Sauvignon ', 'Product_Name_Trefethen Cabernet Sauvignon ', 'Product_Name_Trefethen Cabernet Sauvignon (. Liter Magnum) ', 'Product_Name_Trione River Road Ranch Chardonnay ', 'Product_Name_Trivento Golden Reserve Malbec ', 'Product_Name_Two Angels Sauvignon Blanc ', 'Product_Name_Uccelliera Brunello di Montalcino ', 'Product_Name_Uccelliera Brunello di Montalcino Riserva ', 'Product_Name_Val di Suga Brunello di Montalcino ', 'Product_Name_Val di Suga Vigna Spuntali Brunello di Montalcino ', 'Product_Name_Valdicava Brunello di Montalcino ', 'Product_Name_Valdicava Madonna del Piano Brunello di Montalcino Riserva ', 'Product_Name_Valdicava Madonna del Piano Brunello di Montalcino Riserva (. Liter Magnum) ', 'Product_Name_Valdicava Montosoli Brunello di Montalcino (. Liter Magnum) ', 'Product_Name_Valiano . Chianti Classico Gran Selezione ', 'Product_Name_Vavasour Sauvignon Blanc ', 'Product_Name_Vignamaggio Chianti Classico Monna Lisa Gran Selezione ', 'Product_Name_Vignamaggio Chianti Classico Terre di Prenzano ', 'Product_Name_Villa Cerna Chianti Classico Primocolle ', 'Product_Name_Villa Maria Reserve Pinot Noir ', 'Product_Name_Villa Maria Taylors Pass Sauvignon Blanc ', 'Product_Name_Villota Rioja ', 'Product_Name_Villota Vina Gena Vinedo Singular Rioja ', 'Product_Name_Vina Bujanda Reserva ', 'Product_Name_Vina Real Gran Reserva ', 'Product_Name_Vina Real Reserva ', 'Product_Name_Vinedos de Paganos La Nieta ', 'Product_Name_Vineyard  Aida Estate Cabernet Sauvignon ', 'Product_Name_Vineyard  Ceanda Cabernet Sauvignon ', 'Product_Name_Vintage Longbottom H Syrah ', 'Product_Name_Viticcio Chianti Classico Riserva ', 'Product_Name_Voliero Brunello di Montalcino ', 'Product_Name_Volker Eisele Cabernet Sauvignon ', \"Product_Name_Warre's Vintage Port \", 'Product_Name_Wente Morning Fog Chardonnay ', 'Product_Name_Westwood Winery Legend Proprietary Red Blend ', 'Product_Name_Whitehall Lane Cabernet Sauvignon ', 'Product_Name_Whitehall Lane Leonardini Estate Cabernet Sauvignon ', 'Product_Name_WillaKenzie Estate Estate Cuvee Pinot Noir ', 'Product_Name_Wine & Soul Pintas ', 'Product_Name_Wine & Soul Pintas Character Red ', 'Product_Name_Wine & Soul Quinta da Manoella Vinhas Velhas ', 'Product_Name_Wirra Wirra RSW Shiraz ', 'Product_Name_Xavier Monnot Maranges Clos de la Fussiere Premier Cru Monopole ', 'Product_Name_Xavier Monnot Pommard Les Vignots ', \"Product_Name_Yalumba Samuel's Collection Bush Vine Grenache \", \"Product_Name_Yalumba Samuel's Collection Shiraz \", 'Product_Name_Yalumba The Menzies Cabernet Sauvignon ', 'Product_Name_Yalumba The Octavius Old Vine Shiraz ', 'Product_Name_Yalumba The Signature Cabernet-Shiraz ', 'Product_Name_Yalumba The Virgilius Eden Valley Viognier ', 'Product_Name_Yangarra Estate Vineyard Ironheart Shiraz ', 'Product_Name_Yann Chave Hermitage ', 'Product_Name_Zena Crown Vineyard Conifer Pinot Noir ', 'Product_Name_Zenato Amarone ', 'Product_Name_Zenato Lugana Brut ', 'Product_Name_Zenato Valpolicella Superiore Ripassa ', 'Product_Name_Zuccardi Aluvional Altamira Malbec ', 'Product_Name_Zuccardi Concreto Malbec ', 'Product_Name_Zuccardi Finca Los Membrillos ', 'Product_Name_Zuccardi Finca Piedra Infinita Altamira ', 'Product_Name_Zuccardi Fosil Chardonnay ', 'Product_Name_Zuccardi Q Malbec ', \"Product_Name_d'Arenberg The Dead Arm Shiraz \", 'Product_Varietal_Aglianico', 'Product_Varietal_Albarino', 'Product_Varietal_Alicante Bouschet', 'Product_Varietal_Aligote', 'Product_Varietal_Barbera', 'Product_Varietal_Bonarda', 'Product_Varietal_Bordeaux Red Blends', 'Product_Varietal_Bordeaux White Blends', 'Product_Varietal_Cabernet Franc', 'Product_Varietal_Cabernet Sauvignon', 'Product_Varietal_Carricante', 'Product_Varietal_Chardonnay', 'Product_Varietal_Chenin Blanc', 'Product_Varietal_Corvina', 'Product_Varietal_Gamay', 'Product_Varietal_Godello', 'Product_Varietal_Grenache', 'Product_Varietal_Grenache Blanc', 'Product_Varietal_Malbec', 'Product_Varietal_Marsanne', 'Product_Varietal_Mencia', 'Product_Varietal_Merlot', 'Product_Varietal_Mourvedre', 'Product_Varietal_Nebbiolo', \"Product_Varietal_Nero d'Avola\", 'Product_Varietal_Other Dessert', 'Product_Varietal_Other Red Blends', 'Product_Varietal_Other White Blends', 'Product_Varietal_Other White Wine', 'Product_Varietal_Petite Sirah', 'Product_Varietal_Pinot Gris/Grigio', 'Product_Varietal_Pinot Noir', 'Product_Varietal_Pinotage', 'Product_Varietal_Port', 'Product_Varietal_Rhone Red Blends', 'Product_Varietal_Rhone White Blends', 'Product_Varietal_Riesling', 'Product_Varietal_Rosé', 'Product_Varietal_Sangiovese', 'Product_Varietal_Sauvignon Blanc', 'Product_Varietal_Syrah/Shiraz', 'Product_Varietal_Tempranillo', 'Product_Varietal_Tuscan Blends', 'Product_Varietal_Verdejo', 'Product_Varietal_Vintage Sparkling Wine', 'Product_Varietal_Viognier', 'Product_Varietal_Zinfandel', 'Product_Origin_Adelaida District, Paso Robles, Central Coast, California, United States', 'Product_Origin_Adelaide Hills, South Australia, Australia', 'Product_Origin_Alentejo, Portugal', 'Product_Origin_Alexander Valley, Sonoma County, California, United States', 'Product_Origin_Alicante, Spain', \"Product_Origin_Aloxe-Corton, Cote de Beaune, Cote d'Or, Burgundy, France\", 'Product_Origin_Amador, Sierra Foothills, California, United States', 'Product_Origin_Anderson Valley, Mendocino, California, United States', 'Product_Origin_Arroyo Grande Valley, Central Coast, California, United States', 'Product_Origin_Asti, Piedmont, Italy', 'Product_Origin_Atlas Peak, Napa Valley, California, United States', 'Product_Origin_Barossa Valley, Barossa, South Australia, Australia', 'Product_Origin_Barossa, South Australia, Australia', 'Product_Origin_Beaujolais, Burgundy, France', \"Product_Origin_Beaune, Cote de Beaune, Cote d'Or, Burgundy, France\", 'Product_Origin_Bierzo, Spain', 'Product_Origin_California, United States', 'Product_Origin_Calistoga, Napa Valley, California, United States', 'Product_Origin_Canberra, New South Wales, Australia', 'Product_Origin_Carneros, California, United States', 'Product_Origin_Casablanca Valley, Chile', 'Product_Origin_Central Coast, California, United States', \"Product_Origin_Chambolle-Musigny, Cote de Nuits, Cote d'Or, Burgundy, France\", \"Product_Origin_Chassagne-Montrachet, Cote de Beaune, Cote d'Or, Burgundy, France\", 'Product_Origin_Chateauneuf-du-Pape, Rhone, France', 'Product_Origin_Chehalem Mountains, Willamette Valley, Oregon, United States', 'Product_Origin_Chianti Classico, Chianti, Tuscany, Italy', 'Product_Origin_Chianti, Tuscany, Italy', 'Product_Origin_Chiles Valley, Napa Valley, California, United States', 'Product_Origin_Chinon, Touraine, Loire, France', 'Product_Origin_Cienega Valley, Central Coast, California, United States', 'Product_Origin_Clare Valley, South Australia, Australia', 'Product_Origin_Coombsville, Napa Valley, California, United States', 'Product_Origin_Coonawarra, South Australia, Australia', 'Product_Origin_Cornas, Rhone, France', \"Product_Origin_Cote de Beaune, Cote d'Or, Burgundy, France\", 'Product_Origin_Cotes de Castillon, Bordeaux, France', 'Product_Origin_Cotes de Provence, Provence, South of France, France', 'Product_Origin_Cotes du Rhone Villages, Rhone, France', 'Product_Origin_Cotes du Rhone, Rhone, France', 'Product_Origin_Diamond Mountain District, Napa Valley, California, United States', 'Product_Origin_Douro, Portugal', 'Product_Origin_Dundee Hills, Willamette Valley, Oregon, United States', 'Product_Origin_Eden Valley, Barossa, South Australia, Australia', 'Product_Origin_Edna Valley, Central Coast, California, United States', 'Product_Origin_Eola-Amity Hills, Willamette Valley, Oregon, United States', 'Product_Origin_Finger Lakes, New York, United States', \"Product_Origin_Fixin, Cote de Nuits, Cote d'Or, Burgundy, France\", \"Product_Origin_Flagey-Echezeaux, Cote de Nuits, Cote d'Or, Burgundy, France\", 'Product_Origin_Fort Ross-Seaview, Sonoma Coast, Sonoma County, California, United States', 'Product_Origin_Franschhoek Valley, South Africa', \"Product_Origin_Gevrey-Chambertin, Cote de Nuits, Cote d'Or, Burgundy, France\", 'Product_Origin_Gigondas, Rhone, France', 'Product_Origin_Givry, Cote Chalonnaise, Burgundy, France', 'Product_Origin_Graves, Bordeaux, France', 'Product_Origin_Green Valley, Russian River, Sonoma County, California, United States', 'Product_Origin_Haut Medoc, Bordeaux, France', 'Product_Origin_Hermitage, Rhone, France', 'Product_Origin_High Valley, Lake County, North Coast, California, United States', 'Product_Origin_Howell Mountain, Napa Valley, California, United States', 'Product_Origin_Knights Valley, Sonoma County, California, United States', \"Product_Origin_Ladoix-Serrigny, Cote de Beaune, Cote d'Or, Burgundy, France\", 'Product_Origin_Livermore Valley, Central Coast, California, United States', 'Product_Origin_Lombardy, Italy', \"Product_Origin_Maranges, Cote de Beaune, Cote d'Or, Burgundy, France\", 'Product_Origin_Marlborough, New Zealand', 'Product_Origin_Martinborough, New Zealand', 'Product_Origin_McLaren Vale, South Australia, Australia', 'Product_Origin_McMinnville, Willamette Valley, Oregon, United States', 'Product_Origin_Medoc, Bordeaux, France', 'Product_Origin_Mendoza, Argentina', \"Product_Origin_Meursault, Cote de Beaune, Cote d'Or, Burgundy, France\", 'Product_Origin_Montalcino, Tuscany, Italy', 'Product_Origin_Montepulciano, Tuscany, Italy', 'Product_Origin_Monterey, Central Coast, California, United States', 'Product_Origin_Moon Mountain District, Sonoma Valley, Sonoma County, California, United States', \"Product_Origin_Morey-St-Denis, Cote de Nuits, Cote d'Or, Burgundy, France\", 'Product_Origin_Moulis, Bordeaux, France', 'Product_Origin_Mt. Veeder, Napa Valley, California, United States', 'Product_Origin_Napa Valley, California, United States', 'Product_Origin_New York, United States', \"Product_Origin_Nuits-St-Georges, Cote de Nuits, Cote d'Or, Burgundy, France\", 'Product_Origin_Oak Knoll District, Napa Valley, California, United States', 'Product_Origin_Oakville, Napa Valley, California, United States', 'Product_Origin_Padthaway, South Australia, Australia', 'Product_Origin_Paso Robles, Central Coast, California, United States', \"Product_Origin_Pernand-Vergelesses, Cote de Beaune, Cote d'Or, Burgundy, France\", 'Product_Origin_Piedmont, Italy', 'Product_Origin_Pine Mountain, Sonoma County, California, United States', \"Product_Origin_Pommard, Cote de Beaune, Cote d'Or, Burgundy, France\", 'Product_Origin_Pouilly-Fuisse, Maconnais, Burgundy, France', 'Product_Origin_Provence, South of France, France', 'Product_Origin_Puglia, Italy', \"Product_Origin_Puligny-Montrachet, Cote de Beaune, Cote d'Or, Burgundy, France\", 'Product_Origin_Red Hills, Lake County, North Coast, California, United States', 'Product_Origin_Red Mountain, Yakima Valley, Columbia Valley, Washington, United States', 'Product_Origin_Rheingau, Germany', 'Product_Origin_Rhone, France', 'Product_Origin_Rias Baixas, Spain', 'Product_Origin_Ribera del Duero, Spain', 'Product_Origin_Rioja, Spain', 'Product_Origin_Rueda, Spain', 'Product_Origin_Russian River, Sonoma County, California, United States', 'Product_Origin_Rutherford, Napa Valley, California, United States', 'Product_Origin_Santa Barbara, Central Coast, California, United States', 'Product_Origin_Santa Cruz Mountains, California, United States', 'Product_Origin_Santa Lucia Highlands, Monterey, Central Coast, California, United States', 'Product_Origin_Santa Maria Valley, Central Coast, California, United States', 'Product_Origin_Santa Ynez Valley, Santa Barbara, Central Coast, California, United States', \"Product_Origin_Santenay, Cote de Beaune, Cote d'Or, Burgundy, France\", \"Product_Origin_Savigny-les-Beaune, Cote de Beaune, Cote d'Or, Burgundy, France\", 'Product_Origin_Sicily, Italy', 'Product_Origin_Snipes Mountain, Yakima Valley, Columbia Valley, Washington, United States', 'Product_Origin_Sonoma Coast, Sonoma County, California, United States', 'Product_Origin_Sonoma Mountain, Sonoma Valley, Sonoma County, California, United States', 'Product_Origin_Sonoma Valley, Sonoma County, California, United States', 'Product_Origin_South Australia, Australia', 'Product_Origin_Spring Mountain District, Napa Valley, California, United States', 'Product_Origin_St-Julien, Bordeaux, France', 'Product_Origin_St. Helena, Napa Valley, California, United States', 'Product_Origin_Sta. Rita Hills, Santa Barbara, Central Coast, California, United States', 'Product_Origin_Stags Leap District, Napa Valley, California, United States', 'Product_Origin_Stellenbosch, South Africa', 'Product_Origin_Swartland, South Africa', 'Product_Origin_Tavel, Rhone, France', 'Product_Origin_Toro, Spain', 'Product_Origin_Tuscany, Italy', 'Product_Origin_Uco Valley, Mendoza, Argentina', 'Product_Origin_Vacqueyras, Rhone, France', 'Product_Origin_Valdeorras, Spain', 'Product_Origin_Valpolicella, Veneto, Italy', 'Product_Origin_Veneto, Italy', 'Product_Origin_Verona, Veneto, Italy', \"Product_Origin_Volnay, Cote de Beaune, Cote d'Or, Burgundy, France\", \"Product_Origin_Vosne-Romanee, Cote de Nuits, Cote d'Or, Burgundy, France\", \"Product_Origin_Vougeot, Cote de Nuits, Cote d'Or, Burgundy, France\", 'Product_Origin_Vouvray, Touraine, Loire, France', 'Product_Origin_Wachau, Austria', 'Product_Origin_Wahluke Slope, Columbia Valley, Washington, United States', 'Product_Origin_Walla Walla Valley, Columbia Valley, Washington, United States', 'Product_Origin_Willamette Valley, Oregon, United States', 'Product_Origin_Willow Creek District, Paso Robles, Central Coast, California, United States', 'Product_Origin_Yakima Valley, Columbia Valley, Washington, United States', 'Product_Origin_Yamhill-Carlton District, Willamette Valley, Oregon, United States', 'Product_Origin_Yountville, Napa Valley, California, United States', 'Product_Price_1,049.99', 'Product_Price_1,119.99', 'Product_Price_1,169.99', 'Product_Price_1,199.99', 'Product_Price_1,219.99', 'Product_Price_1,229.99', 'Product_Price_1,899.99', 'Product_Price_100.99', 'Product_Price_101.99', 'Product_Price_105.99', 'Product_Price_106.99', 'Product_Price_109.99', 'Product_Price_11.99', 'Product_Price_110.99', 'Product_Price_112.99', 'Product_Price_114.99', 'Product_Price_115.99', 'Product_Price_118.99', 'Product_Price_119.99', 'Product_Price_120.99', 'Product_Price_121.99', 'Product_Price_125.99', 'Product_Price_129.99', 'Product_Price_130.99', 'Product_Price_134.99', 'Product_Price_135.99', 'Product_Price_139.99', 'Product_Price_14.99', 'Product_Price_140.99', 'Product_Price_144.99', 'Product_Price_145.99', 'Product_Price_149.99', 'Product_Price_15.99', 'Product_Price_150.99', 'Product_Price_155.99', 'Product_Price_159.99', 'Product_Price_16.99', 'Product_Price_160.99', 'Product_Price_165.99', 'Product_Price_169.99', 'Product_Price_17.99', 'Product_Price_174.99', 'Product_Price_175.99', 'Product_Price_176.99', 'Product_Price_179.99', 'Product_Price_18.99', 'Product_Price_180.99', 'Product_Price_189.99', 'Product_Price_19.99', 'Product_Price_190.99', 'Product_Price_195.99', 'Product_Price_199.99', 'Product_Price_2,999.99', 'Product_Price_20.99', 'Product_Price_208.99', 'Product_Price_209.99', 'Product_Price_21.99', 'Product_Price_214.99', 'Product_Price_219.99', 'Product_Price_22.99', 'Product_Price_225.99', 'Product_Price_229.99', 'Product_Price_23.99', 'Product_Price_235.99', 'Product_Price_239.99', 'Product_Price_24.99', 'Product_Price_244.99', 'Product_Price_249.99', 'Product_Price_25.99', 'Product_Price_250.99', 'Product_Price_251.99', 'Product_Price_259.99', 'Product_Price_26.99', 'Product_Price_269.99', 'Product_Price_27.99', 'Product_Price_279.99', 'Product_Price_28.99', 'Product_Price_288.99', 'Product_Price_289.99', 'Product_Price_29.99', 'Product_Price_294.99', 'Product_Price_299.99', 'Product_Price_3,299.99', 'Product_Price_3,399.99', 'Product_Price_3,799.99', 'Product_Price_3,999.99', 'Product_Price_30.99', 'Product_Price_300.99', 'Product_Price_309.99', 'Product_Price_31.99', 'Product_Price_319.99', 'Product_Price_32.99', 'Product_Price_325.99', 'Product_Price_329.99', 'Product_Price_33.99', 'Product_Price_34.99', 'Product_Price_349.99', 'Product_Price_35.99', 'Product_Price_354.99', 'Product_Price_359.99', 'Product_Price_36.99', 'Product_Price_364.99', 'Product_Price_369.99', 'Product_Price_37.99', 'Product_Price_379.99', 'Product_Price_38.99', 'Product_Price_384.99', 'Product_Price_389.99', 'Product_Price_39.99', 'Product_Price_399.99', 'Product_Price_4,579.99', 'Product_Price_4,999.99', 'Product_Price_40.99', 'Product_Price_400.99', 'Product_Price_409.99', 'Product_Price_41.99', 'Product_Price_418.99', 'Product_Price_419.99', 'Product_Price_42.99', 'Product_Price_424.99', 'Product_Price_43.99', 'Product_Price_44.99', 'Product_Price_45.99', 'Product_Price_459.99', 'Product_Price_46.99', 'Product_Price_47.99', 'Product_Price_479.99', 'Product_Price_48.99', 'Product_Price_489.99', 'Product_Price_49.99', 'Product_Price_490.99', 'Product_Price_499.99', 'Product_Price_50.99', 'Product_Price_500.99', 'Product_Price_509.99', 'Product_Price_51.99', 'Product_Price_519.99', 'Product_Price_52.99', 'Product_Price_529.99', 'Product_Price_53.99', 'Product_Price_534.99', 'Product_Price_539.99', 'Product_Price_54.99', 'Product_Price_544.99', 'Product_Price_549.99', 'Product_Price_55.99', 'Product_Price_56.99', 'Product_Price_569.99', 'Product_Price_57.99', 'Product_Price_58.99', 'Product_Price_589.99', 'Product_Price_59.99', 'Product_Price_60.99', 'Product_Price_604.99', 'Product_Price_61.99', 'Product_Price_619.99', 'Product_Price_62.99', 'Product_Price_63.99', 'Product_Price_64.99', 'Product_Price_649.99', 'Product_Price_65.99', 'Product_Price_66.99', 'Product_Price_669.99', 'Product_Price_67.99', 'Product_Price_679.99', 'Product_Price_68.99', 'Product_Price_69.99', 'Product_Price_699.99', 'Product_Price_70.99', 'Product_Price_71.99', 'Product_Price_72.99', 'Product_Price_729.99', 'Product_Price_73.99', 'Product_Price_739.99', 'Product_Price_74.99', 'Product_Price_749.99', 'Product_Price_75.99', 'Product_Price_759.99', 'Product_Price_76.99', 'Product_Price_77.99', 'Product_Price_774.99', 'Product_Price_779.99', 'Product_Price_78.99', 'Product_Price_789.99', 'Product_Price_79.99', 'Product_Price_799.99', 'Product_Price_80.99', 'Product_Price_81.99', 'Product_Price_82.99', 'Product_Price_83.99', 'Product_Price_84.99', 'Product_Price_85.99', 'Product_Price_850.99', 'Product_Price_859.99', 'Product_Price_86.99', 'Product_Price_87.99', 'Product_Price_88.99', 'Product_Price_89.99', 'Product_Price_899.99', 'Product_Price_9.99', 'Product_Price_90.99', 'Product_Price_91.99', 'Product_Price_92.99', 'Product_Price_93.99', 'Product_Price_94.99', 'Product_Price_95.99', 'Product_Price_98.99', 'Product_Price_99.99', 'Product_Attributes_Boutique', 'Product_Attributes_Collectible', 'Product_Attributes_Pink and Rosé', 'Product_Attributes_Red Wine', 'Product_Attributes_Sparkling & Champagne', 'Product_Attributes_White Wine', 'User_Avg_Rating', 'User_Rating_Count', 'Product_Vintage', 'Critical_Avg_Rating', 'Critical_Rating_Count', 'Appellation_Level', 'Weather_Origin', 'Aug_Avg_High_Temperature', 'Aug_Avg_Temperature', 'Aug_Avg_Low_Temperature', 'Aug_Avg_High_ Dew_Point', 'Aug_Avg_ Dew_Point', 'Aug_Avg_Low_ Dew_Point', 'Aug_Avg_High_Humidity', 'Aug_Avg_Humidity', 'Aug_Avg_Low_Humidity', 'Aug_Avg_High_Wind_Speed ', 'Aug_Avg_Wind_Speed ', 'Aug_Avg_Low_Wind_Speed ', 'Aug_Avg_High_Pressure', 'Aug_Avg_Pressure', 'Aug_Avg_Low_Pressure', 'Aug_Average_Precipitation', 'Aug_Total_Precipitation', 'Nov_Avg_High_Temperature', 'Nov_Avg_Temperature', 'Nov_Avg_Low_Temperature', 'Nov_Avg_High_ Dew_Point', 'Nov_Avg_ Dew_Point', 'Nov_Avg_Low_ Dew_Point', 'Nov_Avg_High_Humidity', 'Nov_Avg_Humidity', 'Nov_Avg_Low_Humidity', 'Nov_Avg_High_Wind_Speed ', 'Nov_Avg_Wind_Speed ', 'Nov_Avg_Low_Wind_Speed ', 'Nov_Avg_High_Pressure', 'Nov_Avg_Pressure', 'Nov_Avg_Low_Pressure', 'Nov_Average_Precipitation', 'Nov_Total_Precipitation', 'Jun_Avg_High_Temperature', 'Jun_Avg_Temperature', 'Jun_Avg_Low_Temperature', 'Jun_Avg_High_ Dew_Point', 'Jun_Avg_ Dew_Point', 'Jun_Avg_Low_ Dew_Point', 'Jun_Avg_High_Humidity', 'Jun_Avg_Humidity', 'Jun_Avg_Low_Humidity', 'Jun_Avg_High_Wind_Speed ', 'Jun_Avg_Wind_Speed ', 'Jun_Avg_Low_Wind_Speed ', 'Jun_Avg_High_Pressure', 'Jun_Avg_Pressure', 'Jun_Avg_Low_Pressure', 'Jun_Average_Precipitation', 'Jun_Total_Precipitation', 'Apr_Avg_High_Temperature', 'Apr_Avg_Temperature', 'Apr_Avg_Low_Temperature', 'Apr_Avg_High_ Dew_Point', 'Apr_Avg_ Dew_Point', 'Apr_Avg_Low_ Dew_Point', 'Apr_Avg_High_Humidity', 'Apr_Avg_Humidity', 'Apr_Avg_Low_Humidity', 'Apr_Avg_High_Wind_Speed ', 'Apr_Avg_Wind_Speed ', 'Apr_Avg_Low_Wind_Speed ', 'Apr_Avg_High_Pressure', 'Apr_Avg_Pressure', 'Apr_Avg_Low_Pressure', 'Apr_Average_Precipitation', 'Apr_Total_Precipitation', 'Feb_Avg_High_Temperature', 'Feb_Avg_Temperature', 'Feb_Avg_Low_Temperature', 'Feb_Avg_High_ Dew_Point', 'Feb_Avg_ Dew_Point', 'Feb_Avg_Low_ Dew_Point', 'Feb_Avg_High_Humidity', 'Feb_Avg_Humidity', 'Feb_Avg_Low_Humidity', 'Feb_Avg_High_Wind_Speed ', 'Feb_Avg_Wind_Speed ', 'Feb_Avg_Low_Wind_Speed ', 'Feb_Avg_High_Pressure', 'Feb_Avg_Pressure', 'Feb_Avg_Low_Pressure', 'Feb_Average_Precipitation', 'Feb_Total_Precipitation', 'Oct_Avg_High_Temperature', 'Oct_Avg_Temperature', 'Oct_Avg_Low_Temperature', 'Oct_Avg_High_ Dew_Point', 'Oct_Avg_ Dew_Point', 'Oct_Avg_Low_ Dew_Point', 'Oct_Avg_High_Humidity', 'Oct_Avg_Humidity', 'Oct_Avg_Low_Humidity', 'Oct_Avg_High_Wind_Speed ', 'Oct_Avg_Wind_Speed ', 'Oct_Avg_Low_Wind_Speed ', 'Oct_Avg_High_Pressure', 'Oct_Avg_Pressure', 'Oct_Avg_Low_Pressure', 'Oct_Average_Precipitation', 'Oct_Total_Precipitation', 'Jul_Avg_High_Temperature', 'Jul_Avg_Temperature', 'Jul_Avg_Low_Temperature', 'Jul_Avg_High_ Dew_Point', 'Jul_Avg_ Dew_Point', 'Jul_Avg_Low_ Dew_Point', 'Jul_Avg_High_Humidity', 'Jul_Avg_Humidity', 'Jul_Avg_Low_Humidity', 'Jul_Avg_High_Wind_Speed ', 'Jul_Avg_Wind_Speed ', 'Jul_Avg_Low_Wind_Speed ', 'Jul_Avg_High_Pressure', 'Jul_Avg_Pressure', 'Jul_Avg_Low_Pressure', 'Jul_Average_Precipitation', 'Jul_Total_Precipitation', 'May_Avg_High_Temperature', 'May_Avg_Temperature', 'May_Avg_Low_Temperature', 'May_Avg_High_ Dew_Point', 'May_Avg_ Dew_Point', 'May_Avg_Low_ Dew_Point', 'May_Avg_High_Humidity', 'May_Avg_Humidity', 'May_Avg_Low_Humidity', 'May_Avg_High_Wind_Speed ', 'May_Avg_Wind_Speed ', 'May_Avg_Low_Wind_Speed ', 'May_Avg_High_Pressure', 'May_Avg_Pressure', 'May_Avg_Low_Pressure', 'May_Average_Precipitation', 'May_Total_Precipitation', 'Dec_Avg_High_Temperature', 'Dec_Avg_Temperature', 'Dec_Avg_Low_Temperature', 'Dec_Avg_High_ Dew_Point', 'Dec_Avg_ Dew_Point', 'Dec_Avg_Low_ Dew_Point', 'Dec_Avg_High_Humidity', 'Dec_Avg_Humidity', 'Dec_Avg_Low_Humidity', 'Dec_Avg_High_Wind_Speed ', 'Dec_Avg_Wind_Speed ', 'Dec_Avg_Low_Wind_Speed ', 'Dec_Avg_High_Pressure', 'Dec_Avg_Pressure', 'Dec_Avg_Low_Pressure', 'Dec_Average_Precipitation', 'Dec_Total_Precipitation', 'Mar_Avg_High_Temperature', 'Mar_Avg_Temperature', 'Mar_Avg_Low_Temperature', 'Mar_Avg_High_ Dew_Point', 'Mar_Avg_ Dew_Point', 'Mar_Avg_Low_ Dew_Point', 'Mar_Avg_High_Humidity', 'Mar_Avg_Humidity', 'Mar_Avg_Low_Humidity', 'Mar_Avg_High_Wind_Speed ', 'Mar_Avg_Wind_Speed ', 'Mar_Avg_Low_Wind_Speed ', 'Mar_Avg_High_Pressure', 'Mar_Avg_Pressure', 'Mar_Avg_Low_Pressure', 'Mar_Average_Precipitation', 'Mar_Total_Precipitation', 'Sep_Avg_High_Temperature', 'Sep_Avg_Temperature', 'Sep_Avg_Low_Temperature', 'Sep_Avg_High_ Dew_Point', 'Sep_Avg_ Dew_Point', 'Sep_Avg_Low_ Dew_Point', 'Sep_Avg_High_Humidity', 'Sep_Avg_Humidity', 'Sep_Avg_Low_Humidity', 'Sep_Avg_High_Wind_Speed ', 'Sep_Avg_Wind_Speed ', 'Sep_Avg_Low_Wind_Speed ', 'Sep_Avg_High_Pressure', 'Sep_Avg_Pressure', 'Sep_Avg_Low_Pressure', 'Sep_Average_Precipitation', 'Sep_Total_Precipitation', 'Jan_Avg_High_Temperature', 'Jan_Avg_Temperature', 'Jan_Avg_Low_Temperature', 'Jan_Avg_High_ Dew_Point', 'Jan_Avg_ Dew_Point', 'Jan_Avg_Low_ Dew_Point', 'Jan_Avg_High_Humidity', 'Jan_Avg_Humidity', 'Jan_Avg_Low_Humidity', 'Jan_Avg_High_Wind_Speed ', 'Jan_Avg_Wind_Speed ', 'Jan_Avg_Low_Wind_Speed ', 'Jan_Avg_High_Pressure', 'Jan_Avg_Pressure', 'Jan_Avg_Low_Pressure', 'Jan_Average_Precipitation', 'Jan_Total_Precipitation']\n"
     ]
    }
   ],
   "source": [
    "## To see what are the column names in the encoded data set \n",
    "# Get the column names\n",
    "column_names = data_encoded_df.columns.tolist()\n",
    "\n",
    "print(column_names)"
   ]
  },
  {
   "cell_type": "code",
   "execution_count": 21,
   "metadata": {},
   "outputs": [
    {
     "data": {
      "text/plain": [
       "Product_Name_ Wines EGW Chardonnay                         object\n",
       "Product_Name_ Wines VGR Pinot Noir                         object\n",
       "Product_Name_Accendo Cellars Laurea Cabernet Sauvignon     object\n",
       "Product_Name_Achaval-Ferrer Finca Bella Vista Malbec       object\n",
       "Product_Name_Achaval-Ferrer Finca Mirador Malbec           object\n",
       "                                                            ...  \n",
       "Jan_Avg_High_Pressure                                      object\n",
       "Jan_Avg_Pressure                                           object\n",
       "Jan_Avg_Low_Pressure                                       object\n",
       "Jan_Average_Precipitation                                  object\n",
       "Jan_Total_Precipitation                                    object\n",
       "Length: 1660, dtype: object"
      ]
     },
     "execution_count": 21,
     "metadata": {},
     "output_type": "execute_result"
    }
   ],
   "source": [
    "data_encoded_df.dtypes"
   ]
  },
  {
   "cell_type": "code",
   "execution_count": 22,
   "metadata": {},
   "outputs": [],
   "source": [
    "# Setting the target variable to critical_avg_rating \n",
    "y = data_encoded_df['Critical_Avg_Rating']"
   ]
  },
  {
   "cell_type": "code",
   "execution_count": 23,
   "metadata": {},
   "outputs": [],
   "source": [
    "# select categorical columns\n",
    "cat_cols = data_encoded_df.select_dtypes(include=['object']).columns\n",
    "\n",
    "# convert categorical columns to category datatype\n",
    "data_encoded_df[cat_cols] = data_encoded_df[cat_cols].astype('category')"
   ]
  },
  {
   "cell_type": "code",
   "execution_count": 24,
   "metadata": {},
   "outputs": [],
   "source": [
    "#Spliting the data set 80:20 split \n",
    "X_train, X_test, y_train, y_test = train_test_split(data_encoded_df, y, test_size=0.2, random_state=42)\n"
   ]
  },
  {
   "cell_type": "markdown",
   "metadata": {},
   "source": [
    "##attemp 1 hot encoder only "
   ]
  },
  {
   "cell_type": "code",
   "execution_count": 25,
   "metadata": {},
   "outputs": [],
   "source": [
    "#model = xgb.XGBRegressor(objective='reg:squarederror', random_state=42)"
   ]
  },
  {
   "cell_type": "code",
   "execution_count": 26,
   "metadata": {},
   "outputs": [],
   "source": [
    "#model.fit(X_train, y_train)"
   ]
  },
  {
   "cell_type": "markdown",
   "metadata": {},
   "source": [
    "faild could get the obj to work "
   ]
  },
  {
   "cell_type": "markdown",
   "metadata": {},
   "source": [
    "    ##atttemp 2 using dmatix"
   ]
  },
  {
   "cell_type": "code",
   "execution_count": 27,
   "metadata": {},
   "outputs": [],
   "source": [
    "#dtrain = xgb.DMatrix(X_train, label=y_train, enable_categorical=True)\n",
    "#dtest = xgb.DMatrix(X_test, label=y_test, enable_categorical=True)"
   ]
  },
  {
   "cell_type": "code",
   "execution_count": 28,
   "metadata": {},
   "outputs": [],
   "source": [
    "#params = {'objective': 'reg:squarederror', 'random_state': 42}\n",
    "#num_rounds = 100\n",
    "#eval_list = [(dtrain, 'train'), (dtest, 'test')]\n",
    "#eval_metric = 'rmse'\n",
    "#model = xgb.train(params, dtrain, num_rounds, eval_list, eval_metric)"
   ]
  },
  {
   "cell_type": "markdown",
   "metadata": {},
   "source": [
    "TypeError: 'str' object is not callable couldn't fix that error agin"
   ]
  },
  {
   "cell_type": "markdown",
   "metadata": {},
   "source": [
    "#attemp 3"
   ]
  },
  {
   "cell_type": "code",
   "execution_count": 31,
   "metadata": {},
   "outputs": [
    {
     "name": "stderr",
     "output_type": "stream",
     "text": [
      "/Users/georgegarcia/Library/Python/3.9/lib/python/site-packages/xgboost/data.py:284: PerformanceWarning: DataFrame is highly fragmented.  This is usually the result of calling `frame.insert` many times, which has poor performance.  Consider using pd.concat instead.  To get a de-fragmented frame, use `newframe = frame.copy()`\n",
      "  transformed[data.columns[i]] = (\n"
     ]
    }
   ],
   "source": [
    "# set enable_categorical=True for categorical columns\n",
    "dtrain = xgb.DMatrix(X_train, label=y_train, enable_categorical=True)\n",
    "dtest = xgb.DMatrix(X_test, label=y_test, enable_categorical=True)\n",
    "\n",
    "# define parameters for the XGBoost model\n",
    "params = {\n",
    "    'max_depth': 3,\n",
    "    'eta': 0.1,\n",
    "    'objective': 'reg:squarederror',\n",
    "    'eval_metric': 'rmse'\n",
    "}\n",
    "\n",
    "# train the model\n",
    "num_rounds = 100\n",
    "eval_list = [(dtrain, 'train'), (dtest, 'test')]\n",
    "model = xgb.train(params, dtrain, num_rounds, eval_list, verbose_eval=False)\n"
   ]
  },
  {
   "cell_type": "code",
   "execution_count": 32,
   "metadata": {},
   "outputs": [],
   "source": [
    "# make predictions on the test set\n",
    "y_pred = model.predict(dtest)"
   ]
  },
  {
   "cell_type": "markdown",
   "metadata": {},
   "source": [
    "## Seeing the performance "
   ]
  },
  {
   "cell_type": "code",
   "execution_count": 33,
   "metadata": {},
   "outputs": [
    {
     "name": "stdout",
     "output_type": "stream",
     "text": [
      "MSE: 0.002657367216601114\n",
      "RMSE: 0.051549657773850587\n"
     ]
    }
   ],
   "source": [
    "# calculate mean squared error\n",
    "mse = mean_squared_error(y_test, y_pred)\n",
    "\n",
    "# calculate root mean squared error\n",
    "rmse = mean_squared_error(y_test, y_pred, squared=False)\n",
    "\n",
    "print('MSE:', mse)\n",
    "print('RMSE:', rmse)"
   ]
  },
  {
   "cell_type": "markdown",
   "metadata": {},
   "source": [
    "### adding cross validation "
   ]
  },
  {
   "cell_type": "code",
   "execution_count": 34,
   "metadata": {},
   "outputs": [
    {
     "name": "stderr",
     "output_type": "stream",
     "text": [
      "/Users/georgegarcia/Library/Python/3.9/lib/python/site-packages/xgboost/data.py:284: PerformanceWarning: DataFrame is highly fragmented.  This is usually the result of calling `frame.insert` many times, which has poor performance.  Consider using pd.concat instead.  To get a de-fragmented frame, use `newframe = frame.copy()`\n",
      "  transformed[data.columns[i]] = (\n"
     ]
    },
    {
     "name": "stdout",
     "output_type": "stream",
     "text": [
      "    train-rmse-mean  train-rmse-std  test-rmse-mean  test-rmse-std\n",
      "0         83.584749        0.013902       83.584673       0.063139\n",
      "1         75.242609        0.012536       75.242528       0.064566\n",
      "2         67.734029        0.011307       67.733946       0.065855\n",
      "3         60.975829        0.010205       60.975743       0.067023\n",
      "4         54.893138        0.009217       54.893046       0.068088\n",
      "..              ...             ...             ...            ...\n",
      "95         0.028562        0.000511        0.039473       0.005301\n",
      "96         0.028389        0.000498        0.039466       0.005269\n",
      "97         0.028224        0.000506        0.039445       0.005282\n",
      "98         0.028075        0.000512        0.039428       0.005274\n",
      "99         0.027935        0.000489        0.039415       0.005259\n",
      "\n",
      "[100 rows x 4 columns]\n"
     ]
    }
   ],
   "source": [
    "# create DMatrix objects\n",
    "dtrain = xgb.DMatrix(X_train, label=y_train, enable_categorical=True)\n",
    "dtest = xgb.DMatrix(X_test, label=y_test, enable_categorical=True)\n",
    "\n",
    "# define parameters for the XGBoost model\n",
    "params = {\n",
    "    'max_depth': 3,\n",
    "    'eta': 0.1,\n",
    "    'objective': 'reg:squarederror',\n",
    "    'eval_metric': 'rmse'\n",
    "}\n",
    "\n",
    "# perform 5-fold cross-validation\n",
    "num_rounds = 100\n",
    "cv_results = xgb.cv(params, dtrain, num_boost_round=num_rounds, nfold=5,\n",
    "                    metrics=['rmse'], early_stopping_rounds=10)\n",
    "\n",
    "print(cv_results)"
   ]
  },
  {
   "cell_type": "markdown",
   "metadata": {},
   "source": [
    "it seems like some over fitting is happening becasue test is slightly higher than train"
   ]
  },
  {
   "cell_type": "code",
   "execution_count": 35,
   "metadata": {},
   "outputs": [],
   "source": [
    "## spliting the data into 70:30 for trining and test/validation 30= 15:15 \n",
    "#Spliting the data set 70:30 split \n",
    "X_train, X_valid, y_train, y_valid = train_test_split(data_encoded_df, y, test_size=0.3, random_state=42)\n"
   ]
  },
  {
   "cell_type": "code",
   "execution_count": 36,
   "metadata": {},
   "outputs": [],
   "source": [
    "#spliting the data to 50:50 \n",
    "X_test, X1_valid, y_test, y1_valid =  train_test_split(X_valid, y_valid, test_size=0.5, random_state=42)"
   ]
  },
  {
   "cell_type": "code",
   "execution_count": 37,
   "metadata": {},
   "outputs": [
    {
     "name": "stderr",
     "output_type": "stream",
     "text": [
      "/Users/georgegarcia/Library/Python/3.9/lib/python/site-packages/xgboost/data.py:284: PerformanceWarning: DataFrame is highly fragmented.  This is usually the result of calling `frame.insert` many times, which has poor performance.  Consider using pd.concat instead.  To get a de-fragmented frame, use `newframe = frame.copy()`\n",
      "  transformed[data.columns[i]] = (\n"
     ]
    },
    {
     "name": "stdout",
     "output_type": "stream",
     "text": [
      "[0]\ttrain-rmse:83.60874\tvalid-rmse:83.53760\n",
      "[1]\ttrain-rmse:75.26330\tvalid-rmse:75.19201\n",
      "[2]\ttrain-rmse:67.75184\tvalid-rmse:67.68040\n",
      "[3]\ttrain-rmse:60.99116\tvalid-rmse:60.91954\n",
      "[4]\ttrain-rmse:54.90632\tvalid-rmse:54.83452\n",
      "[5]\ttrain-rmse:49.42990\tvalid-rmse:49.35789\n",
      "[6]\ttrain-rmse:44.50122\tvalid-rmse:44.42897\n",
      "[7]\ttrain-rmse:40.06567\tvalid-rmse:39.99316\n",
      "[8]\ttrain-rmse:36.07271\tvalid-rmse:36.00503\n",
      "[9]\ttrain-rmse:32.47825\tvalid-rmse:32.41003\n",
      "[10]\ttrain-rmse:29.24244\tvalid-rmse:29.18059\n",
      "[11]\ttrain-rmse:26.32936\tvalid-rmse:26.26385\n",
      "[12]\ttrain-rmse:23.70704\tvalid-rmse:23.64222\n",
      "[13]\ttrain-rmse:21.34621\tvalid-rmse:21.27926\n",
      "[14]\ttrain-rmse:19.22112\tvalid-rmse:19.15098\n",
      "[15]\ttrain-rmse:17.30782\tvalid-rmse:17.23682\n",
      "[16]\ttrain-rmse:15.58543\tvalid-rmse:15.51668\n",
      "[17]\ttrain-rmse:14.03483\tvalid-rmse:13.96485\n",
      "[18]\ttrain-rmse:12.63860\tvalid-rmse:12.57443\n",
      "[19]\ttrain-rmse:11.38139\tvalid-rmse:11.32334\n",
      "[20]\ttrain-rmse:10.24964\tvalid-rmse:10.18988\n",
      "[21]\ttrain-rmse:9.23049\tvalid-rmse:9.17574\n",
      "[22]\ttrain-rmse:8.31303\tvalid-rmse:8.25714\n",
      "[23]\ttrain-rmse:7.48678\tvalid-rmse:7.43409\n",
      "[24]\ttrain-rmse:6.74301\tvalid-rmse:6.69479\n",
      "[25]\ttrain-rmse:6.07304\tvalid-rmse:6.02810\n",
      "[26]\ttrain-rmse:5.46975\tvalid-rmse:5.42421\n",
      "[27]\ttrain-rmse:4.92678\tvalid-rmse:4.88347\n",
      "[28]\ttrain-rmse:4.43752\tvalid-rmse:4.39869\n",
      "[29]\ttrain-rmse:3.99710\tvalid-rmse:3.96364\n",
      "[30]\ttrain-rmse:3.60033\tvalid-rmse:3.56722\n",
      "[31]\ttrain-rmse:3.24322\tvalid-rmse:3.20955\n",
      "[32]\ttrain-rmse:2.92158\tvalid-rmse:2.89039\n",
      "[33]\ttrain-rmse:2.63181\tvalid-rmse:2.60442\n",
      "[34]\ttrain-rmse:2.37101\tvalid-rmse:2.34540\n",
      "[35]\ttrain-rmse:2.13605\tvalid-rmse:2.11151\n",
      "[36]\ttrain-rmse:1.92446\tvalid-rmse:1.90263\n",
      "[37]\ttrain-rmse:1.73383\tvalid-rmse:1.71357\n",
      "[38]\ttrain-rmse:1.56214\tvalid-rmse:1.54377\n",
      "[39]\ttrain-rmse:1.40759\tvalid-rmse:1.39020\n",
      "[40]\ttrain-rmse:1.26831\tvalid-rmse:1.25287\n",
      "[41]\ttrain-rmse:1.14293\tvalid-rmse:1.12938\n",
      "[42]\ttrain-rmse:1.02998\tvalid-rmse:1.01786\n",
      "[43]\ttrain-rmse:0.92818\tvalid-rmse:0.91734\n",
      "[44]\ttrain-rmse:0.83652\tvalid-rmse:0.82689\n",
      "[45]\ttrain-rmse:0.75393\tvalid-rmse:0.74524\n",
      "[46]\ttrain-rmse:0.67958\tvalid-rmse:0.67238\n",
      "[47]\ttrain-rmse:0.61261\tvalid-rmse:0.60594\n",
      "[48]\ttrain-rmse:0.55229\tvalid-rmse:0.54715\n",
      "[49]\ttrain-rmse:0.49793\tvalid-rmse:0.49358\n",
      "[50]\ttrain-rmse:0.44902\tvalid-rmse:0.44533\n",
      "[51]\ttrain-rmse:0.40498\tvalid-rmse:0.40233\n",
      "[52]\ttrain-rmse:0.36533\tvalid-rmse:0.36390\n",
      "[53]\ttrain-rmse:0.32961\tvalid-rmse:0.32904\n",
      "[54]\ttrain-rmse:0.29745\tvalid-rmse:0.29751\n",
      "[55]\ttrain-rmse:0.26856\tvalid-rmse:0.26985\n",
      "[56]\ttrain-rmse:0.24254\tvalid-rmse:0.24446\n",
      "[57]\ttrain-rmse:0.21913\tvalid-rmse:0.22179\n",
      "[58]\ttrain-rmse:0.19808\tvalid-rmse:0.20160\n",
      "[59]\ttrain-rmse:0.17914\tvalid-rmse:0.18348\n",
      "[60]\ttrain-rmse:0.16215\tvalid-rmse:0.16732\n",
      "[61]\ttrain-rmse:0.14687\tvalid-rmse:0.15316\n",
      "[62]\ttrain-rmse:0.13314\tvalid-rmse:0.14031\n",
      "[63]\ttrain-rmse:0.12081\tvalid-rmse:0.12901\n",
      "[64]\ttrain-rmse:0.10980\tvalid-rmse:0.11911\n",
      "[65]\ttrain-rmse:0.09995\tvalid-rmse:0.11033\n",
      "[66]\ttrain-rmse:0.09115\tvalid-rmse:0.10251\n",
      "[67]\ttrain-rmse:0.08327\tvalid-rmse:0.09574\n",
      "[68]\ttrain-rmse:0.07626\tvalid-rmse:0.08964\n",
      "[69]\ttrain-rmse:0.07004\tvalid-rmse:0.08451\n",
      "[70]\ttrain-rmse:0.06443\tvalid-rmse:0.08003\n",
      "[71]\ttrain-rmse:0.05955\tvalid-rmse:0.07606\n",
      "[72]\ttrain-rmse:0.05525\tvalid-rmse:0.07245\n",
      "[73]\ttrain-rmse:0.05149\tvalid-rmse:0.06948\n",
      "[74]\ttrain-rmse:0.04810\tvalid-rmse:0.06685\n",
      "[75]\ttrain-rmse:0.04516\tvalid-rmse:0.06503\n",
      "[76]\ttrain-rmse:0.04262\tvalid-rmse:0.06347\n",
      "[77]\ttrain-rmse:0.04044\tvalid-rmse:0.06171\n",
      "[78]\ttrain-rmse:0.03848\tvalid-rmse:0.06035\n",
      "[79]\ttrain-rmse:0.03686\tvalid-rmse:0.05902\n",
      "[80]\ttrain-rmse:0.03546\tvalid-rmse:0.05833\n",
      "[81]\ttrain-rmse:0.03413\tvalid-rmse:0.05777\n",
      "[82]\ttrain-rmse:0.03307\tvalid-rmse:0.05737\n",
      "[83]\ttrain-rmse:0.03215\tvalid-rmse:0.05705\n",
      "[84]\ttrain-rmse:0.03136\tvalid-rmse:0.05664\n",
      "[85]\ttrain-rmse:0.03071\tvalid-rmse:0.05636\n",
      "[86]\ttrain-rmse:0.03013\tvalid-rmse:0.05621\n",
      "[87]\ttrain-rmse:0.02965\tvalid-rmse:0.05611\n",
      "[88]\ttrain-rmse:0.02920\tvalid-rmse:0.05600\n",
      "[89]\ttrain-rmse:0.02881\tvalid-rmse:0.05597\n",
      "[90]\ttrain-rmse:0.02850\tvalid-rmse:0.05580\n",
      "[91]\ttrain-rmse:0.02822\tvalid-rmse:0.05567\n",
      "[92]\ttrain-rmse:0.02797\tvalid-rmse:0.05566\n",
      "[93]\ttrain-rmse:0.02776\tvalid-rmse:0.05556\n",
      "[94]\ttrain-rmse:0.02756\tvalid-rmse:0.05556\n",
      "[95]\ttrain-rmse:0.02740\tvalid-rmse:0.05551\n",
      "[96]\ttrain-rmse:0.02718\tvalid-rmse:0.05540\n",
      "[97]\ttrain-rmse:0.02704\tvalid-rmse:0.05527\n",
      "[98]\ttrain-rmse:0.02691\tvalid-rmse:0.05519\n",
      "[99]\ttrain-rmse:0.02676\tvalid-rmse:0.05516\n",
      "[100]\ttrain-rmse:0.02666\tvalid-rmse:0.05518\n",
      "[101]\ttrain-rmse:0.02652\tvalid-rmse:0.05514\n",
      "[102]\ttrain-rmse:0.02642\tvalid-rmse:0.05508\n",
      "[103]\ttrain-rmse:0.02633\tvalid-rmse:0.05508\n",
      "[104]\ttrain-rmse:0.02620\tvalid-rmse:0.05501\n",
      "[105]\ttrain-rmse:0.02609\tvalid-rmse:0.05504\n",
      "[106]\ttrain-rmse:0.02601\tvalid-rmse:0.05497\n",
      "[107]\ttrain-rmse:0.02591\tvalid-rmse:0.05493\n",
      "[108]\ttrain-rmse:0.02582\tvalid-rmse:0.05494\n",
      "[109]\ttrain-rmse:0.02575\tvalid-rmse:0.05495\n",
      "[110]\ttrain-rmse:0.02566\tvalid-rmse:0.05491\n",
      "[111]\ttrain-rmse:0.02560\tvalid-rmse:0.05492\n",
      "[112]\ttrain-rmse:0.02553\tvalid-rmse:0.05492\n",
      "[113]\ttrain-rmse:0.02545\tvalid-rmse:0.05493\n",
      "[114]\ttrain-rmse:0.02537\tvalid-rmse:0.05488\n",
      "[115]\ttrain-rmse:0.02528\tvalid-rmse:0.05490\n",
      "[116]\ttrain-rmse:0.02523\tvalid-rmse:0.05485\n",
      "[117]\ttrain-rmse:0.02518\tvalid-rmse:0.05485\n",
      "[118]\ttrain-rmse:0.02511\tvalid-rmse:0.05481\n",
      "[119]\ttrain-rmse:0.02504\tvalid-rmse:0.05478\n",
      "[120]\ttrain-rmse:0.02498\tvalid-rmse:0.05479\n",
      "[121]\ttrain-rmse:0.02492\tvalid-rmse:0.05479\n",
      "[122]\ttrain-rmse:0.02487\tvalid-rmse:0.05480\n",
      "[123]\ttrain-rmse:0.02481\tvalid-rmse:0.05480\n",
      "[124]\ttrain-rmse:0.02476\tvalid-rmse:0.05480\n",
      "[125]\ttrain-rmse:0.02469\tvalid-rmse:0.05480\n",
      "[126]\ttrain-rmse:0.02462\tvalid-rmse:0.05481\n",
      "[127]\ttrain-rmse:0.02458\tvalid-rmse:0.05482\n",
      "[128]\ttrain-rmse:0.02453\tvalid-rmse:0.05482\n",
      "[129]\ttrain-rmse:0.02448\tvalid-rmse:0.05481\n"
     ]
    }
   ],
   "source": [
    "# set enable_categorical=True for categorical columns\n",
    "dtrain = xgb.DMatrix(X_train, label=y_train, enable_categorical=True)\n",
    "dtest = xgb.DMatrix(X_test, label=y_test, enable_categorical=True)\n",
    "dvalid = xgb.DMatrix(X1_valid, label=y1_valid, enable_categorical=True)\n",
    "#  train the model with early stopping\n",
    "num_rounds = 1000\n",
    "watchlist = [(dtrain, 'train'), (dvalid, 'valid')]\n",
    "model = xgb.train(params, dtrain, num_rounds, watchlist, early_stopping_rounds=10)\n",
    "\n",
    "# make predictions on the test set\n",
    "dtest = xgb.DMatrix(X_test, label=y_test, enable_categorical=True)\n",
    "y_pred = model.predict(dtest)"
   ]
  },
  {
   "cell_type": "markdown",
   "metadata": {},
   "source": [
    "### it seems the overfitting has beeen corrected a bit "
   ]
  },
  {
   "cell_type": "code",
   "execution_count": 38,
   "metadata": {},
   "outputs": [
    {
     "name": "stdout",
     "output_type": "stream",
     "text": [
      "RMSE on test set: 0.0387631268356932\n"
     ]
    }
   ],
   "source": [
    "#with  test data set \n",
    "# make predictions on the test set\n",
    "y_pred = model.predict(dtest)\n",
    "\n",
    "# calculate RMSE on the test set\n",
    "rmse_test = np.sqrt(mean_squared_error(y_test, y_pred))\n",
    "print('RMSE on test set:', rmse_test)"
   ]
  },
  {
   "cell_type": "markdown",
   "metadata": {},
   "source": [
    "##comparing the test vs y_pred"
   ]
  },
  {
   "cell_type": "code",
   "execution_count": 46,
   "metadata": {},
   "outputs": [],
   "source": [
    "test_df = pd.DataFrame(y_test)\n",
    "\n",
    "# add a column with the predicted ratings\n",
    "test_df['predicted_rating'] = y_pred"
   ]
  },
  {
   "cell_type": "code",
   "execution_count": 47,
   "metadata": {},
   "outputs": [
    {
     "data": {
      "text/plain": [
       "<bound method NDFrame.head of      Critical_Avg_Rating  predicted_rating\n",
       "757            93.666667                94\n",
       "213            92.333333                92\n",
       "1045               92.25                92\n",
       "534                 93.6                94\n",
       "247                 92.6                93\n",
       "...                  ...               ...\n",
       "872                 92.0                92\n",
       "367            96.666667                97\n",
       "887                 93.0                93\n",
       "72             92.333333                92\n",
       "554            96.833333                97\n",
       "\n",
       "[167 rows x 2 columns]>"
      ]
     },
     "execution_count": 47,
     "metadata": {},
     "output_type": "execute_result"
    }
   ],
   "source": [
    "test_df.head"
   ]
  }
 ],
 "metadata": {
  "interpreter": {
   "hash": "aee8b7b246df8f9039afb4144a1f6fd8d2ca17a180786b69acc140d282b71a49"
  },
  "kernelspec": {
   "display_name": "Python 3.9.6 64-bit",
   "language": "python",
   "name": "python3"
  },
  "language_info": {
   "codemirror_mode": {
    "name": "ipython",
    "version": 3
   },
   "file_extension": ".py",
   "mimetype": "text/x-python",
   "name": "python",
   "nbconvert_exporter": "python",
   "pygments_lexer": "ipython3",
   "version": "3.9.6"
  },
  "orig_nbformat": 4
 },
 "nbformat": 4,
 "nbformat_minor": 2
}
