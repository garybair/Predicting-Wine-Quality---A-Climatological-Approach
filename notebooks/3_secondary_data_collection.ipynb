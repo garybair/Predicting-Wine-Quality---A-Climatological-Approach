{
 "cells": [
  {
   "cell_type": "markdown",
   "id": "686a9ca9",
   "metadata": {},
   "source": [
    "# Preprocessing - Weather Underground"
   ]
  },
  {
   "cell_type": "code",
   "execution_count": 17,
   "id": "8a79378c",
   "metadata": {},
   "outputs": [],
   "source": [
    "#imports\n",
    "import numpy as np\n",
    "import pandas as pd\n",
    "import os\n",
    "import re\n",
    "import string\n",
    "import time\n",
    "import pycountry"
   ]
  },
  {
   "cell_type": "code",
   "execution_count": 9,
   "id": "70427eef",
   "metadata": {},
   "outputs": [],
   "source": [
    "#set directory locations\n",
    "current_directory = os.getcwd()\n",
    "parent_directory = os.path.dirname(current_directory)\n",
    "raw_folder = parent_directory + '/data/wunderground-com/raw/'\n",
    "processed_folder = parent_directory + '/data/wunderground-com/processed/'"
   ]
  },
  {
   "cell_type": "code",
   "execution_count": 10,
   "id": "4a011bb0",
   "metadata": {},
   "outputs": [],
   "source": [
    "df = pd.read_csv(raw_folder + 'Alentejo_2022_0.csv')"
   ]
  },
  {
   "cell_type": "code",
   "execution_count": 16,
   "id": "4473b966",
   "metadata": {
    "scrolled": true
   },
   "outputs": [
    {
     "data": {
      "text/plain": [
       "'Max Avg Min 69 55.3 47 65 53.5 45 70 56.9 48 56 49.6 44 56 49.1 41 57 47.5 42 59 47.8 40 61 47.8 40 53 47.4 38 58 52.6 46 63 52.5 47 62 51.1 45 59 48.1 40 58 47.0 39 59 49.4 42 61 49.1 40 59 48.1 42 60 47.8 39 60 46.8 38 60 47.1 37 61 48.0 41 59 46.8 38 58 49.0 41 59 49.5 44 60 49.4 43 60 51.9 44 62 52.9 48 63 51.8 42 64 51.9 42 64 52.0 46 66 52.6 40'"
      ]
     },
     "execution_count": 16,
     "metadata": {},
     "output_type": "execute_result"
    }
   ],
   "source": [
    "df['Temperature (°F)'].iloc[0]"
   ]
  },
  {
   "cell_type": "code",
   "execution_count": 22,
   "id": "e4873344",
   "metadata": {},
   "outputs": [
    {
     "data": {
      "text/plain": [
       "'United States'"
      ]
     },
     "execution_count": 22,
     "metadata": {},
     "output_type": "execute_result"
    }
   ],
   "source": [
    "pycountry_search = pycountry.countries.search_fuzzy('California')\n",
    "pycountry_search[0].name"
   ]
  },
  {
   "cell_type": "code",
   "execution_count": null,
   "id": "948e15fc",
   "metadata": {},
   "outputs": [],
   "source": []
  }
 ],
 "metadata": {
  "kernelspec": {
   "display_name": "Python 3 (ipykernel)",
   "language": "python",
   "name": "python3"
  },
  "language_info": {
   "codemirror_mode": {
    "name": "ipython",
    "version": 3
   },
   "file_extension": ".py",
   "mimetype": "text/x-python",
   "name": "python",
   "nbconvert_exporter": "python",
   "pygments_lexer": "ipython3",
   "version": "3.9.13"
  }
 },
 "nbformat": 4,
 "nbformat_minor": 5
}
