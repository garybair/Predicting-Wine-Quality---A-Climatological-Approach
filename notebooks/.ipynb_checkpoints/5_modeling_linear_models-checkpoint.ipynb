{
 "cells": [
  {
   "cell_type": "markdown",
   "id": "9f4e4b31",
   "metadata": {},
   "source": [
    "# Modeling - Linear Models\n",
    "\n",
    "### Summary:\n",
    "This notebook aims to establish the viability of linear models for the purpose of modeling critical wine ratings using scraped weather data. Four models are trained to achieve this goal with selected models including ordinary least-squares (OLS) regression, Ridge regression, Lasso regression, and ElasticNet regression. Supporting these goals, performance metrics, residual plots, and feature importance’s are generated to support comparison across model families."
   ]
  },
  {
   "cell_type": "code",
   "execution_count": 62,
   "id": "98175d26",
   "metadata": {},
   "outputs": [],
   "source": [
    "# general imports\n",
    "import pandas as pd\n",
    "import numpy as np\n",
    "import matplotlib.pyplot as plt\n",
    "import seaborn as sns\n",
    "import os\n",
    "import dill\n",
    "from scipy.stats import uniform, randint\n",
    "\n",
    "# preprocessing packages\n",
    "from sklearn.preprocessing import StandardScaler, MinMaxScaler, RobustScaler, QuantileTransformer\n",
    "from sklearn.impute import SimpleImputer\n",
    "\n",
    "# pipeline tools\n",
    "from sklearn.base import TransformerMixin\n",
    "from sklearn.compose import ColumnTransformer, make_column_transformer\n",
    "from sklearn.pipeline import Pipeline, make_pipeline\n",
    "from sklearn.model_selection import train_test_split, GridSearchCV, StratifiedKFold, RandomizedSearchCV, RepeatedKFold\n",
    "from sklearn.preprocessing import FunctionTransformer\n",
    "\n",
    "# feature selection tools\n",
    "from sklearn.feature_selection import VarianceThreshold\n",
    "\n",
    "# models\n",
    "from sklearn.linear_model import LinearRegression, Lasso, Ridge, ElasticNet\n",
    "\n",
    "# metrics\n",
    "from sklearn.metrics import mean_squared_error, mean_absolute_error, r2_score, explained_variance_score"
   ]
  },
  {
   "cell_type": "code",
   "execution_count": 2,
   "id": "68be804a",
   "metadata": {},
   "outputs": [],
   "source": [
    "# establish directory locations\n",
    "current_directory = os.getcwd()\n",
    "parent_directory = os.path.dirname(current_directory)\n",
    "processed_data_folder = parent_directory + '/data/wunderground-com/processed/'\n",
    "models_folder = parent_directory + '/models/'\n",
    "images_folder = parent_directory + '/images/'"
   ]
  },
  {
   "cell_type": "markdown",
   "id": "7ea0d6c4",
   "metadata": {},
   "source": [
    "### Load Data"
   ]
  },
  {
   "cell_type": "code",
   "execution_count": 3,
   "id": "972eecbd",
   "metadata": {},
   "outputs": [],
   "source": [
    "df = pd.read_csv(processed_data_folder + '1678665697.3855994.txt', \n",
    "                 sep = '|')"
   ]
  },
  {
   "cell_type": "code",
   "execution_count": 4,
   "id": "ebc7b946",
   "metadata": {
    "scrolled": false
   },
   "outputs": [
    {
     "data": {
      "text/html": [
       "<div>\n",
       "<style scoped>\n",
       "    .dataframe tbody tr th:only-of-type {\n",
       "        vertical-align: middle;\n",
       "    }\n",
       "\n",
       "    .dataframe tbody tr th {\n",
       "        vertical-align: top;\n",
       "    }\n",
       "\n",
       "    .dataframe thead th {\n",
       "        text-align: right;\n",
       "    }\n",
       "</style>\n",
       "<table border=\"1\" class=\"dataframe\">\n",
       "  <thead>\n",
       "    <tr style=\"text-align: right;\">\n",
       "      <th></th>\n",
       "      <th>Product_Name</th>\n",
       "      <th>Product_Varietal</th>\n",
       "      <th>Product_Origin</th>\n",
       "      <th>Product_Price</th>\n",
       "      <th>Product_Attributes</th>\n",
       "      <th>User_Avg_Rating</th>\n",
       "      <th>User_Rating_Count</th>\n",
       "      <th>Product_Vintage</th>\n",
       "      <th>Critical_Avg_Rating</th>\n",
       "      <th>Critical_Rating_Count</th>\n",
       "      <th>...</th>\n",
       "      <th>Jan_Min_Low_Wind_Speed</th>\n",
       "      <th>Jan_Max_High_Pressure</th>\n",
       "      <th>Jan_Avg_High_Pressure</th>\n",
       "      <th>Jan_Min_High_Pressure</th>\n",
       "      <th>Jan_Avg_Pressure</th>\n",
       "      <th>Jan_Max_Low_Pressure</th>\n",
       "      <th>Jan_Avg_Low_Pressure</th>\n",
       "      <th>Jan_Min_Low_Pressure</th>\n",
       "      <th>Jan_Average_Precipitation</th>\n",
       "      <th>Jan_Total_Precipitation</th>\n",
       "    </tr>\n",
       "  </thead>\n",
       "  <tbody>\n",
       "    <tr>\n",
       "      <th>0</th>\n",
       "      <td>Domaine Taupenot-Merme Nuits-Saint-Georges Les...</td>\n",
       "      <td>Pinot Noir</td>\n",
       "      <td>Nuits-St-Georges, Cote de Nuits, Cote d'Or, Bu...</td>\n",
       "      <td>199.99</td>\n",
       "      <td>Red Wine</td>\n",
       "      <td>0.0</td>\n",
       "      <td>0</td>\n",
       "      <td>2017</td>\n",
       "      <td>93.000000</td>\n",
       "      <td>3</td>\n",
       "      <td>...</td>\n",
       "      <td>0.0</td>\n",
       "      <td>29.8</td>\n",
       "      <td>29.493548</td>\n",
       "      <td>29.1</td>\n",
       "      <td>29.416129</td>\n",
       "      <td>29.8</td>\n",
       "      <td>29.354839</td>\n",
       "      <td>28.7</td>\n",
       "      <td>0.000000</td>\n",
       "      <td>0.00</td>\n",
       "    </tr>\n",
       "    <tr>\n",
       "      <th>1</th>\n",
       "      <td>Domaine de la Romanee-Conti Echezeaux Grand Cru</td>\n",
       "      <td>Pinot Noir</td>\n",
       "      <td>Flagey-Echezeaux, Cote de Nuits, Cote d'Or, Bu...</td>\n",
       "      <td>3,299.99</td>\n",
       "      <td>Red Wine</td>\n",
       "      <td>0.0</td>\n",
       "      <td>0</td>\n",
       "      <td>2018</td>\n",
       "      <td>95.000000</td>\n",
       "      <td>4</td>\n",
       "      <td>...</td>\n",
       "      <td>0.0</td>\n",
       "      <td>29.9</td>\n",
       "      <td>29.384211</td>\n",
       "      <td>28.9</td>\n",
       "      <td>29.252632</td>\n",
       "      <td>29.8</td>\n",
       "      <td>29.157895</td>\n",
       "      <td>28.8</td>\n",
       "      <td>0.000000</td>\n",
       "      <td>0.00</td>\n",
       "    </tr>\n",
       "    <tr>\n",
       "      <th>2</th>\n",
       "      <td>Lincourt Rancho Santa Rosa Pinot Noir</td>\n",
       "      <td>Pinot Noir</td>\n",
       "      <td>Sta. Rita Hills, Santa Barbara, Central Coast,...</td>\n",
       "      <td>40.99</td>\n",
       "      <td>Red Wine</td>\n",
       "      <td>4.0</td>\n",
       "      <td>31</td>\n",
       "      <td>2018</td>\n",
       "      <td>90.666667</td>\n",
       "      <td>3</td>\n",
       "      <td>...</td>\n",
       "      <td>0.0</td>\n",
       "      <td>30.3</td>\n",
       "      <td>30.135484</td>\n",
       "      <td>29.9</td>\n",
       "      <td>30.064516</td>\n",
       "      <td>30.2</td>\n",
       "      <td>30.000000</td>\n",
       "      <td>29.5</td>\n",
       "      <td>0.087742</td>\n",
       "      <td>2.72</td>\n",
       "    </tr>\n",
       "    <tr>\n",
       "      <th>3</th>\n",
       "      <td>Domaine Claude Dugat Gevrey-Chambertin</td>\n",
       "      <td>Pinot Noir</td>\n",
       "      <td>Gevrey-Chambertin, Cote de Nuits, Cote d'Or, B...</td>\n",
       "      <td>179.99</td>\n",
       "      <td>Red Wine</td>\n",
       "      <td>0.0</td>\n",
       "      <td>0</td>\n",
       "      <td>2020</td>\n",
       "      <td>92.000000</td>\n",
       "      <td>3</td>\n",
       "      <td>...</td>\n",
       "      <td>0.0</td>\n",
       "      <td>29.9</td>\n",
       "      <td>29.558065</td>\n",
       "      <td>29.0</td>\n",
       "      <td>29.477419</td>\n",
       "      <td>29.9</td>\n",
       "      <td>29.400000</td>\n",
       "      <td>28.8</td>\n",
       "      <td>0.000000</td>\n",
       "      <td>0.00</td>\n",
       "    </tr>\n",
       "    <tr>\n",
       "      <th>4</th>\n",
       "      <td>Domaine Prieur-Brunet Santenay Maladiere Premi...</td>\n",
       "      <td>Pinot Noir</td>\n",
       "      <td>Santenay, Cote de Beaune, Cote d'Or, Burgundy,...</td>\n",
       "      <td>65.99</td>\n",
       "      <td>Red Wine</td>\n",
       "      <td>0.0</td>\n",
       "      <td>0</td>\n",
       "      <td>2020</td>\n",
       "      <td>92.333333</td>\n",
       "      <td>3</td>\n",
       "      <td>...</td>\n",
       "      <td>0.0</td>\n",
       "      <td>29.9</td>\n",
       "      <td>29.558065</td>\n",
       "      <td>29.0</td>\n",
       "      <td>29.477419</td>\n",
       "      <td>29.9</td>\n",
       "      <td>29.400000</td>\n",
       "      <td>28.8</td>\n",
       "      <td>0.000000</td>\n",
       "      <td>0.00</td>\n",
       "    </tr>\n",
       "  </tbody>\n",
       "</table>\n",
       "<p>5 rows × 456 columns</p>\n",
       "</div>"
      ],
      "text/plain": [
       "                                        Product_Name Product_Varietal  \\\n",
       "0  Domaine Taupenot-Merme Nuits-Saint-Georges Les...       Pinot Noir   \n",
       "1   Domaine de la Romanee-Conti Echezeaux Grand Cru        Pinot Noir   \n",
       "2             Lincourt Rancho Santa Rosa Pinot Noir        Pinot Noir   \n",
       "3            Domaine Claude Dugat Gevrey-Chambertin        Pinot Noir   \n",
       "4  Domaine Prieur-Brunet Santenay Maladiere Premi...       Pinot Noir   \n",
       "\n",
       "                                      Product_Origin Product_Price  \\\n",
       "0  Nuits-St-Georges, Cote de Nuits, Cote d'Or, Bu...        199.99   \n",
       "1  Flagey-Echezeaux, Cote de Nuits, Cote d'Or, Bu...      3,299.99   \n",
       "2  Sta. Rita Hills, Santa Barbara, Central Coast,...         40.99   \n",
       "3  Gevrey-Chambertin, Cote de Nuits, Cote d'Or, B...        179.99   \n",
       "4  Santenay, Cote de Beaune, Cote d'Or, Burgundy,...         65.99   \n",
       "\n",
       "  Product_Attributes  User_Avg_Rating  User_Rating_Count  Product_Vintage  \\\n",
       "0           Red Wine              0.0                  0             2017   \n",
       "1           Red Wine              0.0                  0             2018   \n",
       "2           Red Wine              4.0                 31             2018   \n",
       "3           Red Wine              0.0                  0             2020   \n",
       "4           Red Wine              0.0                  0             2020   \n",
       "\n",
       "   Critical_Avg_Rating  Critical_Rating_Count  ...  Jan_Min_Low_Wind_Speed   \\\n",
       "0            93.000000                      3  ...                      0.0   \n",
       "1            95.000000                      4  ...                      0.0   \n",
       "2            90.666667                      3  ...                      0.0   \n",
       "3            92.000000                      3  ...                      0.0   \n",
       "4            92.333333                      3  ...                      0.0   \n",
       "\n",
       "  Jan_Max_High_Pressure  Jan_Avg_High_Pressure  Jan_Min_High_Pressure  \\\n",
       "0                  29.8              29.493548                   29.1   \n",
       "1                  29.9              29.384211                   28.9   \n",
       "2                  30.3              30.135484                   29.9   \n",
       "3                  29.9              29.558065                   29.0   \n",
       "4                  29.9              29.558065                   29.0   \n",
       "\n",
       "   Jan_Avg_Pressure  Jan_Max_Low_Pressure  Jan_Avg_Low_Pressure  \\\n",
       "0         29.416129                  29.8             29.354839   \n",
       "1         29.252632                  29.8             29.157895   \n",
       "2         30.064516                  30.2             30.000000   \n",
       "3         29.477419                  29.9             29.400000   \n",
       "4         29.477419                  29.9             29.400000   \n",
       "\n",
       "   Jan_Min_Low_Pressure  Jan_Average_Precipitation  Jan_Total_Precipitation  \n",
       "0                  28.7                   0.000000                     0.00  \n",
       "1                  28.8                   0.000000                     0.00  \n",
       "2                  29.5                   0.087742                     2.72  \n",
       "3                  28.8                   0.000000                     0.00  \n",
       "4                  28.8                   0.000000                     0.00  \n",
       "\n",
       "[5 rows x 456 columns]"
      ]
     },
     "execution_count": 4,
     "metadata": {},
     "output_type": "execute_result"
    }
   ],
   "source": [
    "df.head()"
   ]
  },
  {
   "cell_type": "code",
   "execution_count": 5,
   "id": "ccbcc5af",
   "metadata": {},
   "outputs": [
    {
     "data": {
      "text/plain": [
       "Index(['Product_Name', 'Product_Varietal', 'Product_Origin', 'Product_Price',\n",
       "       'Product_Attributes', 'User_Avg_Rating', 'User_Rating_Count',\n",
       "       'Product_Vintage', 'Critical_Avg_Rating', 'Critical_Rating_Count',\n",
       "       ...\n",
       "       'Jan_Min_Low_Wind_Speed ', 'Jan_Max_High_Pressure',\n",
       "       'Jan_Avg_High_Pressure', 'Jan_Min_High_Pressure', 'Jan_Avg_Pressure',\n",
       "       'Jan_Max_Low_Pressure', 'Jan_Avg_Low_Pressure', 'Jan_Min_Low_Pressure',\n",
       "       'Jan_Average_Precipitation', 'Jan_Total_Precipitation'],\n",
       "      dtype='object', length=456)"
      ]
     },
     "execution_count": 5,
     "metadata": {},
     "output_type": "execute_result"
    }
   ],
   "source": [
    "df.columns"
   ]
  },
  {
   "cell_type": "code",
   "execution_count": 6,
   "id": "10ac16fa",
   "metadata": {},
   "outputs": [
    {
     "data": {
      "text/plain": [
       "(1115, 456)"
      ]
     },
     "execution_count": 6,
     "metadata": {},
     "output_type": "execute_result"
    }
   ],
   "source": [
    "df.shape"
   ]
  },
  {
   "cell_type": "markdown",
   "id": "6458ec79",
   "metadata": {},
   "source": [
    "### Missing Data & Data Type Correction"
   ]
  },
  {
   "cell_type": "code",
   "execution_count": 7,
   "id": "338f4fdf",
   "metadata": {},
   "outputs": [
    {
     "data": {
      "text/plain": [
       "0"
      ]
     },
     "execution_count": 7,
     "metadata": {},
     "output_type": "execute_result"
    }
   ],
   "source": [
    "df.isnull().sum().sum()"
   ]
  },
  {
   "cell_type": "markdown",
   "id": "1f52e237",
   "metadata": {},
   "source": [
    "### Reduce to Input Data and Assign Predictive and Target Feature"
   ]
  },
  {
   "cell_type": "code",
   "execution_count": 8,
   "id": "adc4ccca",
   "metadata": {},
   "outputs": [],
   "source": [
    "# specifying predictive and target features\n",
    "X = df.drop(columns = ['Product_Name', 'Product_Varietal', 'Product_Origin', 'Product_Price',\n",
    "       'Product_Attributes', 'User_Avg_Rating', 'User_Rating_Count',\n",
    "       'Product_Vintage', 'Critical_Avg_Rating', 'Critical_Rating_Count', 'Appellation_Level', 'Weather_Origin'])\n",
    "y = df[['Critical_Avg_Rating']]"
   ]
  },
  {
   "cell_type": "code",
   "execution_count": 9,
   "id": "2eabf3a8",
   "metadata": {},
   "outputs": [
    {
     "data": {
      "text/plain": [
       "Index(['Aug_Max_High_Temperature', 'Aug_Avg_High_Temperature',\n",
       "       'Aug_Min_High_Temperature', 'Aug_Avg_Temperature',\n",
       "       'Aug_Max_Low_Temperature', 'Aug_Avg_Low_Temperature',\n",
       "       'Aug_Min_Low_Temperature', 'Aug_Max_High_ Dew_Point',\n",
       "       'Aug_Avg_High_ Dew_Point', 'Aug_Min_High_ Dew_Point',\n",
       "       ...\n",
       "       'Jan_Min_Low_Wind_Speed ', 'Jan_Max_High_Pressure',\n",
       "       'Jan_Avg_High_Pressure', 'Jan_Min_High_Pressure', 'Jan_Avg_Pressure',\n",
       "       'Jan_Max_Low_Pressure', 'Jan_Avg_Low_Pressure', 'Jan_Min_Low_Pressure',\n",
       "       'Jan_Average_Precipitation', 'Jan_Total_Precipitation'],\n",
       "      dtype='object', length=444)"
      ]
     },
     "execution_count": 9,
     "metadata": {},
     "output_type": "execute_result"
    }
   ],
   "source": [
    "X.columns"
   ]
  },
  {
   "cell_type": "code",
   "execution_count": 10,
   "id": "7c7f2a5f",
   "metadata": {},
   "outputs": [
    {
     "name": "stdout",
     "output_type": "stream",
     "text": [
      "<class 'pandas.core.frame.DataFrame'>\n",
      "RangeIndex: 1115 entries, 0 to 1114\n",
      "Data columns (total 1 columns):\n",
      " #   Column               Non-Null Count  Dtype  \n",
      "---  ------               --------------  -----  \n",
      " 0   Critical_Avg_Rating  1115 non-null   float64\n",
      "dtypes: float64(1)\n",
      "memory usage: 8.8 KB\n"
     ]
    }
   ],
   "source": [
    "y.info()"
   ]
  },
  {
   "cell_type": "code",
   "execution_count": 11,
   "id": "367405fb",
   "metadata": {},
   "outputs": [],
   "source": [
    "# create holdout set to approximate real-world performance\n",
    "X_train, X_test, y_train, y_test = train_test_split(X, \n",
    "                                                    y, \n",
    "                                                    test_size=0.2, \n",
    "                                                    random_state=123)"
   ]
  },
  {
   "cell_type": "markdown",
   "id": "0cd2ad37",
   "metadata": {},
   "source": [
    "### OLS Regression"
   ]
  },
  {
   "cell_type": "code",
   "execution_count": 12,
   "id": "c3c62f03",
   "metadata": {},
   "outputs": [],
   "source": [
    "pipeline = Pipeline([('imputer', SimpleImputer(strategy='median')),\n",
    "                     ('scaler', None),\n",
    "                     ('near_zero_variance', VarianceThreshold()),\n",
    "                     ('regressor', LinearRegression())])"
   ]
  },
  {
   "cell_type": "code",
   "execution_count": 17,
   "id": "b0b089d4",
   "metadata": {
    "scrolled": false
   },
   "outputs": [
    {
     "name": "stdout",
     "output_type": "stream",
     "text": [
      "Best parameter (CV score=-3.480):\n",
      "{'near_zero_variance__threshold': 0.048711598824640115, 'scaler': MinMaxScaler()}\n"
     ]
    }
   ],
   "source": [
    "search_space = [{'near_zero_variance__threshold': uniform(0, 0.05),\n",
    "                 'scaler': [StandardScaler(),  \n",
    "                            MinMaxScaler(), \n",
    "                            RobustScaler(),\n",
    "                            QuantileTransformer()]}]\n",
    "\n",
    "kfold = RepeatedKFold(n_splits=5,\n",
    "                      n_repeats=10,\n",
    "                      random_state=123)\n",
    "\n",
    "lm = RandomizedSearchCV(pipeline,\n",
    "                        param_distributions = search_space,\n",
    "                        n_iter = 200,\n",
    "                        cv = kfold,\n",
    "                        scoring ='neg_mean_squared_error',\n",
    "                        n_jobs = 6,\n",
    "                        random_state = 123)\n",
    "lm.fit(X_train, y_train)\n",
    "\n",
    "print(\"Best parameter (CV score=%0.3f):\" % lm.best_score_)\n",
    "print(lm.best_params_)"
   ]
  },
  {
   "cell_type": "markdown",
   "id": "86716459",
   "metadata": {},
   "source": [
    "### Holdout Performance Metrics"
   ]
  },
  {
   "cell_type": "code",
   "execution_count": 18,
   "id": "06535f05",
   "metadata": {},
   "outputs": [
    {
     "name": "stdout",
     "output_type": "stream",
     "text": [
      "Mean Squared Error (MSE): 3.676310977064465\n"
     ]
    }
   ],
   "source": [
    "# Calculate Mean Squared Error (MSE)\n",
    "mse = mean_squared_error(y_test, lm.predict(X_test))\n",
    "print(\"Mean Squared Error (MSE):\", mse)"
   ]
  },
  {
   "cell_type": "code",
   "execution_count": 19,
   "id": "78a7ba43",
   "metadata": {},
   "outputs": [
    {
     "name": "stdout",
     "output_type": "stream",
     "text": [
      "Root Mean Squared Error (RMSE): 1.9173708501655242\n"
     ]
    }
   ],
   "source": [
    "# Calculate Root Mean Squared Error (RMSE)\n",
    "rmse = mean_squared_error(y_test, lm.predict(X_test), squared=False)\n",
    "print(\"Root Mean Squared Error (RMSE):\", rmse)"
   ]
  },
  {
   "cell_type": "code",
   "execution_count": 20,
   "id": "b52e89a6",
   "metadata": {},
   "outputs": [
    {
     "name": "stdout",
     "output_type": "stream",
     "text": [
      "Mean Absolute Error (MAE): 1.522116505493113\n"
     ]
    }
   ],
   "source": [
    "# Calculate Mean Absolute Error (MAE)\n",
    "mae = mean_absolute_error(y_test, lm.predict(X_test))\n",
    "print(\"Mean Absolute Error (MAE):\", mae)"
   ]
  },
  {
   "cell_type": "code",
   "execution_count": 21,
   "id": "e1ca5644",
   "metadata": {},
   "outputs": [
    {
     "name": "stdout",
     "output_type": "stream",
     "text": [
      "R-squared (R2): -0.11071158306674622\n"
     ]
    }
   ],
   "source": [
    "# Calculate R-squared (R2)\n",
    "r2 = r2_score(y_test, lm.predict(X_test))\n",
    "print(\"R-squared (R2):\", r2)"
   ]
  },
  {
   "cell_type": "code",
   "execution_count": 22,
   "id": "01583b53",
   "metadata": {},
   "outputs": [
    {
     "name": "stdout",
     "output_type": "stream",
     "text": [
      "Explained Variance Score (EVS): -0.10827823316734109\n"
     ]
    }
   ],
   "source": [
    "# Calculate Explained Variance Score (EVS)\n",
    "evs = explained_variance_score(y_test, lm.predict(X_test))\n",
    "print(\"Explained Variance Score (EVS):\", evs)"
   ]
  },
  {
   "cell_type": "markdown",
   "id": "43a61f7f",
   "metadata": {},
   "source": [
    "### Error Distributions"
   ]
  },
  {
   "cell_type": "code",
   "execution_count": 23,
   "id": "7bd53110",
   "metadata": {},
   "outputs": [],
   "source": [
    "error_df = pd.DataFrame(y_test, columns = ['Critical_Avg_Rating'])\n",
    "error_df['y_pred'] = lm.predict(X_test)\n",
    "error_df['residual'] = error_df['Critical_Avg_Rating'] - error_df['y_pred']"
   ]
  },
  {
   "cell_type": "code",
   "execution_count": 37,
   "id": "9add41d9",
   "metadata": {},
   "outputs": [
    {
     "data": {
      "image/png": "[encoded data removed]",
      "text/plain": [
       "<Figure size 640x480 with 1 Axes>"
      ]
     },
     "metadata": {},
     "output_type": "display_data"
    }
   ],
   "source": [
    "sns.residplot(data = error_df, \n",
    "              x = 'y_pred', \n",
    "              y = 'residual')\n",
    "plt.title('OLS Regression - Residual Plot')\n",
    "plt.xlabel('Predicted Values')\n",
    "plt.ylabel('Residuals')\n",
    "plt.show()"
   ]
  },
  {
   "cell_type": "markdown",
   "id": "44f2ea3b",
   "metadata": {},
   "source": [
    "### Write Pipeline to File"
   ]
  },
  {
   "cell_type": "code",
   "execution_count": 34,
   "id": "c97412dc",
   "metadata": {},
   "outputs": [],
   "source": [
    "with open(models_folder + 'lm_ols_best_cv.pkl', 'wb') as f:\n",
    "    dill.dump(lm_best_pipeline, f)"
   ]
  },
  {
   "cell_type": "markdown",
   "id": "6eafef7c",
   "metadata": {},
   "source": [
    "## Ridge Regression"
   ]
  },
  {
   "cell_type": "code",
   "execution_count": 38,
   "id": "5443154b",
   "metadata": {},
   "outputs": [],
   "source": [
    "pipeline = Pipeline([('imputer', SimpleImputer(strategy='median')),\n",
    "                     ('scaler', None),\n",
    "                     ('near_zero_variance', VarianceThreshold()),\n",
    "                     ('regressor', Ridge())])"
   ]
  },
  {
   "cell_type": "code",
   "execution_count": 39,
   "id": "05973302",
   "metadata": {
    "scrolled": false
   },
   "outputs": [
    {
     "name": "stdout",
     "output_type": "stream",
     "text": [
      "Best parameter (CV score=-3.436):\n",
      "{'near_zero_variance__threshold': 0.04595284004636718, 'regressor__alpha': 0.994289919854173, 'scaler': MinMaxScaler()}\n"
     ]
    }
   ],
   "source": [
    "search_space = [{'near_zero_variance__threshold': uniform(0, 0.05),\n",
    "                 'scaler': [StandardScaler(),  \n",
    "                            MinMaxScaler(), \n",
    "                            RobustScaler(),\n",
    "                            QuantileTransformer()],\n",
    "                 'regressor__alpha': uniform(0, 1)}]\n",
    "\n",
    "kfold = RepeatedKFold(n_splits=5,\n",
    "                      n_repeats=10,\n",
    "                      random_state=123)\n",
    "\n",
    "lm = RandomizedSearchCV(pipeline,\n",
    "                        param_distributions = search_space,\n",
    "                        n_iter = 200,\n",
    "                        cv = kfold,\n",
    "                        scoring ='neg_mean_squared_error',\n",
    "                        n_jobs = 6,\n",
    "                        random_state = 123)\n",
    "lm.fit(X_train, y_train)\n",
    "\n",
    "print(\"Best parameter (CV score=%0.3f):\" % lm.best_score_)\n",
    "print(lm.best_params_)"
   ]
  },
  {
   "cell_type": "markdown",
   "id": "fc608db2",
   "metadata": {},
   "source": [
    "### Holdout Performance Metrics"
   ]
  },
  {
   "cell_type": "code",
   "execution_count": 40,
   "id": "f1cd0124",
   "metadata": {},
   "outputs": [
    {
     "name": "stdout",
     "output_type": "stream",
     "text": [
      "Mean Squared Error (MSE): 3.568561150647042\n"
     ]
    }
   ],
   "source": [
    "# Calculate Mean Squared Error (MSE)\n",
    "mse = mean_squared_error(y_test, lm.predict(X_test))\n",
    "print(\"Mean Squared Error (MSE):\", mse)"
   ]
  },
  {
   "cell_type": "code",
   "execution_count": 41,
   "id": "af7a5488",
   "metadata": {},
   "outputs": [
    {
     "name": "stdout",
     "output_type": "stream",
     "text": [
      "Root Mean Squared Error (RMSE): 1.8890635644803067\n"
     ]
    }
   ],
   "source": [
    "# Calculate Root Mean Squared Error (RMSE)\n",
    "rmse = mean_squared_error(y_test, lm.predict(X_test), squared=False)\n",
    "print(\"Root Mean Squared Error (RMSE):\", rmse)"
   ]
  },
  {
   "cell_type": "code",
   "execution_count": 42,
   "id": "86a8c0ae",
   "metadata": {},
   "outputs": [
    {
     "name": "stdout",
     "output_type": "stream",
     "text": [
      "Mean Absolute Error (MAE): 1.5015933750427766\n"
     ]
    }
   ],
   "source": [
    "# Calculate Mean Absolute Error (MAE)\n",
    "mae = mean_absolute_error(y_test, lm.predict(X_test))\n",
    "print(\"Mean Absolute Error (MAE):\", mae)"
   ]
  },
  {
   "cell_type": "code",
   "execution_count": 43,
   "id": "8a086af9",
   "metadata": {},
   "outputs": [
    {
     "name": "stdout",
     "output_type": "stream",
     "text": [
      "R-squared (R2): -0.07815748712059034\n"
     ]
    }
   ],
   "source": [
    "# Calculate R-squared (R2)\n",
    "r2 = r2_score(y_test, lm.predict(X_test))\n",
    "print(\"R-squared (R2):\", r2)"
   ]
  },
  {
   "cell_type": "code",
   "execution_count": 44,
   "id": "318dc74d",
   "metadata": {},
   "outputs": [
    {
     "name": "stdout",
     "output_type": "stream",
     "text": [
      "Explained Variance Score (EVS): -0.07588970948917173\n"
     ]
    }
   ],
   "source": [
    "# Calculate Explained Variance Score (EVS)\n",
    "evs = explained_variance_score(y_test, lm.predict(X_test))\n",
    "print(\"Explained Variance Score (EVS):\", evs)"
   ]
  },
  {
   "cell_type": "markdown",
   "id": "9dfc33cb",
   "metadata": {},
   "source": [
    "### Error Distributions"
   ]
  },
  {
   "cell_type": "code",
   "execution_count": 45,
   "id": "d2623328",
   "metadata": {},
   "outputs": [],
   "source": [
    "error_df = pd.DataFrame(y_test, columns = ['Critical_Avg_Rating'])\n",
    "error_df['y_pred'] = lm.predict(X_test)\n",
    "error_df['residual'] = error_df['Critical_Avg_Rating'] - error_df['y_pred']"
   ]
  },
  {
   "cell_type": "code",
   "execution_count": 46,
   "id": "cecdb16e",
   "metadata": {},
   "outputs": [
    {
     "data": {
      "image/png": "[encoded data removed]",
      "text/plain": [
       "<Figure size 640x480 with 1 Axes>"
      ]
     },
     "metadata": {},
     "output_type": "display_data"
    }
   ],
   "source": [
    "sns.residplot(data = error_df, \n",
    "              x = 'y_pred', \n",
    "              y = 'residual')\n",
    "plt.title('Ridge Regression - Residual Plot')\n",
    "plt.xlabel('Predicted Values')\n",
    "plt.ylabel('Residuals')\n",
    "plt.show()"
   ]
  },
  {
   "cell_type": "markdown",
   "id": "f9fc18a8",
   "metadata": {},
   "source": [
    "### Write Pipeline to File"
   ]
  },
  {
   "cell_type": "code",
   "execution_count": 49,
   "id": "fcffe8b6",
   "metadata": {},
   "outputs": [],
   "source": [
    "with open(models_folder + 'lm_ridge_best_cv.pkl', 'wb') as f:\n",
    "    dill.dump(lm_best_pipeline, f)"
   ]
  },
  {
   "cell_type": "markdown",
   "id": "ee222715",
   "metadata": {},
   "source": [
    "## Lasso Regression"
   ]
  },
  {
   "cell_type": "code",
   "execution_count": 50,
   "id": "ba443a5d",
   "metadata": {},
   "outputs": [],
   "source": [
    "pipeline = Pipeline([('imputer', SimpleImputer(strategy='median')),\n",
    "                     ('scaler', None),\n",
    "                     ('near_zero_variance', VarianceThreshold()),\n",
    "                     ('regressor', Lasso())])"
   ]
  },
  {
   "cell_type": "code",
   "execution_count": 51,
   "id": "ea6a78bf",
   "metadata": {
    "scrolled": false
   },
   "outputs": [
    {
     "name": "stderr",
     "output_type": "stream",
     "text": [
      "C:\\ProgramData\\Anaconda3\\lib\\site-packages\\sklearn\\preprocessing\\_data.py:2590: UserWarning: n_quantiles (1000) is greater than the total number of samples (892). n_quantiles is set to n_samples.\n",
      "  warnings.warn(\n"
     ]
    },
    {
     "name": "stdout",
     "output_type": "stream",
     "text": [
      "Best parameter (CV score=-3.283):\n",
      "{'near_zero_variance__threshold': 0.012256529578073112, 'regressor__alpha': 0.013159831290861401, 'scaler': QuantileTransformer()}\n"
     ]
    }
   ],
   "source": [
    "search_space = [{'near_zero_variance__threshold': uniform(0, 0.05),\n",
    "                 'scaler': [StandardScaler(),  \n",
    "                            MinMaxScaler(), \n",
    "                            RobustScaler(),\n",
    "                            QuantileTransformer()],\n",
    "                 'regressor__alpha': uniform(0, 1)}]\n",
    "\n",
    "kfold = RepeatedKFold(n_splits=5,\n",
    "                      n_repeats=10,\n",
    "                      random_state=123)\n",
    "\n",
    "lm = RandomizedSearchCV(pipeline,\n",
    "                        param_distributions = search_space,\n",
    "                        n_iter = 200,\n",
    "                        cv = kfold,\n",
    "                        scoring ='neg_mean_squared_error',\n",
    "                        n_jobs = 6,\n",
    "                        random_state = 123)\n",
    "lm.fit(X_train, y_train)\n",
    "\n",
    "print(\"Best parameter (CV score=%0.3f):\" % lm.best_score_)\n",
    "print(lm.best_params_)"
   ]
  },
  {
   "cell_type": "markdown",
   "id": "c81be7f3",
   "metadata": {},
   "source": [
    "### Holdout Performance Metrics"
   ]
  },
  {
   "cell_type": "code",
   "execution_count": 52,
   "id": "dce618cc",
   "metadata": {},
   "outputs": [
    {
     "name": "stdout",
     "output_type": "stream",
     "text": [
      "Mean Squared Error (MSE): 3.2501131502007525\n"
     ]
    }
   ],
   "source": [
    "# Calculate Mean Squared Error (MSE)\n",
    "mse = mean_squared_error(y_test, lm.predict(X_test))\n",
    "print(\"Mean Squared Error (MSE):\", mse)"
   ]
  },
  {
   "cell_type": "code",
   "execution_count": 53,
   "id": "436280be",
   "metadata": {},
   "outputs": [
    {
     "name": "stdout",
     "output_type": "stream",
     "text": [
      "Root Mean Squared Error (RMSE): 1.8028070196781332\n"
     ]
    }
   ],
   "source": [
    "# Calculate Root Mean Squared Error (RMSE)\n",
    "rmse = mean_squared_error(y_test, lm.predict(X_test), squared=False)\n",
    "print(\"Root Mean Squared Error (RMSE):\", rmse)"
   ]
  },
  {
   "cell_type": "code",
   "execution_count": 54,
   "id": "4f2cc5ce",
   "metadata": {},
   "outputs": [
    {
     "name": "stdout",
     "output_type": "stream",
     "text": [
      "Mean Absolute Error (MAE): 1.4142010858633376\n"
     ]
    }
   ],
   "source": [
    "# Calculate Mean Absolute Error (MAE)\n",
    "mae = mean_absolute_error(y_test, lm.predict(X_test))\n",
    "print(\"Mean Absolute Error (MAE):\", mae)"
   ]
  },
  {
   "cell_type": "code",
   "execution_count": 55,
   "id": "c00c3965",
   "metadata": {},
   "outputs": [
    {
     "name": "stdout",
     "output_type": "stream",
     "text": [
      "R-squared (R2): 0.01805414592862753\n"
     ]
    }
   ],
   "source": [
    "# Calculate R-squared (R2)\n",
    "r2 = r2_score(y_test, lm.predict(X_test))\n",
    "print(\"R-squared (R2):\", r2)"
   ]
  },
  {
   "cell_type": "code",
   "execution_count": 56,
   "id": "6a0a9899",
   "metadata": {},
   "outputs": [
    {
     "name": "stdout",
     "output_type": "stream",
     "text": [
      "Explained Variance Score (EVS): 0.025666917507592424\n"
     ]
    }
   ],
   "source": [
    "# Calculate Explained Variance Score (EVS)\n",
    "evs = explained_variance_score(y_test, lm.predict(X_test))\n",
    "print(\"Explained Variance Score (EVS):\", evs)"
   ]
  },
  {
   "cell_type": "markdown",
   "id": "e5b31df5",
   "metadata": {},
   "source": [
    "### Error Distributions"
   ]
  },
  {
   "cell_type": "code",
   "execution_count": 57,
   "id": "1706d08b",
   "metadata": {},
   "outputs": [],
   "source": [
    "error_df = pd.DataFrame(y_test, columns = ['Critical_Avg_Rating'])\n",
    "error_df['y_pred'] = lm.predict(X_test)\n",
    "error_df['residual'] = error_df['Critical_Avg_Rating'] - error_df['y_pred']"
   ]
  },
  {
   "cell_type": "code",
   "execution_count": 58,
   "id": "98749aee",
   "metadata": {},
   "outputs": [
    {
     "data": {
      "image/png": "[encoded data removed]",
      "text/plain": [
       "<Figure size 640x480 with 1 Axes>"
      ]
     },
     "metadata": {},
     "output_type": "display_data"
    }
   ],
   "source": [
    "sns.residplot(data = error_df, \n",
    "              x = 'y_pred', \n",
    "              y = 'residual')\n",
    "plt.title('Lasso Regression - Residual Plot')\n",
    "plt.xlabel('Predicted Values')\n",
    "plt.ylabel('Residuals')\n",
    "plt.show()"
   ]
  },
  {
   "cell_type": "markdown",
   "id": "b9a85ec4",
   "metadata": {},
   "source": [
    "### Feature Importance"
   ]
  },
  {
   "cell_type": "code",
   "execution_count": 59,
   "id": "9101de02",
   "metadata": {},
   "outputs": [],
   "source": [
    "lm_best_pipeline = lm.best_estimator_\n",
    "importances = np.abs(lm_best_pipeline.named_steps['regressor'].coef_)\n",
    "indices = np.argsort(importances)[::-1]"
   ]
  },
  {
   "cell_type": "code",
   "execution_count": 60,
   "id": "332af5c9",
   "metadata": {
    "scrolled": true
   },
   "outputs": [
    {
     "name": "stdout",
     "output_type": "stream",
     "text": [
      "Nov_Avg_High_Wind_Speed  = 0.9292587137732992\n",
      "Aug_Max_High_Temperature = 0.8645322068158064\n",
      "Dec_Avg_Wind_Speed  = 0.7461726636450591\n",
      "Mar_Min_High_Temperature = 0.6087139258058272\n",
      "Nov_Avg_Low_Temperature = 0.5466911624519983\n",
      "Sep_Avg_ Dew_Point = 0.518803159776057\n",
      "Jan_Min_High_Wind_Speed  = 0.5171075196322815\n",
      "Sep_Avg_High_Wind_Speed  = 0.5099080713383124\n",
      "May_Max_Low_ Dew_Point = 0.47970669624778267\n",
      "Dec_Max_High_Wind_Speed  = 0.47237117132795187\n"
     ]
    }
   ],
   "source": [
    "n = 10\n",
    "top_n_indices = indices[:n]\n",
    "top_n_features = X.columns[top_n_indices]\n",
    "\n",
    "for feature, importance in zip(top_n_features, importances[top_n_indices]):\n",
    "    print(feature, \"=\", importance)"
   ]
  },
  {
   "cell_type": "markdown",
   "id": "8561f7d2",
   "metadata": {},
   "source": [
    "### Write Pipeline to File"
   ]
  },
  {
   "cell_type": "code",
   "execution_count": 61,
   "id": "5044929f",
   "metadata": {},
   "outputs": [],
   "source": [
    "with open(models_folder + 'lm_lasso_best_cv.pkl', 'wb') as f:\n",
    "    dill.dump(lm_best_pipeline, f)"
   ]
  },
  {
   "cell_type": "markdown",
   "id": "e92b32c3",
   "metadata": {},
   "source": [
    "## ElasticNet Regression"
   ]
  },
  {
   "cell_type": "code",
   "execution_count": 63,
   "id": "bdb68444",
   "metadata": {},
   "outputs": [],
   "source": [
    "pipeline = Pipeline([('imputer', SimpleImputer(strategy='median')),\n",
    "                     ('scaler', None),\n",
    "                     ('near_zero_variance', VarianceThreshold()),\n",
    "                     ('regressor', ElasticNet())])"
   ]
  },
  {
   "cell_type": "code",
   "execution_count": 64,
   "id": "b6a660e8",
   "metadata": {
    "scrolled": false
   },
   "outputs": [
    {
     "name": "stderr",
     "output_type": "stream",
     "text": [
      "C:\\ProgramData\\Anaconda3\\lib\\site-packages\\sklearn\\preprocessing\\_data.py:2590: UserWarning: n_quantiles (1000) is greater than the total number of samples (892). n_quantiles is set to n_samples.\n",
      "  warnings.warn(\n"
     ]
    },
    {
     "name": "stdout",
     "output_type": "stream",
     "text": [
      "Best parameter (CV score=-3.195):\n",
      "{'near_zero_variance__threshold': 0.001117801932897572, 'regressor__alpha': 0.03650631786069114, 'regressor__l1_ratio': 0.038826104373565484, 'scaler': QuantileTransformer()}\n"
     ]
    },
    {
     "name": "stderr",
     "output_type": "stream",
     "text": [
      "C:\\ProgramData\\Anaconda3\\lib\\site-packages\\sklearn\\linear_model\\_coordinate_descent.py:647: ConvergenceWarning: Objective did not converge. You might want to increase the number of iterations, check the scale of the features or consider increasing regularisation. Duality gap: 6.532e+00, tolerance: 3.186e-01\n",
      "  model = cd_fast.enet_coordinate_descent(\n"
     ]
    }
   ],
   "source": [
    "search_space = [{'near_zero_variance__threshold': uniform(0, 0.05),\n",
    "                 'scaler': [StandardScaler(),  \n",
    "                            MinMaxScaler(), \n",
    "                            RobustScaler(),\n",
    "                            QuantileTransformer()],\n",
    "                 'regressor__alpha': uniform(0, 1),\n",
    "                 'regressor__l1_ratio': uniform(0, 1)}]\n",
    "\n",
    "kfold = RepeatedKFold(n_splits=5,\n",
    "                      n_repeats=10,\n",
    "                      random_state=123)\n",
    "\n",
    "lm = RandomizedSearchCV(pipeline,\n",
    "                        param_distributions = search_space,\n",
    "                        n_iter = 200,\n",
    "                        cv = kfold,\n",
    "                        scoring ='neg_mean_squared_error',\n",
    "                        n_jobs = 6,\n",
    "                        random_state = 123)\n",
    "lm.fit(X_train, y_train)\n",
    "\n",
    "print(\"Best parameter (CV score=%0.3f):\" % lm.best_score_)\n",
    "print(lm.best_params_)"
   ]
  },
  {
   "cell_type": "markdown",
   "id": "c28b39a4",
   "metadata": {},
   "source": [
    "### Holdout Performance Metrics"
   ]
  },
  {
   "cell_type": "code",
   "execution_count": 65,
   "id": "26330ee2",
   "metadata": {},
   "outputs": [
    {
     "name": "stdout",
     "output_type": "stream",
     "text": [
      "Mean Squared Error (MSE): 3.2374498983548494\n"
     ]
    }
   ],
   "source": [
    "# Calculate Mean Squared Error (MSE)\n",
    "mse = mean_squared_error(y_test, lm.predict(X_test))\n",
    "print(\"Mean Squared Error (MSE):\", mse)"
   ]
  },
  {
   "cell_type": "code",
   "execution_count": 66,
   "id": "d1fa0b5e",
   "metadata": {},
   "outputs": [
    {
     "name": "stdout",
     "output_type": "stream",
     "text": [
      "Root Mean Squared Error (RMSE): 1.7992914989947708\n"
     ]
    }
   ],
   "source": [
    "# Calculate Root Mean Squared Error (RMSE)\n",
    "rmse = mean_squared_error(y_test, lm.predict(X_test), squared=False)\n",
    "print(\"Root Mean Squared Error (RMSE):\", rmse)"
   ]
  },
  {
   "cell_type": "code",
   "execution_count": 67,
   "id": "5bf32667",
   "metadata": {},
   "outputs": [
    {
     "name": "stdout",
     "output_type": "stream",
     "text": [
      "Mean Absolute Error (MAE): 1.4106697109330046\n"
     ]
    }
   ],
   "source": [
    "# Calculate Mean Absolute Error (MAE)\n",
    "mae = mean_absolute_error(y_test, lm.predict(X_test))\n",
    "print(\"Mean Absolute Error (MAE):\", mae)"
   ]
  },
  {
   "cell_type": "code",
   "execution_count": 68,
   "id": "aea803e6",
   "metadata": {},
   "outputs": [
    {
     "name": "stdout",
     "output_type": "stream",
     "text": [
      "R-squared (R2): 0.021880052004660033\n"
     ]
    }
   ],
   "source": [
    "# Calculate R-squared (R2)\n",
    "r2 = r2_score(y_test, lm.predict(X_test))\n",
    "print(\"R-squared (R2):\", r2)"
   ]
  },
  {
   "cell_type": "code",
   "execution_count": 69,
   "id": "6e784015",
   "metadata": {},
   "outputs": [
    {
     "name": "stdout",
     "output_type": "stream",
     "text": [
      "Explained Variance Score (EVS): 0.028750113182525627\n"
     ]
    }
   ],
   "source": [
    "# Calculate Explained Variance Score (EVS)\n",
    "evs = explained_variance_score(y_test, lm.predict(X_test))\n",
    "print(\"Explained Variance Score (EVS):\", evs)"
   ]
  },
  {
   "cell_type": "markdown",
   "id": "8c4c33be",
   "metadata": {},
   "source": [
    "### Error Distributions"
   ]
  },
  {
   "cell_type": "code",
   "execution_count": 70,
   "id": "0ec3d44a",
   "metadata": {},
   "outputs": [],
   "source": [
    "error_df = pd.DataFrame(y_test, columns = ['Critical_Avg_Rating'])\n",
    "error_df['y_pred'] = lm.predict(X_test)\n",
    "error_df['residual'] = error_df['Critical_Avg_Rating'] - error_df['y_pred']"
   ]
  },
  {
   "cell_type": "code",
   "execution_count": 71,
   "id": "d7e5f440",
   "metadata": {},
   "outputs": [
    {
     "data": {
      "image/png": "[encoded data removed]",
      "text/plain": [
       "<Figure size 640x480 with 1 Axes>"
      ]
     },
     "metadata": {},
     "output_type": "display_data"
    }
   ],
   "source": [
    "sns.residplot(data = error_df, \n",
    "              x = 'y_pred', \n",
    "              y = 'residual')\n",
    "plt.title('ElasticNet Regression - Residual Plot')\n",
    "plt.xlabel('Predicted Values')\n",
    "plt.ylabel('Residuals')\n",
    "plt.show()"
   ]
  },
  {
   "cell_type": "markdown",
   "id": "ae07ebd1",
   "metadata": {},
   "source": [
    "### Feature Importance"
   ]
  },
  {
   "cell_type": "code",
   "execution_count": 72,
   "id": "80bc488c",
   "metadata": {},
   "outputs": [],
   "source": [
    "lm_best_pipeline = lm.best_estimator_\n",
    "importances = np.abs(lm_best_pipeline.named_steps['regressor'].coef_)\n",
    "indices = np.argsort(importances)[::-1]"
   ]
  },
  {
   "cell_type": "code",
   "execution_count": 73,
   "id": "466e27e9",
   "metadata": {
    "scrolled": true
   },
   "outputs": [
    {
     "name": "stdout",
     "output_type": "stream",
     "text": [
      "Nov_Min_High_Wind_Speed  = 0.4036382542950423\n",
      "Aug_Max_High_Temperature = 0.3949017650685469\n",
      "Mar_Min_Low_Temperature = 0.3447792793338659\n",
      "Sep_Avg_Low_Wind_Speed  = 0.32881903532022605\n",
      "Sep_Max_High_Humidity = 0.32813203990059975\n",
      "Sep_Avg_Humidity = 0.32193458389026886\n",
      "Oct_Min_Low_Temperature = 0.32168249708909247\n",
      "Jan_Min_Low_Wind_Speed  = 0.3178994667341056\n",
      "Dec_Max_Low_Wind_Speed  = 0.3120462707404804\n",
      "Mar_Max_High_Wind_Speed  = 0.3117331637628774\n"
     ]
    }
   ],
   "source": [
    "n = 10\n",
    "top_n_indices = indices[:n]\n",
    "top_n_features = X.columns[top_n_indices]\n",
    "\n",
    "for feature, importance in zip(top_n_features, importances[top_n_indices]):\n",
    "    print(feature, \"=\", importance)"
   ]
  },
  {
   "cell_type": "markdown",
   "id": "d372acec",
   "metadata": {},
   "source": [
    "### Write Pipeline to File"
   ]
  },
  {
   "cell_type": "code",
   "execution_count": 74,
   "id": "a23298fb",
   "metadata": {},
   "outputs": [],
   "source": [
    "with open(models_folder + 'lm_elasticnet_best_cv.pkl', 'wb') as f:\n",
    "    dill.dump(lm_best_pipeline, f)"
   ]
  },
  {
   "cell_type": "code",
   "execution_count": null,
   "id": "b4e5f42f",
   "metadata": {},
   "outputs": [],
   "source": []
  }
 ],
 "metadata": {
  "kernelspec": {
   "display_name": "Python 3 (ipykernel)",
   "language": "python",
   "name": "python3"
  },
  "language_info": {
   "codemirror_mode": {
    "name": "ipython",
    "version": 3
   },
   "file_extension": ".py",
   "mimetype": "text/x-python",
   "name": "python",
   "nbconvert_exporter": "python",
   "pygments_lexer": "ipython3",
   "version": "3.9.13"
  }
 },
 "nbformat": 4,
 "nbformat_minor": 5
}
