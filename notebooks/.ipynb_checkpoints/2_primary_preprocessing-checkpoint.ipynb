{
 "cells": [
  {
   "cell_type": "markdown",
   "metadata": {},
   "source": [
    "# Preprocessing - Wine.com"
   ]
  },
  {
   "cell_type": "code",
   "execution_count": 1,
   "metadata": {},
   "outputs": [],
   "source": [
    "#imports\n",
    "import numpy as np\n",
    "import pandas as pd\n",
    "import os\n",
    "import re\n",
    "import string\n",
    "import time"
   ]
  },
  {
   "cell_type": "code",
   "execution_count": 2,
   "metadata": {},
   "outputs": [],
   "source": [
    "#set directory locations\n",
    "current_directory = os.getcwd()\n",
    "parent_directory = os.path.dirname(current_directory)\n",
    "raw_folder = parent_directory + '/data/wine-com/raw/'\n",
    "processed_folder = parent_directory + '/data/wine-com/processed/'"
   ]
  },
  {
   "cell_type": "markdown",
   "metadata": {},
   "source": [
    "### Load Data"
   ]
  },
  {
   "cell_type": "code",
   "execution_count": 3,
   "metadata": {
    "scrolled": false
   },
   "outputs": [],
   "source": [
    "data = dict()\n",
    "\n",
    "with open(raw_folder + '1678665697.3855994.txt', newline='\\r\\n') as file:\n",
    "    header = next(file)\n",
    "    data['lines'] = file.readlines()\n",
    "\n",
    "data['data'] = []\n",
    "\n",
    "for line in data['lines']:\n",
    "    values = line.strip().split('|')\n",
    "    if len(values) == 8:\n",
    "        row = {\n",
    "            'Product_Name': values[0],\n",
    "            'Product_Varietal': values[1],\n",
    "            'Product_Origin': values[2],\n",
    "            'Product_Price': values[3],\n",
    "            'Product_Attributes': values[4],\n",
    "            'Critical_Reviews': values[5],\n",
    "            'User_Avg_Rating': values[6],\n",
    "            'User_Rating_Count': values[7]\n",
    "        }\n",
    "\n",
    "        data['data'].append(row)"
   ]
  },
  {
   "cell_type": "code",
   "execution_count": 4,
   "metadata": {},
   "outputs": [],
   "source": [
    "df = pd.DataFrame(data['data'])"
   ]
  },
  {
   "cell_type": "code",
   "execution_count": 5,
   "metadata": {},
   "outputs": [
    {
     "data": {
      "text/html": [
       "<div>\n",
       "<style scoped>\n",
       "    .dataframe tbody tr th:only-of-type {\n",
       "        vertical-align: middle;\n",
       "    }\n",
       "\n",
       "    .dataframe tbody tr th {\n",
       "        vertical-align: top;\n",
       "    }\n",
       "\n",
       "    .dataframe thead th {\n",
       "        text-align: right;\n",
       "    }\n",
       "</style>\n",
       "<table border=\"1\" class=\"dataframe\">\n",
       "  <thead>\n",
       "    <tr style=\"text-align: right;\">\n",
       "      <th></th>\n",
       "      <th>Product_Name</th>\n",
       "      <th>Product_Varietal</th>\n",
       "      <th>Product_Origin</th>\n",
       "      <th>Product_Price</th>\n",
       "      <th>Product_Attributes</th>\n",
       "      <th>Critical_Reviews</th>\n",
       "      <th>User_Avg_Rating</th>\n",
       "      <th>User_Rating_Count</th>\n",
       "    </tr>\n",
       "  </thead>\n",
       "  <tbody>\n",
       "    <tr>\n",
       "      <th>0</th>\n",
       "      <td>Clos Amador Cava Tendre Rose</td>\n",
       "      <td>Sparkling Rosé</td>\n",
       "      <td>Cava, Spain</td>\n",
       "      <td>12</td>\n",
       "      <td>Sparkling &amp; Champagne,</td>\n",
       "      <td>92</td>\n",
       "      <td>4.3</td>\n",
       "      <td>64</td>\n",
       "    </tr>\n",
       "    <tr>\n",
       "      <th>1</th>\n",
       "      <td>Herdade de Sao Miguel Reserva 2019</td>\n",
       "      <td>Other Red Blends</td>\n",
       "      <td>Alentejo, Portugal</td>\n",
       "      <td>22</td>\n",
       "      <td>Red Wine,</td>\n",
       "      <td>94</td>\n",
       "      <td>4.2</td>\n",
       "      <td>5</td>\n",
       "    </tr>\n",
       "    <tr>\n",
       "      <th>2</th>\n",
       "      <td>Proyecto Salvaje del Moncayo Garnacha 2020</td>\n",
       "      <td>Grenache</td>\n",
       "      <td>Navarra, Spain</td>\n",
       "      <td>12</td>\n",
       "      <td>Red Wine,</td>\n",
       "      <td>92     91</td>\n",
       "      <td>4.6</td>\n",
       "      <td>21</td>\n",
       "    </tr>\n",
       "    <tr>\n",
       "      <th>3</th>\n",
       "      <td>La Lecciaia Orvieto Classico 2021</td>\n",
       "      <td>Other White Blends</td>\n",
       "      <td>Umbria, Italy</td>\n",
       "      <td>12</td>\n",
       "      <td>White Wine,</td>\n",
       "      <td>90</td>\n",
       "      <td>5.0</td>\n",
       "      <td>23</td>\n",
       "    </tr>\n",
       "    <tr>\n",
       "      <th>4</th>\n",
       "      <td>Laurent-Perrier Grand Siecle No. 25</td>\n",
       "      <td>Non-Vintage Sparkling Wine</td>\n",
       "      <td>Champagne, France</td>\n",
       "      <td>250</td>\n",
       "      <td>Sparkling &amp; Champagne,Collectible,</td>\n",
       "      <td>99     97     97     96    95     95</td>\n",
       "      <td>4.7</td>\n",
       "      <td>6</td>\n",
       "    </tr>\n",
       "  </tbody>\n",
       "</table>\n",
       "</div>"
      ],
      "text/plain": [
       "                                 Product_Name            Product_Varietal  \\\n",
       "0                Clos Amador Cava Tendre Rose              Sparkling Rosé   \n",
       "1          Herdade de Sao Miguel Reserva 2019            Other Red Blends   \n",
       "2  Proyecto Salvaje del Moncayo Garnacha 2020                    Grenache   \n",
       "3           La Lecciaia Orvieto Classico 2021          Other White Blends   \n",
       "4         Laurent-Perrier Grand Siecle No. 25  Non-Vintage Sparkling Wine   \n",
       "\n",
       "       Product_Origin Product_Price                  Product_Attributes  \\\n",
       "0         Cava, Spain            12              Sparkling & Champagne,   \n",
       "1  Alentejo, Portugal            22                           Red Wine,   \n",
       "2      Navarra, Spain            12                           Red Wine,   \n",
       "3       Umbria, Italy            12                         White Wine,   \n",
       "4   Champagne, France           250  Sparkling & Champagne,Collectible,   \n",
       "\n",
       "                             Critical_Reviews User_Avg_Rating  \\\n",
       "0                                        92               4.3   \n",
       "1                                        94               4.2   \n",
       "2                                 92     91               4.6   \n",
       "3                                        90               5.0   \n",
       "4      99     97     97     96    95     95               4.7   \n",
       "\n",
       "  User_Rating_Count  \n",
       "0                64  \n",
       "1                 5  \n",
       "2                21  \n",
       "3                23  \n",
       "4                 6  "
      ]
     },
     "execution_count": 5,
     "metadata": {},
     "output_type": "execute_result"
    }
   ],
   "source": [
    "df.head()"
   ]
  },
  {
   "cell_type": "markdown",
   "metadata": {},
   "source": [
    "### Data Preprocessing"
   ]
  },
  {
   "cell_type": "code",
   "execution_count": 6,
   "metadata": {},
   "outputs": [],
   "source": [
    "def parse_vintage(text):\n",
    "    return re.sub(r'\\D', '', text)\n",
    "\n",
    "df['Product_Vintage'] = df['Product_Name'].apply(parse_vintage)"
   ]
  },
  {
   "cell_type": "code",
   "execution_count": 7,
   "metadata": {},
   "outputs": [],
   "source": [
    "def clean_product_name(text):\n",
    "    return re.sub(r'\\d+', '', text)\n",
    "\n",
    "df['Product_Name'] = df['Product_Name'].apply(clean_product_name)"
   ]
  },
  {
   "cell_type": "code",
   "execution_count": 8,
   "metadata": {},
   "outputs": [],
   "source": [
    "def add_price_fractional(text):\n",
    "    return text + '.99'\n",
    "\n",
    "df['Product_Price'] = df['Product_Price'].apply(add_price_fractional)"
   ]
  },
  {
   "cell_type": "code",
   "execution_count": 9,
   "metadata": {},
   "outputs": [],
   "source": [
    "def parse_family(text):\n",
    "    return text.split(',')[0]\n",
    "\n",
    "df['Product_Attributes'] = df['Product_Attributes'].apply(parse_family)"
   ]
  },
  {
   "cell_type": "code",
   "execution_count": 10,
   "metadata": {},
   "outputs": [],
   "source": [
    "def average_critical_scores(text):\n",
    "    scores_string = re.sub(r'^\\s+|\\s+$', '', text)\n",
    "    scores = scores_string.split()\n",
    "    count_score = len(scores)\n",
    "    sum_scores = 0\n",
    "    for score in scores:\n",
    "        sum_scores += int(score)\n",
    "    try:\n",
    "        avg_score = sum_scores/count_score\n",
    "    except Exception:\n",
    "        avg_score = None\n",
    "    return avg_score\n",
    "\n",
    "df['Critical_Avg_Rating'] = df['Critical_Reviews'].apply(average_critical_scores)"
   ]
  },
  {
   "cell_type": "code",
   "execution_count": 11,
   "metadata": {},
   "outputs": [],
   "source": [
    "def count_critical_scores(text):\n",
    "    scores_string = re.sub(r'^\\s+|\\s+$', '', text)\n",
    "    scores = scores_string.split()\n",
    "    count_score = len(scores)\n",
    "    return count_score\n",
    "\n",
    "df['Critical_Rating_Count'] = df['Critical_Reviews'].apply(count_critical_scores)"
   ]
  },
  {
   "cell_type": "code",
   "execution_count": 12,
   "metadata": {},
   "outputs": [],
   "source": [
    "def product_origin_specificity(text):\n",
    "    appellation_list = text.split(',')\n",
    "    appellation_level = len(appellation_list)\n",
    "    return appellation_level\n",
    "\n",
    "df['Appellation_Level'] = df['Product_Origin'].apply(product_origin_specificity)"
   ]
  },
  {
   "cell_type": "markdown",
   "metadata": {},
   "source": [
    "### Data Trimming"
   ]
  },
  {
   "cell_type": "code",
   "execution_count": 13,
   "metadata": {},
   "outputs": [],
   "source": [
    "df = df.drop(columns = ['Critical_Reviews'])"
   ]
  },
  {
   "cell_type": "code",
   "execution_count": 14,
   "metadata": {},
   "outputs": [],
   "source": [
    "df['Product_Vintage'] = df['Product_Vintage'].replace('', 0)\n",
    "df['Product_Vintage'] = df['Product_Vintage'].astype(float)\n",
    "df = df[df['Product_Vintage'] > 1950]\n",
    "df['Product_Vintage'] = df['Product_Vintage'].astype(int)"
   ]
  },
  {
   "cell_type": "code",
   "execution_count": 15,
   "metadata": {},
   "outputs": [],
   "source": [
    "df = df[df['Appellation_Level'] > 1]\n",
    "df = df[df['Appellation_Level'] < 4]"
   ]
  },
  {
   "cell_type": "code",
   "execution_count": 16,
   "metadata": {},
   "outputs": [],
   "source": [
    "df['User_Rating_Count'] = df['User_Rating_Count'].astype(float)\n",
    "df = df[df['User_Rating_Count'] > 0]"
   ]
  },
  {
   "cell_type": "markdown",
   "metadata": {},
   "source": [
    "### Data Review"
   ]
  },
  {
   "cell_type": "code",
   "execution_count": 17,
   "metadata": {},
   "outputs": [
    {
     "data": {
      "text/html": [
       "<div>\n",
       "<style scoped>\n",
       "    .dataframe tbody tr th:only-of-type {\n",
       "        vertical-align: middle;\n",
       "    }\n",
       "\n",
       "    .dataframe tbody tr th {\n",
       "        vertical-align: top;\n",
       "    }\n",
       "\n",
       "    .dataframe thead th {\n",
       "        text-align: right;\n",
       "    }\n",
       "</style>\n",
       "<table border=\"1\" class=\"dataframe\">\n",
       "  <thead>\n",
       "    <tr style=\"text-align: right;\">\n",
       "      <th></th>\n",
       "      <th>Product_Name</th>\n",
       "      <th>Product_Varietal</th>\n",
       "      <th>Product_Origin</th>\n",
       "      <th>Product_Price</th>\n",
       "      <th>Product_Attributes</th>\n",
       "      <th>User_Avg_Rating</th>\n",
       "      <th>User_Rating_Count</th>\n",
       "      <th>Product_Vintage</th>\n",
       "      <th>Critical_Avg_Rating</th>\n",
       "      <th>Critical_Rating_Count</th>\n",
       "      <th>Appellation_Level</th>\n",
       "    </tr>\n",
       "  </thead>\n",
       "  <tbody>\n",
       "    <tr>\n",
       "      <th>1</th>\n",
       "      <td>Herdade de Sao Miguel Reserva</td>\n",
       "      <td>Other Red Blends</td>\n",
       "      <td>Alentejo, Portugal</td>\n",
       "      <td>22.99</td>\n",
       "      <td>Red Wine</td>\n",
       "      <td>4.2</td>\n",
       "      <td>5.0</td>\n",
       "      <td>2019</td>\n",
       "      <td>94.0</td>\n",
       "      <td>1</td>\n",
       "      <td>2</td>\n",
       "    </tr>\n",
       "    <tr>\n",
       "      <th>2</th>\n",
       "      <td>Proyecto Salvaje del Moncayo Garnacha</td>\n",
       "      <td>Grenache</td>\n",
       "      <td>Navarra, Spain</td>\n",
       "      <td>12.99</td>\n",
       "      <td>Red Wine</td>\n",
       "      <td>4.6</td>\n",
       "      <td>21.0</td>\n",
       "      <td>2020</td>\n",
       "      <td>91.5</td>\n",
       "      <td>2</td>\n",
       "      <td>2</td>\n",
       "    </tr>\n",
       "    <tr>\n",
       "      <th>3</th>\n",
       "      <td>La Lecciaia Orvieto Classico</td>\n",
       "      <td>Other White Blends</td>\n",
       "      <td>Umbria, Italy</td>\n",
       "      <td>12.99</td>\n",
       "      <td>White Wine</td>\n",
       "      <td>5.0</td>\n",
       "      <td>23.0</td>\n",
       "      <td>2021</td>\n",
       "      <td>90.0</td>\n",
       "      <td>1</td>\n",
       "      <td>2</td>\n",
       "    </tr>\n",
       "    <tr>\n",
       "      <th>5</th>\n",
       "      <td>Howard Park Flint Rock Shiraz</td>\n",
       "      <td>Syrah/Shiraz</td>\n",
       "      <td>Great Southern, Western Australia, Australia</td>\n",
       "      <td>26.99</td>\n",
       "      <td>Red Wine</td>\n",
       "      <td>4.4</td>\n",
       "      <td>5.0</td>\n",
       "      <td>2019</td>\n",
       "      <td>94.0</td>\n",
       "      <td>1</td>\n",
       "      <td>3</td>\n",
       "    </tr>\n",
       "    <tr>\n",
       "      <th>6</th>\n",
       "      <td>Scott Harvey Mountain Selection Zinfandel</td>\n",
       "      <td>Zinfandel</td>\n",
       "      <td>Amador, Sierra Foothills, California</td>\n",
       "      <td>29.99</td>\n",
       "      <td>Red Wine</td>\n",
       "      <td>4.3</td>\n",
       "      <td>43.0</td>\n",
       "      <td>2019</td>\n",
       "      <td>91.5</td>\n",
       "      <td>2</td>\n",
       "      <td>3</td>\n",
       "    </tr>\n",
       "  </tbody>\n",
       "</table>\n",
       "</div>"
      ],
      "text/plain": [
       "                                 Product_Name    Product_Varietal  \\\n",
       "1              Herdade de Sao Miguel Reserva     Other Red Blends   \n",
       "2      Proyecto Salvaje del Moncayo Garnacha             Grenache   \n",
       "3               La Lecciaia Orvieto Classico   Other White Blends   \n",
       "5              Howard Park Flint Rock Shiraz         Syrah/Shiraz   \n",
       "6  Scott Harvey Mountain Selection Zinfandel            Zinfandel   \n",
       "\n",
       "                                 Product_Origin Product_Price  \\\n",
       "1                            Alentejo, Portugal         22.99   \n",
       "2                                Navarra, Spain         12.99   \n",
       "3                                 Umbria, Italy         12.99   \n",
       "5  Great Southern, Western Australia, Australia         26.99   \n",
       "6          Amador, Sierra Foothills, California         29.99   \n",
       "\n",
       "  Product_Attributes User_Avg_Rating  User_Rating_Count  Product_Vintage  \\\n",
       "1           Red Wine             4.2                5.0             2019   \n",
       "2           Red Wine             4.6               21.0             2020   \n",
       "3         White Wine             5.0               23.0             2021   \n",
       "5           Red Wine             4.4                5.0             2019   \n",
       "6           Red Wine             4.3               43.0             2019   \n",
       "\n",
       "   Critical_Avg_Rating  Critical_Rating_Count  Appellation_Level  \n",
       "1                 94.0                      1                  2  \n",
       "2                 91.5                      2                  2  \n",
       "3                 90.0                      1                  2  \n",
       "5                 94.0                      1                  3  \n",
       "6                 91.5                      2                  3  "
      ]
     },
     "execution_count": 17,
     "metadata": {},
     "output_type": "execute_result"
    }
   ],
   "source": [
    "df.head()"
   ]
  },
  {
   "cell_type": "code",
   "execution_count": 18,
   "metadata": {},
   "outputs": [
    {
     "name": "stdout",
     "output_type": "stream",
     "text": [
      "<class 'pandas.core.frame.DataFrame'>\n",
      "Int64Index: 2881 entries, 1 to 14141\n",
      "Data columns (total 11 columns):\n",
      " #   Column                 Non-Null Count  Dtype  \n",
      "---  ------                 --------------  -----  \n",
      " 0   Product_Name           2881 non-null   object \n",
      " 1   Product_Varietal       2881 non-null   object \n",
      " 2   Product_Origin         2881 non-null   object \n",
      " 3   Product_Price          2881 non-null   object \n",
      " 4   Product_Attributes     2881 non-null   object \n",
      " 5   User_Avg_Rating        2881 non-null   object \n",
      " 6   User_Rating_Count      2881 non-null   float64\n",
      " 7   Product_Vintage        2881 non-null   int32  \n",
      " 8   Critical_Avg_Rating    2004 non-null   float64\n",
      " 9   Critical_Rating_Count  2881 non-null   int64  \n",
      " 10  Appellation_Level      2881 non-null   int64  \n",
      "dtypes: float64(2), int32(1), int64(2), object(6)\n",
      "memory usage: 258.8+ KB\n"
     ]
    }
   ],
   "source": [
    "df.info()"
   ]
  },
  {
   "cell_type": "markdown",
   "metadata": {},
   "source": [
    "### Clean & Write Data"
   ]
  },
  {
   "cell_type": "code",
   "execution_count": 19,
   "metadata": {
    "scrolled": false
   },
   "outputs": [],
   "source": [
    "df.to_csv(processed_folder + '1678665697.3855994.txt',\n",
    "          sep = '|',\n",
    "          index=False)"
   ]
  },
  {
   "cell_type": "code",
   "execution_count": null,
   "metadata": {},
   "outputs": [],
   "source": []
  }
 ],
 "metadata": {
  "interpreter": {
   "hash": "aee8b7b246df8f9039afb4144a1f6fd8d2ca17a180786b69acc140d282b71a49"
  },
  "kernelspec": {
   "display_name": "Python 3 (ipykernel)",
   "language": "python",
   "name": "python3"
  },
  "language_info": {
   "codemirror_mode": {
    "name": "ipython",
    "version": 3
   },
   "file_extension": ".py",
   "mimetype": "text/x-python",
   "name": "python",
   "nbconvert_exporter": "python",
   "pygments_lexer": "ipython3",
   "version": "3.9.13"
  }
 },
 "nbformat": 4,
 "nbformat_minor": 2
}
